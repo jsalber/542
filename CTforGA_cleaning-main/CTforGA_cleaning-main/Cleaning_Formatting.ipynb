{
 "cells": [
  {
   "cell_type": "markdown",
   "metadata": {},
   "source": [
    "<center><img src=\"http://i.imgur.com/sSaOozN.png\" width=\"500\"></center>"
   ]
  },
  {
   "cell_type": "markdown",
   "metadata": {},
   "source": [
    "## Course: Computational Thinking for Governance Analytics\n",
    "\n",
    "### Prof. José Manuel Magallanes, PhD \n",
    "* Visiting Professor of Computational Policy at Evans School of Public Policy and Governance, and eScience Institute Senior Data Science Fellow, University of Washington.\n",
    "* Professor of Government and Political Methodology, Pontificia Universidad Católica del Perú. \n",
    "\n",
    "_____\n",
    "\n",
    "# Session 2:  Data Cleaning and Formatting in Python\n",
    "<a id='beginning'></a>"
   ]
  },
  {
   "cell_type": "markdown",
   "metadata": {},
   "source": [
    "Having collected the data does not always allow you to produce some analytics right away. There is often a lot of pre processing to be done. \n",
    "\n",
    "This session is about:\n",
    "\n",
    "* Cleaning: making sure each cell has a value that could be used in your coming procedures. The _impurities_ do not allow formatting the data correctly: commas instead of points and viceversa, blanks/spaces, unneeded symbols (dollar, euro symbols), or non-standard symbols to represent missing values.\n",
    "\n",
    "* Fomatting: making sure the clean value is in the right data type. if you are going to do text analysis, you may need to get rid of repetitive words, normalize them into lower case, and turn them back to their root or stem. For statistical work, you need to differentiate among nominal, ordinal, numerical and strings.\n",
    "\n",
    "Take a look at the tables in this wikipedia page, pay attention to:\n",
    "\n",
    "- The values of each index.\n",
    "- The table of indices for all countries measured.\n",
    "\n",
    "There is a table on disputed territories, you can skip that one."
   ]
  },
  {
   "cell_type": "code",
   "execution_count": 1,
   "metadata": {},
   "outputs": [
    {
     "data": {
      "text/html": [
       "\n",
       "        <iframe\n",
       "            width=\"900\"\n",
       "            height=\"500\"\n",
       "            src=\"https://en.wikipedia.org/wiki/List_of_freedom_indices\"\n",
       "            frameborder=\"0\"\n",
       "            allowfullscreen\n",
       "            \n",
       "        ></iframe>\n",
       "        "
      ],
      "text/plain": [
       "<IPython.lib.display.IFrame at 0x262372d16a0>"
      ]
     },
     "execution_count": 1,
     "metadata": {},
     "output_type": "execute_result"
    }
   ],
   "source": [
    "from IPython.display import IFrame  \n",
    "wikiLink=\"https://en.wikipedia.org/wiki/List_of_freedom_indices\" \n",
    "IFrame(wikiLink, width=900, height=500)"
   ]
  },
  {
   "cell_type": "markdown",
   "metadata": {},
   "source": [
    "You should have observed the following:\n",
    "\n",
    "1. The values of each index:\n",
    "   - Varies from three to five **level** values. \n",
    "   - They use different **level** names.\n",
    "   - The levels are **ordinal**.\n",
    "2. The table of countries:\n",
    "   - The column names has very long **column names**. \n",
    "   - The column names include **footnotes**.\n",
    "   - The presence of **images** (the flags) in the country column.\n",
    "   - The use on \"n/a\" for **missing values**."
   ]
  },
  {
   "cell_type": "markdown",
   "metadata": {},
   "source": [
    "Let's try to get the table using pandas:"
   ]
  },
  {
   "cell_type": "code",
   "execution_count": 2,
   "metadata": {},
   "outputs": [],
   "source": [
    "import pandas as pd\n",
    "\n",
    "wikiTables=pd.read_html(wikiLink, # link\n",
    "                        #header=0, # where is the header?\n",
    "                        flavor='bs4', # helper to translate html\n",
    "                        attrs={'class': 'wikitable sortable'}) # attributes to identify element(s)"
   ]
  },
  {
   "cell_type": "markdown",
   "metadata": {},
   "source": [
    "The object **wikiTables** is a list. I know before hand that it has only one table as data frame:"
   ]
  },
  {
   "cell_type": "code",
   "execution_count": 3,
   "metadata": {},
   "outputs": [
    {
     "data": {
      "text/html": [
       "<div>\n",
       "<style scoped>\n",
       "    .dataframe tbody tr th:only-of-type {\n",
       "        vertical-align: middle;\n",
       "    }\n",
       "\n",
       "    .dataframe tbody tr th {\n",
       "        vertical-align: top;\n",
       "    }\n",
       "\n",
       "    .dataframe thead th {\n",
       "        text-align: right;\n",
       "    }\n",
       "</style>\n",
       "<table border=\"1\" class=\"dataframe\">\n",
       "  <thead>\n",
       "    <tr style=\"text-align: right;\">\n",
       "      <th></th>\n",
       "      <th>Country</th>\n",
       "      <th>Freedom in the World 2021[11]</th>\n",
       "      <th>2021 Index of Economic Freedom[12]</th>\n",
       "      <th>2021 Press Freedom Index[3]</th>\n",
       "      <th>2020 Democracy Index[15]</th>\n",
       "    </tr>\n",
       "  </thead>\n",
       "  <tbody>\n",
       "    <tr>\n",
       "      <th>0</th>\n",
       "      <td>Afghanistan</td>\n",
       "      <td>not free</td>\n",
       "      <td>mostly unfree</td>\n",
       "      <td>difficult situation</td>\n",
       "      <td>authoritarian regime</td>\n",
       "    </tr>\n",
       "    <tr>\n",
       "      <th>1</th>\n",
       "      <td>Albania</td>\n",
       "      <td>partly free</td>\n",
       "      <td>moderately free</td>\n",
       "      <td>noticeable problems</td>\n",
       "      <td>flawed democracy</td>\n",
       "    </tr>\n",
       "    <tr>\n",
       "      <th>2</th>\n",
       "      <td>Algeria</td>\n",
       "      <td>not free</td>\n",
       "      <td>repressed</td>\n",
       "      <td>difficult situation</td>\n",
       "      <td>authoritarian regime</td>\n",
       "    </tr>\n",
       "    <tr>\n",
       "      <th>3</th>\n",
       "      <td>Andorra</td>\n",
       "      <td>free</td>\n",
       "      <td>NaN</td>\n",
       "      <td>satisfactory situation</td>\n",
       "      <td>NaN</td>\n",
       "    </tr>\n",
       "    <tr>\n",
       "      <th>4</th>\n",
       "      <td>Angola</td>\n",
       "      <td>not free</td>\n",
       "      <td>mostly unfree</td>\n",
       "      <td>noticeable problems</td>\n",
       "      <td>authoritarian regime</td>\n",
       "    </tr>\n",
       "    <tr>\n",
       "      <th>...</th>\n",
       "      <td>...</td>\n",
       "      <td>...</td>\n",
       "      <td>...</td>\n",
       "      <td>...</td>\n",
       "      <td>...</td>\n",
       "    </tr>\n",
       "    <tr>\n",
       "      <th>192</th>\n",
       "      <td>Venezuela</td>\n",
       "      <td>not free</td>\n",
       "      <td>repressed</td>\n",
       "      <td>difficult situation</td>\n",
       "      <td>authoritarian regime</td>\n",
       "    </tr>\n",
       "    <tr>\n",
       "      <th>193</th>\n",
       "      <td>Vietnam</td>\n",
       "      <td>not free</td>\n",
       "      <td>moderately free</td>\n",
       "      <td>very serious situation</td>\n",
       "      <td>authoritarian regime</td>\n",
       "    </tr>\n",
       "    <tr>\n",
       "      <th>194</th>\n",
       "      <td>Yemen</td>\n",
       "      <td>not free</td>\n",
       "      <td>NaN</td>\n",
       "      <td>very serious situation</td>\n",
       "      <td>authoritarian regime</td>\n",
       "    </tr>\n",
       "    <tr>\n",
       "      <th>195</th>\n",
       "      <td>Zambia</td>\n",
       "      <td>partly free</td>\n",
       "      <td>mostly unfree</td>\n",
       "      <td>difficult situation</td>\n",
       "      <td>hybrid regime</td>\n",
       "    </tr>\n",
       "    <tr>\n",
       "      <th>196</th>\n",
       "      <td>Zimbabwe</td>\n",
       "      <td>not free</td>\n",
       "      <td>repressed</td>\n",
       "      <td>difficult situation</td>\n",
       "      <td>authoritarian regime</td>\n",
       "    </tr>\n",
       "  </tbody>\n",
       "</table>\n",
       "<p>197 rows × 5 columns</p>\n",
       "</div>"
      ],
      "text/plain": [
       "         Country Freedom in the World 2021[11]  \\\n",
       "0    Afghanistan                      not free   \n",
       "1        Albania                   partly free   \n",
       "2        Algeria                      not free   \n",
       "3        Andorra                          free   \n",
       "4         Angola                      not free   \n",
       "..           ...                           ...   \n",
       "192    Venezuela                      not free   \n",
       "193      Vietnam                      not free   \n",
       "194        Yemen                      not free   \n",
       "195       Zambia                   partly free   \n",
       "196     Zimbabwe                      not free   \n",
       "\n",
       "    2021 Index of Economic Freedom[12] 2021 Press Freedom Index[3]  \\\n",
       "0                        mostly unfree         difficult situation   \n",
       "1                      moderately free         noticeable problems   \n",
       "2                            repressed         difficult situation   \n",
       "3                                  NaN      satisfactory situation   \n",
       "4                        mostly unfree         noticeable problems   \n",
       "..                                 ...                         ...   \n",
       "192                          repressed         difficult situation   \n",
       "193                    moderately free      very serious situation   \n",
       "194                                NaN      very serious situation   \n",
       "195                      mostly unfree         difficult situation   \n",
       "196                          repressed         difficult situation   \n",
       "\n",
       "    2020 Democracy Index[15]  \n",
       "0       authoritarian regime  \n",
       "1           flawed democracy  \n",
       "2       authoritarian regime  \n",
       "3                        NaN  \n",
       "4       authoritarian regime  \n",
       "..                       ...  \n",
       "192     authoritarian regime  \n",
       "193     authoritarian regime  \n",
       "194     authoritarian regime  \n",
       "195            hybrid regime  \n",
       "196     authoritarian regime  \n",
       "\n",
       "[197 rows x 5 columns]"
      ]
     },
     "execution_count": 3,
     "metadata": {},
     "output_type": "execute_result"
    }
   ],
   "source": [
    "wikiTables[0] # you should vary this index until you get the table you need!"
   ]
  },
  {
   "cell_type": "markdown",
   "metadata": {},
   "source": [
    "Pandas will show you the _head_ and the _tail_ of the dataframe. There you can verify if the column names are well positioned. Let me save the data frame temporarily:"
   ]
  },
  {
   "cell_type": "code",
   "execution_count": 4,
   "metadata": {},
   "outputs": [],
   "source": [
    "DF=wikiTables[0]"
   ]
  },
  {
   "cell_type": "markdown",
   "metadata": {},
   "source": [
    "From the previous preview, you know that: \n",
    "1. Cleaning: You need to rename the columns. You will learn pandas' **rename()**.\n",
    "2. Cleaning: You need to verify if the column _Country_ is clean: What was caused by the presence of flags?\n",
    "3. Cleaning: Verify that level names are consistent: the _same_ level may have a slightly different label. You will learn  **value_counts()**.\n",
    "4. Formatting: Check what data types have been recognised. Use **describe()** and/or **info**().\n",
    "4. Formatting: Put each column in the right data type if needed.\n",
    "\n",
    "Notice that Pandas was able to detect the poorly labelled missing value 'n\\a' and turned it into the right value: **NaN**.\n",
    "\n",
    "Let's start!\n",
    "\n",
    "# I. Cleaning"
   ]
  },
  {
   "cell_type": "markdown",
   "metadata": {},
   "source": [
    "As you will be changing the data frame, make a copy first: "
   ]
  },
  {
   "cell_type": "code",
   "execution_count": 5,
   "metadata": {},
   "outputs": [],
   "source": [
    "DFTest=DF.copy() # working with a copy..."
   ]
  },
  {
   "cell_type": "markdown",
   "metadata": {},
   "source": [
    "##  **Renaming columns**\n",
    "\n",
    "Headers names should be simple, no *blanks*, no special characters, no *footnote* calls. We have that problem. You can try these strategies:\n",
    "1. Using __Brute-force__ strategy: I simply change the names. Very practical when you have few names."
   ]
  },
  {
   "cell_type": "code",
   "execution_count": 6,
   "metadata": {},
   "outputs": [
    {
     "data": {
      "text/html": [
       "<div>\n",
       "<style scoped>\n",
       "    .dataframe tbody tr th:only-of-type {\n",
       "        vertical-align: middle;\n",
       "    }\n",
       "\n",
       "    .dataframe tbody tr th {\n",
       "        vertical-align: top;\n",
       "    }\n",
       "\n",
       "    .dataframe thead th {\n",
       "        text-align: right;\n",
       "    }\n",
       "</style>\n",
       "<table border=\"1\" class=\"dataframe\">\n",
       "  <thead>\n",
       "    <tr style=\"text-align: right;\">\n",
       "      <th></th>\n",
       "      <th>Country</th>\n",
       "      <th>FreedomintheWorld</th>\n",
       "      <th>IndexofEconomicFreedom</th>\n",
       "      <th>PressFreedomIndex</th>\n",
       "      <th>DemocracyIndex</th>\n",
       "    </tr>\n",
       "  </thead>\n",
       "  <tbody>\n",
       "    <tr>\n",
       "      <th>0</th>\n",
       "      <td>Afghanistan</td>\n",
       "      <td>not free</td>\n",
       "      <td>mostly unfree</td>\n",
       "      <td>difficult situation</td>\n",
       "      <td>authoritarian regime</td>\n",
       "    </tr>\n",
       "    <tr>\n",
       "      <th>1</th>\n",
       "      <td>Albania</td>\n",
       "      <td>partly free</td>\n",
       "      <td>moderately free</td>\n",
       "      <td>noticeable problems</td>\n",
       "      <td>flawed democracy</td>\n",
       "    </tr>\n",
       "    <tr>\n",
       "      <th>2</th>\n",
       "      <td>Algeria</td>\n",
       "      <td>not free</td>\n",
       "      <td>repressed</td>\n",
       "      <td>difficult situation</td>\n",
       "      <td>authoritarian regime</td>\n",
       "    </tr>\n",
       "    <tr>\n",
       "      <th>3</th>\n",
       "      <td>Andorra</td>\n",
       "      <td>free</td>\n",
       "      <td>NaN</td>\n",
       "      <td>satisfactory situation</td>\n",
       "      <td>NaN</td>\n",
       "    </tr>\n",
       "    <tr>\n",
       "      <th>4</th>\n",
       "      <td>Angola</td>\n",
       "      <td>not free</td>\n",
       "      <td>mostly unfree</td>\n",
       "      <td>noticeable problems</td>\n",
       "      <td>authoritarian regime</td>\n",
       "    </tr>\n",
       "  </tbody>\n",
       "</table>\n",
       "</div>"
      ],
      "text/plain": [
       "       Country FreedomintheWorld IndexofEconomicFreedom  \\\n",
       "0  Afghanistan          not free          mostly unfree   \n",
       "1      Albania       partly free        moderately free   \n",
       "2      Algeria          not free              repressed   \n",
       "3      Andorra              free                    NaN   \n",
       "4       Angola          not free          mostly unfree   \n",
       "\n",
       "        PressFreedomIndex        DemocracyIndex  \n",
       "0     difficult situation  authoritarian regime  \n",
       "1     noticeable problems      flawed democracy  \n",
       "2     difficult situation  authoritarian regime  \n",
       "3  satisfactory situation                   NaN  \n",
       "4     noticeable problems  authoritarian regime  "
      ]
     },
     "execution_count": 6,
     "metadata": {},
     "output_type": "execute_result"
    }
   ],
   "source": [
    "# all columns\n",
    "DFTest.columns=['Country', 'FreedomintheWorld', 'IndexofEconomicFreedom','PressFreedomIndex', 'DemocracyIndex']\n",
    "#see changes:\n",
    "DFTest.head()"
   ]
  },
  {
   "cell_type": "markdown",
   "metadata": {},
   "source": [
    "2.  Using **rename()** from Pandas: The advantage is that you can change some, not all, names."
   ]
  },
  {
   "cell_type": "code",
   "execution_count": 7,
   "metadata": {},
   "outputs": [],
   "source": [
    "DFTest=DF.copy() # recreating DFTest\n",
    "\n",
    "# some new names:\n",
    "someNewNames=['FreedomintheWorld', 'IndexofEconomicFreedom','PressFreedomIndex', 'DemocracyIndex']"
   ]
  },
  {
   "cell_type": "markdown",
   "metadata": {},
   "source": [
    "Now, the current names that need to be altered:"
   ]
  },
  {
   "cell_type": "code",
   "execution_count": 8,
   "metadata": {},
   "outputs": [
    {
     "data": {
      "text/plain": [
       "Index(['Freedom in the World 2021[11]', '2021 Index of Economic Freedom[12]',\n",
       "       '2021 Press Freedom Index[3]', '2020 Democracy Index[15]'],\n",
       "      dtype='object')"
      ]
     },
     "execution_count": 8,
     "metadata": {},
     "output_type": "execute_result"
    }
   ],
   "source": [
    "namesToBeAltered=DFTest.columns[1::] # current column names-all but the first.\n",
    "\n",
    "##see\n",
    "namesToBeAltered"
   ]
  },
  {
   "cell_type": "markdown",
   "metadata": {},
   "source": [
    "Here, we create a dictionary where the **key** is the original name, and the **value** is the new value:"
   ]
  },
  {
   "cell_type": "code",
   "execution_count": 9,
   "metadata": {},
   "outputs": [
    {
     "data": {
      "text/plain": [
       "{'Freedom in the World 2021[11]': 'FreedomintheWorld',\n",
       " '2021 Index of Economic Freedom[12]': 'IndexofEconomicFreedom',\n",
       " '2021 Press Freedom Index[3]': 'PressFreedomIndex',\n",
       " '2020 Democracy Index[15]': 'DemocracyIndex'}"
      ]
     },
     "execution_count": 9,
     "metadata": {},
     "output_type": "execute_result"
    }
   ],
   "source": [
    "dictForChanges=dict(zip(namesToBeAltered, someNewNames))\n",
    "\n",
    "# see:\n",
    "dictForChanges"
   ]
  },
  {
   "cell_type": "markdown",
   "metadata": {},
   "source": [
    "I will use the previous dict when renaming:"
   ]
  },
  {
   "cell_type": "code",
   "execution_count": 10,
   "metadata": {},
   "outputs": [],
   "source": [
    "DFTest.rename(columns=dictForChanges,inplace=True)"
   ]
  },
  {
   "cell_type": "markdown",
   "metadata": {},
   "source": [
    "Take a look now:"
   ]
  },
  {
   "cell_type": "code",
   "execution_count": 11,
   "metadata": {},
   "outputs": [
    {
     "data": {
      "text/html": [
       "<div>\n",
       "<style scoped>\n",
       "    .dataframe tbody tr th:only-of-type {\n",
       "        vertical-align: middle;\n",
       "    }\n",
       "\n",
       "    .dataframe tbody tr th {\n",
       "        vertical-align: top;\n",
       "    }\n",
       "\n",
       "    .dataframe thead th {\n",
       "        text-align: right;\n",
       "    }\n",
       "</style>\n",
       "<table border=\"1\" class=\"dataframe\">\n",
       "  <thead>\n",
       "    <tr style=\"text-align: right;\">\n",
       "      <th></th>\n",
       "      <th>Country</th>\n",
       "      <th>FreedomintheWorld</th>\n",
       "      <th>IndexofEconomicFreedom</th>\n",
       "      <th>PressFreedomIndex</th>\n",
       "      <th>DemocracyIndex</th>\n",
       "    </tr>\n",
       "  </thead>\n",
       "  <tbody>\n",
       "    <tr>\n",
       "      <th>0</th>\n",
       "      <td>Afghanistan</td>\n",
       "      <td>not free</td>\n",
       "      <td>mostly unfree</td>\n",
       "      <td>difficult situation</td>\n",
       "      <td>authoritarian regime</td>\n",
       "    </tr>\n",
       "    <tr>\n",
       "      <th>1</th>\n",
       "      <td>Albania</td>\n",
       "      <td>partly free</td>\n",
       "      <td>moderately free</td>\n",
       "      <td>noticeable problems</td>\n",
       "      <td>flawed democracy</td>\n",
       "    </tr>\n",
       "    <tr>\n",
       "      <th>2</th>\n",
       "      <td>Algeria</td>\n",
       "      <td>not free</td>\n",
       "      <td>repressed</td>\n",
       "      <td>difficult situation</td>\n",
       "      <td>authoritarian regime</td>\n",
       "    </tr>\n",
       "    <tr>\n",
       "      <th>3</th>\n",
       "      <td>Andorra</td>\n",
       "      <td>free</td>\n",
       "      <td>NaN</td>\n",
       "      <td>satisfactory situation</td>\n",
       "      <td>NaN</td>\n",
       "    </tr>\n",
       "    <tr>\n",
       "      <th>4</th>\n",
       "      <td>Angola</td>\n",
       "      <td>not free</td>\n",
       "      <td>mostly unfree</td>\n",
       "      <td>noticeable problems</td>\n",
       "      <td>authoritarian regime</td>\n",
       "    </tr>\n",
       "    <tr>\n",
       "      <th>...</th>\n",
       "      <td>...</td>\n",
       "      <td>...</td>\n",
       "      <td>...</td>\n",
       "      <td>...</td>\n",
       "      <td>...</td>\n",
       "    </tr>\n",
       "    <tr>\n",
       "      <th>192</th>\n",
       "      <td>Venezuela</td>\n",
       "      <td>not free</td>\n",
       "      <td>repressed</td>\n",
       "      <td>difficult situation</td>\n",
       "      <td>authoritarian regime</td>\n",
       "    </tr>\n",
       "    <tr>\n",
       "      <th>193</th>\n",
       "      <td>Vietnam</td>\n",
       "      <td>not free</td>\n",
       "      <td>moderately free</td>\n",
       "      <td>very serious situation</td>\n",
       "      <td>authoritarian regime</td>\n",
       "    </tr>\n",
       "    <tr>\n",
       "      <th>194</th>\n",
       "      <td>Yemen</td>\n",
       "      <td>not free</td>\n",
       "      <td>NaN</td>\n",
       "      <td>very serious situation</td>\n",
       "      <td>authoritarian regime</td>\n",
       "    </tr>\n",
       "    <tr>\n",
       "      <th>195</th>\n",
       "      <td>Zambia</td>\n",
       "      <td>partly free</td>\n",
       "      <td>mostly unfree</td>\n",
       "      <td>difficult situation</td>\n",
       "      <td>hybrid regime</td>\n",
       "    </tr>\n",
       "    <tr>\n",
       "      <th>196</th>\n",
       "      <td>Zimbabwe</td>\n",
       "      <td>not free</td>\n",
       "      <td>repressed</td>\n",
       "      <td>difficult situation</td>\n",
       "      <td>authoritarian regime</td>\n",
       "    </tr>\n",
       "  </tbody>\n",
       "</table>\n",
       "<p>197 rows × 5 columns</p>\n",
       "</div>"
      ],
      "text/plain": [
       "         Country FreedomintheWorld IndexofEconomicFreedom  \\\n",
       "0    Afghanistan          not free          mostly unfree   \n",
       "1        Albania       partly free        moderately free   \n",
       "2        Algeria          not free              repressed   \n",
       "3        Andorra              free                    NaN   \n",
       "4         Angola          not free          mostly unfree   \n",
       "..           ...               ...                    ...   \n",
       "192    Venezuela          not free              repressed   \n",
       "193      Vietnam          not free        moderately free   \n",
       "194        Yemen          not free                    NaN   \n",
       "195       Zambia       partly free          mostly unfree   \n",
       "196     Zimbabwe          not free              repressed   \n",
       "\n",
       "          PressFreedomIndex        DemocracyIndex  \n",
       "0       difficult situation  authoritarian regime  \n",
       "1       noticeable problems      flawed democracy  \n",
       "2       difficult situation  authoritarian regime  \n",
       "3    satisfactory situation                   NaN  \n",
       "4       noticeable problems  authoritarian regime  \n",
       "..                      ...                   ...  \n",
       "192     difficult situation  authoritarian regime  \n",
       "193  very serious situation  authoritarian regime  \n",
       "194  very serious situation  authoritarian regime  \n",
       "195     difficult situation         hybrid regime  \n",
       "196     difficult situation  authoritarian regime  \n",
       "\n",
       "[197 rows x 5 columns]"
      ]
     },
     "execution_count": 11,
     "metadata": {},
     "output_type": "execute_result"
    }
   ],
   "source": [
    "DFTest"
   ]
  },
  {
   "cell_type": "markdown",
   "metadata": {},
   "source": [
    "3. Enter __Computational thinking in cleaning__\n",
    "\n",
    "When dealing with bigger data sets, you need to get used to automating the cleaning process. It is not possible 100%, but the more you can automate, the better. In general, you will have some strategies for cleaning, which can be used alone or in tandem:\n",
    "\n",
    "3.1. Regular expression or _REGEX_ approach.\n",
    "\n",
    "3.2. Partitioning or _Divide and Conquer_ approach.\n",
    "\n",
    "There are also some particular functions from base Python you will learn on the way."
   ]
  },
  {
   "cell_type": "markdown",
   "metadata": {},
   "source": [
    "**<font color=\"blue\">3.1 REGEX APPROACH</font>** \n",
    "\n",
    "This approach will use some special coding to extract or delete particular pieces of text. You will first need to call this library, before anything else:"
   ]
  },
  {
   "cell_type": "code",
   "execution_count": 12,
   "metadata": {},
   "outputs": [],
   "source": [
    "import re"
   ]
  },
  {
   "cell_type": "markdown",
   "metadata": {},
   "source": [
    "Let's show you how this works using this example string:"
   ]
  },
  {
   "cell_type": "code",
   "execution_count": 13,
   "metadata": {},
   "outputs": [],
   "source": [
    "textExample=\"Freedom in the World 2021[11]\""
   ]
  },
  {
   "cell_type": "markdown",
   "metadata": {},
   "source": [
    "In the text above, I just need to keep: \"**variables**\":"
   ]
  },
  {
   "cell_type": "code",
   "execution_count": 14,
   "metadata": {},
   "outputs": [
    {
     "data": {
      "text/plain": [
       "'FreedomintheWorld'"
      ]
     },
     "execution_count": 14,
     "metadata": {},
     "output_type": "execute_result"
    }
   ],
   "source": [
    "# one or more blanks: \\\\s+\n",
    "# one or more numbers: \\\\d+\n",
    "# find opening bracket : \\\\[\n",
    "# find closing bracket: \\\\]\n",
    "\n",
    "# You can combine using '|' (or):\n",
    "WhenYouFind='\\\\s+|\\\\d+|\\\\[|\\\\]'\n",
    "replaceWith=''\n",
    "\n",
    "# use it:\n",
    "re.sub(WhenYouFind,replaceWith,textExample)"
   ]
  },
  {
   "cell_type": "markdown",
   "metadata": {},
   "source": [
    "I use the function in one string, now I want to use it in a group of elements, the column names, **would it work**??"
   ]
  },
  {
   "cell_type": "code",
   "execution_count": null,
   "metadata": {},
   "outputs": [],
   "source": [
    "# this will not work:\n",
    "#re.sub(WhenYouFind,replaceWith,DFTest.columns)"
   ]
  },
  {
   "cell_type": "markdown",
   "metadata": {},
   "source": [
    "We have to make changes one by one. Let's use Python's list comprehension:"
   ]
  },
  {
   "cell_type": "code",
   "execution_count": 15,
   "metadata": {},
   "outputs": [
    {
     "data": {
      "text/plain": [
       "['Country',\n",
       " 'FreedomintheWorld',\n",
       " 'IndexofEconomicFreedom',\n",
       " 'PressFreedomIndex',\n",
       " 'DemocracyIndex']"
      ]
     },
     "execution_count": 15,
     "metadata": {},
     "output_type": "execute_result"
    }
   ],
   "source": [
    "# substitute the elements in each NAME in the COLUMNS:\n",
    "[re.sub(WhenYouFind,replaceWith,aColumnName) for aColumnName in DFTest.columns]"
   ]
  },
  {
   "cell_type": "markdown",
   "metadata": {},
   "source": [
    "I can concatenate other functions:"
   ]
  },
  {
   "cell_type": "code",
   "execution_count": 16,
   "metadata": {},
   "outputs": [
    {
     "data": {
      "text/plain": [
       "['country',\n",
       " 'freedomintheworld',\n",
       " 'indexofeconomicfreedom',\n",
       " 'pressfreedomindex',\n",
       " 'democracyindex']"
      ]
     },
     "execution_count": 16,
     "metadata": {},
     "output_type": "execute_result"
    }
   ],
   "source": [
    "# Turn the result to lower case\n",
    "[re.sub(WhenYouFind,replaceWith,aColumnName).lower() for aColumnName in DFTest.columns]"
   ]
  },
  {
   "cell_type": "markdown",
   "metadata": {},
   "source": [
    "If you know you will often use this transformation, you can create a __function__: "
   ]
  },
  {
   "cell_type": "code",
   "execution_count": 17,
   "metadata": {},
   "outputs": [],
   "source": [
    "# \"lambda\" style function\n",
    "# name of function is 'cleaner'\n",
    "# function transforms INPUT\n",
    "\n",
    "cleaner = lambda INPUT: re.sub(WhenYouFind,replaceWith,INPUT).lower()"
   ]
  },
  {
   "cell_type": "markdown",
   "metadata": {},
   "source": [
    "You can now use this function in the comprehension:"
   ]
  },
  {
   "cell_type": "code",
   "execution_count": 18,
   "metadata": {},
   "outputs": [
    {
     "data": {
      "text/plain": [
       "['country',\n",
       " 'freedomintheworld',\n",
       " 'indexofeconomicfreedom',\n",
       " 'pressfreedomindex',\n",
       " 'democracyindex']"
      ]
     },
     "execution_count": 18,
     "metadata": {},
     "output_type": "execute_result"
    }
   ],
   "source": [
    "[cleaner(TEXT) for TEXT in DF.columns]"
   ]
  },
  {
   "cell_type": "markdown",
   "metadata": {},
   "source": [
    "You can use Pandas own **str.replace** functions, instead of the **re** library:"
   ]
  },
  {
   "cell_type": "code",
   "execution_count": 19,
   "metadata": {},
   "outputs": [
    {
     "data": {
      "text/plain": [
       "Index(['country', 'freedomintheworld', 'indexofeconomicfreedom',\n",
       "       'pressfreedomindex', 'democracyindex'],\n",
       "      dtype='object')"
      ]
     },
     "execution_count": 19,
     "metadata": {},
     "output_type": "execute_result"
    }
   ],
   "source": [
    "DFTest=DF.copy() # recreating DFTest\n",
    "\n",
    "# Pandas only:\n",
    "DFTest.columns.str.replace(WhenYouFind,replaceWith,regex=True).str.lower()"
   ]
  },
  {
   "cell_type": "markdown",
   "metadata": {},
   "source": [
    "Again, you just see the changes. Let's make it happen:"
   ]
  },
  {
   "cell_type": "code",
   "execution_count": 20,
   "metadata": {},
   "outputs": [
    {
     "data": {
      "text/html": [
       "<div>\n",
       "<style scoped>\n",
       "    .dataframe tbody tr th:only-of-type {\n",
       "        vertical-align: middle;\n",
       "    }\n",
       "\n",
       "    .dataframe tbody tr th {\n",
       "        vertical-align: top;\n",
       "    }\n",
       "\n",
       "    .dataframe thead th {\n",
       "        text-align: right;\n",
       "    }\n",
       "</style>\n",
       "<table border=\"1\" class=\"dataframe\">\n",
       "  <thead>\n",
       "    <tr style=\"text-align: right;\">\n",
       "      <th></th>\n",
       "      <th>country</th>\n",
       "      <th>freedomintheworld</th>\n",
       "      <th>indexofeconomicfreedom</th>\n",
       "      <th>pressfreedomindex</th>\n",
       "      <th>democracyindex</th>\n",
       "    </tr>\n",
       "  </thead>\n",
       "  <tbody>\n",
       "    <tr>\n",
       "      <th>0</th>\n",
       "      <td>Afghanistan</td>\n",
       "      <td>not free</td>\n",
       "      <td>mostly unfree</td>\n",
       "      <td>difficult situation</td>\n",
       "      <td>authoritarian regime</td>\n",
       "    </tr>\n",
       "    <tr>\n",
       "      <th>1</th>\n",
       "      <td>Albania</td>\n",
       "      <td>partly free</td>\n",
       "      <td>moderately free</td>\n",
       "      <td>noticeable problems</td>\n",
       "      <td>flawed democracy</td>\n",
       "    </tr>\n",
       "    <tr>\n",
       "      <th>2</th>\n",
       "      <td>Algeria</td>\n",
       "      <td>not free</td>\n",
       "      <td>repressed</td>\n",
       "      <td>difficult situation</td>\n",
       "      <td>authoritarian regime</td>\n",
       "    </tr>\n",
       "    <tr>\n",
       "      <th>3</th>\n",
       "      <td>Andorra</td>\n",
       "      <td>free</td>\n",
       "      <td>NaN</td>\n",
       "      <td>satisfactory situation</td>\n",
       "      <td>NaN</td>\n",
       "    </tr>\n",
       "    <tr>\n",
       "      <th>4</th>\n",
       "      <td>Angola</td>\n",
       "      <td>not free</td>\n",
       "      <td>mostly unfree</td>\n",
       "      <td>noticeable problems</td>\n",
       "      <td>authoritarian regime</td>\n",
       "    </tr>\n",
       "    <tr>\n",
       "      <th>...</th>\n",
       "      <td>...</td>\n",
       "      <td>...</td>\n",
       "      <td>...</td>\n",
       "      <td>...</td>\n",
       "      <td>...</td>\n",
       "    </tr>\n",
       "    <tr>\n",
       "      <th>192</th>\n",
       "      <td>Venezuela</td>\n",
       "      <td>not free</td>\n",
       "      <td>repressed</td>\n",
       "      <td>difficult situation</td>\n",
       "      <td>authoritarian regime</td>\n",
       "    </tr>\n",
       "    <tr>\n",
       "      <th>193</th>\n",
       "      <td>Vietnam</td>\n",
       "      <td>not free</td>\n",
       "      <td>moderately free</td>\n",
       "      <td>very serious situation</td>\n",
       "      <td>authoritarian regime</td>\n",
       "    </tr>\n",
       "    <tr>\n",
       "      <th>194</th>\n",
       "      <td>Yemen</td>\n",
       "      <td>not free</td>\n",
       "      <td>NaN</td>\n",
       "      <td>very serious situation</td>\n",
       "      <td>authoritarian regime</td>\n",
       "    </tr>\n",
       "    <tr>\n",
       "      <th>195</th>\n",
       "      <td>Zambia</td>\n",
       "      <td>partly free</td>\n",
       "      <td>mostly unfree</td>\n",
       "      <td>difficult situation</td>\n",
       "      <td>hybrid regime</td>\n",
       "    </tr>\n",
       "    <tr>\n",
       "      <th>196</th>\n",
       "      <td>Zimbabwe</td>\n",
       "      <td>not free</td>\n",
       "      <td>repressed</td>\n",
       "      <td>difficult situation</td>\n",
       "      <td>authoritarian regime</td>\n",
       "    </tr>\n",
       "  </tbody>\n",
       "</table>\n",
       "<p>197 rows × 5 columns</p>\n",
       "</div>"
      ],
      "text/plain": [
       "         country freedomintheworld indexofeconomicfreedom  \\\n",
       "0    Afghanistan          not free          mostly unfree   \n",
       "1        Albania       partly free        moderately free   \n",
       "2        Algeria          not free              repressed   \n",
       "3        Andorra              free                    NaN   \n",
       "4         Angola          not free          mostly unfree   \n",
       "..           ...               ...                    ...   \n",
       "192    Venezuela          not free              repressed   \n",
       "193      Vietnam          not free        moderately free   \n",
       "194        Yemen          not free                    NaN   \n",
       "195       Zambia       partly free          mostly unfree   \n",
       "196     Zimbabwe          not free              repressed   \n",
       "\n",
       "          pressfreedomindex        democracyindex  \n",
       "0       difficult situation  authoritarian regime  \n",
       "1       noticeable problems      flawed democracy  \n",
       "2       difficult situation  authoritarian regime  \n",
       "3    satisfactory situation                   NaN  \n",
       "4       noticeable problems  authoritarian regime  \n",
       "..                      ...                   ...  \n",
       "192     difficult situation  authoritarian regime  \n",
       "193  very serious situation  authoritarian regime  \n",
       "194  very serious situation  authoritarian regime  \n",
       "195     difficult situation         hybrid regime  \n",
       "196     difficult situation  authoritarian regime  \n",
       "\n",
       "[197 rows x 5 columns]"
      ]
     },
     "execution_count": 20,
     "metadata": {},
     "output_type": "execute_result"
    }
   ],
   "source": [
    "# saving result :\n",
    "DFTest.columns=DFTest.columns.str.replace(WhenYouFind,replaceWith,regex=True).str.lower()\n",
    "# you get:\n",
    "DFTest"
   ]
  },
  {
   "cell_type": "markdown",
   "metadata": {},
   "source": [
    "**<font color=\"blue\">3.2.  DIVIDE AND CONQUER</font>** \n",
    "\n",
    "This is an strategy that works in tandem with the previous ones. It is used to reduce complexity of the tasks."
   ]
  },
  {
   "cell_type": "code",
   "execution_count": null,
   "metadata": {},
   "outputs": [],
   "source": [
    "DFTest=DF.copy() # recreating DFTest\n",
    "DFTest.columns"
   ]
  },
  {
   "cell_type": "code",
   "execution_count": null,
   "metadata": {},
   "outputs": [],
   "source": [
    "# split the text when you find '['and keep first element:\n",
    "notSoBad=[TEXT.split(\"[\")[0] for TEXT in DFTest.columns]\n",
    "# see:\n",
    "notSoBad"
   ]
  },
  {
   "cell_type": "code",
   "execution_count": null,
   "metadata": {},
   "outputs": [],
   "source": [
    "#split using the blanks\n",
    "goodEnough=[TEXT.split(\" \") for TEXT in notSoBad]\n",
    "# see:\n",
    "goodEnough"
   ]
  },
  {
   "cell_type": "code",
   "execution_count": null,
   "metadata": {},
   "outputs": [],
   "source": [
    "#split using the blanks and them concatenate using \"join()\":\n",
    "betterThanBad=[\"\".join(TEXT.split(\" \")) for TEXT in notSoBad]\n",
    "# see:\n",
    "betterThanBad"
   ]
  },
  {
   "cell_type": "markdown",
   "metadata": {},
   "source": [
    "Let me know get rid of the year, and the words _index_ and *of*:"
   ]
  },
  {
   "cell_type": "code",
   "execution_count": null,
   "metadata": {},
   "outputs": [],
   "source": [
    "#original:\n",
    "import re\n",
    "[re.sub('\\d+|index|of',\"\",text.lower()) for text in betterThanBad]"
   ]
  },
  {
   "cell_type": "markdown",
   "metadata": {},
   "source": [
    "Just changing the names:"
   ]
  },
  {
   "cell_type": "code",
   "execution_count": null,
   "metadata": {},
   "outputs": [],
   "source": [
    "DF.columns=[re.sub('\\d+|index|of',\"\",text.lower()) for text in betterThanBad]\n",
    "\n",
    "# you get:\n",
    "DF"
   ]
  },
  {
   "cell_type": "markdown",
   "metadata": {},
   "source": [
    "##  **Check country names** \n",
    "\n",
    "As you may have realized, the cells have categories, so we do not need to compute statistics, as they will not say much. Let me take a loom at the country cells:"
   ]
  },
  {
   "cell_type": "code",
   "execution_count": null,
   "metadata": {},
   "outputs": [],
   "source": [
    "DF.country[0]"
   ]
  },
  {
   "cell_type": "markdown",
   "metadata": {},
   "source": [
    "The column with country names is very important for merging (this is the **key** of the unit of analysis). You should always do this:"
   ]
  },
  {
   "cell_type": "code",
   "execution_count": null,
   "metadata": {},
   "outputs": [],
   "source": [
    "# no trailing nor leading spaces:\n",
    "DF['country']=DF.country.str.strip()"
   ]
  },
  {
   "cell_type": "markdown",
   "metadata": {},
   "source": [
    "You can apply the same function to every column:"
   ]
  },
  {
   "cell_type": "code",
   "execution_count": null,
   "metadata": {},
   "outputs": [],
   "source": [
    "byeSpaces= lambda COLUMN:COLUMN.str.strip()\n",
    "\n",
    "DF.apply(byeSpaces)"
   ]
  },
  {
   "cell_type": "code",
   "execution_count": null,
   "metadata": {},
   "outputs": [],
   "source": [
    "# save the result:\n",
    "DF=DF.apply(byeSpaces)"
   ]
  },
  {
   "cell_type": "markdown",
   "metadata": {},
   "source": [
    "## Verify that level names are consistent"
   ]
  },
  {
   "cell_type": "markdown",
   "metadata": {},
   "source": [
    "Let's keep looking for mistakes. Sometimes a category may be wrongly written in a cell. For instance, if you had 'Free' and 'free' or 'free ' to represent the same value in one column, you have a mistake. Let's see if there is one here. First, learn how to use **value_counts**:"
   ]
  },
  {
   "cell_type": "code",
   "execution_count": null,
   "metadata": {},
   "outputs": [],
   "source": [
    "DF.freedomintheworld.value_counts()"
   ]
  },
  {
   "cell_type": "markdown",
   "metadata": {},
   "source": [
    "Let's do the same for all the columns at once:"
   ]
  },
  {
   "cell_type": "code",
   "execution_count": null,
   "metadata": {},
   "outputs": [],
   "source": [
    "[DF[COLUMN].value_counts() for COLUMN in DF.iloc[:,1::]]"
   ]
  },
  {
   "cell_type": "markdown",
   "metadata": {},
   "source": [
    "The values of each cell are clean. So no more work to be done here."
   ]
  },
  {
   "cell_type": "markdown",
   "metadata": {},
   "source": [
    "# II. Formatting\n",
    "\n",
    "\n",
    "## Check the data types\n",
    "\n",
    "First, see what Python has assigned:"
   ]
  },
  {
   "cell_type": "code",
   "execution_count": null,
   "metadata": {},
   "outputs": [],
   "source": [
    "DF.dtypes"
   ]
  },
  {
   "cell_type": "markdown",
   "metadata": {},
   "source": [
    "Every column is type **object**. That is OK for country, but not for the others. Let's make the changes:\n",
    "\n",
    "a. Recognise the levels.\n",
    "\n",
    "b. Create the data type.\n",
    "\n",
    "c. If data is ordinal, set it so.\n",
    "\n",
    "We already know the levels (step a) when we use **value_counts()**. Let me make the first change:"
   ]
  },
  {
   "cell_type": "code",
   "execution_count": null,
   "metadata": {},
   "outputs": [],
   "source": [
    "from pandas.api.types import CategoricalDtype\n",
    "\n",
    "# create data type - notice ascending order of levels\n",
    "levelsFree = CategoricalDtype(categories=[\"not free\", \"partly free\", \"free\"], ordered=True)\n",
    "\n",
    "# make the change:\n",
    "DF.freedomintheworld=DF.freedomintheworld.astype(levelsFree)"
   ]
  },
  {
   "cell_type": "markdown",
   "metadata": {},
   "source": [
    "See the changes:"
   ]
  },
  {
   "cell_type": "code",
   "execution_count": null,
   "metadata": {},
   "outputs": [],
   "source": [
    "DF.freedomintheworld"
   ]
  },
  {
   "cell_type": "markdown",
   "metadata": {},
   "source": [
    "You can reorder the position of the labels to avoid writing text:"
   ]
  },
  {
   "cell_type": "code",
   "execution_count": null,
   "metadata": {},
   "outputs": [],
   "source": [
    "#original\n",
    "DF.economicfreedom.value_counts().index.tolist()"
   ]
  },
  {
   "cell_type": "markdown",
   "metadata": {},
   "source": [
    "Changing positions in a new list:"
   ]
  },
  {
   "cell_type": "code",
   "execution_count": null,
   "metadata": {},
   "outputs": [],
   "source": [
    "#saving current\n",
    "oldEcon = DF.economicfreedom.value_counts().index.tolist()\n",
    "\n",
    "# new order of elements: \n",
    "newPositions = [3,1,0,2,4]\n",
    "\n",
    "# using list comprehension, making a list following new locations:\n",
    "newEcon = [oldEcon[i] for i in newPositions]\n",
    "\n",
    "# see:\n",
    "newEcon"
   ]
  },
  {
   "cell_type": "markdown",
   "metadata": {},
   "source": [
    "Get the other's new order:"
   ]
  },
  {
   "cell_type": "code",
   "execution_count": null,
   "metadata": {},
   "outputs": [],
   "source": [
    "oldPress = DF.pressfreedom.value_counts().index.tolist()\n",
    "newPositions = [3, 1,0,2,4]\n",
    "newPress = [oldPress[i] for i in newPositions]\n",
    "\n",
    "oldDemo = DF.democracy.value_counts().index.tolist()\n",
    "newPositions = [1, 2,0,3]\n",
    "newDemo = [oldDemo[i] for i in newPositions]"
   ]
  },
  {
   "cell_type": "markdown",
   "metadata": {},
   "source": [
    "Create the data types:"
   ]
  },
  {
   "cell_type": "code",
   "execution_count": null,
   "metadata": {},
   "outputs": [],
   "source": [
    "levelsEcon = CategoricalDtype(categories=newEcon, ordered=True)\n",
    "levelsPress = CategoricalDtype(categories=newPress, ordered=True)\n",
    "levelsDemo = CategoricalDtype(categories=newDemo, ordered=True)"
   ]
  },
  {
   "cell_type": "markdown",
   "metadata": {},
   "source": [
    "Make all changes:"
   ]
  },
  {
   "cell_type": "code",
   "execution_count": null,
   "metadata": {},
   "outputs": [],
   "source": [
    "DF.economicfreedom=DF.economicfreedom.astype(levelsEcon)\n",
    "DF.pressfreedom=DF.pressfreedom.astype(levelsPress)\n",
    "DF.democracy=DF.democracy.astype(levelsDemo)"
   ]
  },
  {
   "cell_type": "markdown",
   "metadata": {},
   "source": [
    "The result:"
   ]
  },
  {
   "cell_type": "code",
   "execution_count": null,
   "metadata": {},
   "outputs": [],
   "source": [
    "DF.info()"
   ]
  },
  {
   "cell_type": "markdown",
   "metadata": {},
   "source": [
    "You can see the categories in the new order like this:"
   ]
  },
  {
   "cell_type": "code",
   "execution_count": null,
   "metadata": {},
   "outputs": [],
   "source": [
    "[(col.upper(), DF[col].cat.categories) for col in DF.columns[1::]]"
   ]
  },
  {
   "cell_type": "markdown",
   "metadata": {},
   "source": [
    "## Final Project\n",
    "\n",
    "Clean and format your data for the project."
   ]
  }
 ],
 "metadata": {
  "anaconda-cloud": {
   "attach-environment": true,
   "summary": "test"
  },
  "hide_input": false,
  "kernelspec": {
   "display_name": "Python 3 (ipykernel)",
   "language": "python",
   "name": "python3"
  },
  "language_info": {
   "codemirror_mode": {
    "name": "ipython",
    "version": 3
   },
   "file_extension": ".py",
   "mimetype": "text/x-python",
   "name": "python",
   "nbconvert_exporter": "python",
   "pygments_lexer": "ipython3",
   "version": "3.9.7"
  }
 },
 "nbformat": 4,
 "nbformat_minor": 1
}
