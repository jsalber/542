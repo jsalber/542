{
 "cells": [
  {
   "cell_type": "code",
   "execution_count": 13,
   "id": "e5cc9665",
   "metadata": {},
   "outputs": [],
   "source": [
    "# importing pandas for the notebook\n",
    "import pandas as pd\n",
    "\n",
    "#link for the tables\n",
    "df = pd.read_html('https://en.wikipedia.org/wiki/List_of_countries_by_carbon_dioxide_emissions',header=0,flavor=\"bs4\",attrs={'class':\"wikitable\"})\n",
    "\n",
    "# fetching the tables\n"
   ]
  },
  {
   "cell_type": "code",
   "execution_count": 14,
   "id": "8f7b71d3",
   "metadata": {},
   "outputs": [
    {
     "data": {
      "text/plain": [
       "[                        Country[20]  Fossil CO2 emissions(Mt CO2)  \\\n",
       " 0                       Country[20]                      1990.000   \n",
       " 1                             World                     22674.116   \n",
       " 2    World – International Aviation                       258.941   \n",
       " 3    World – International Shipping                       371.804   \n",
       " 4                       Afghanistan                         2.546   \n",
       " ..                              ...                           ...   \n",
       " 208                         Vietnam                        20.182   \n",
       " 209                  Western Sahara                         0.144   \n",
       " 210                           Yemen                         6.887   \n",
       " 211                          Zambia                         2.955   \n",
       " 212                        Zimbabwe                        17.178   \n",
       " \n",
       "      Fossil CO2 emissions(Mt CO2).1  Fossil CO2 emissions(Mt CO2).2  \\\n",
       " 0                          2005.000                        2017.000   \n",
       " 1                         30049.809                       37077.404   \n",
       " 2                           422.777                         543.381   \n",
       " 3                           572.169                         677.248   \n",
       " 4                             1.063                          11.422   \n",
       " ..                              ...                             ...   \n",
       " 208                          99.231                         218.729   \n",
       " 209                           0.227                           0.276   \n",
       " 210                          21.768                          12.503   \n",
       " 211                           2.457                           4.967   \n",
       " 212                          11.388                          12.087   \n",
       " \n",
       "     Fossil CO2 emissions    Fossil CO2 emissions.1  \\\n",
       " 0       2017(% of world)  2017 vs 1990: change (%)   \n",
       " 1                100.00%                     63.5%   \n",
       " 2                  1.47%                    109.8%   \n",
       " 3                  1.83%                     82.2%   \n",
       " 4                  0.03%                    348.6%   \n",
       " ..                   ...                       ...   \n",
       " 208                0.59%                    983.8%   \n",
       " 209                0.00%                     91.7%   \n",
       " 210                0.03%                     81.5%   \n",
       " 211                0.01%                     68.1%   \n",
       " 212                0.03%                    -29.6%   \n",
       " \n",
       "      2017 – Fossil CO2 emissions 2017 – Fossil CO2 emissions.1  \\\n",
       " 0    Per land area(t CO2/km2/yr)      Per capita(t CO2/cap/yr)   \n",
       " 1                             73                           4.9   \n",
       " 2                            NaN                           NaN   \n",
       " 3                            NaN                           NaN   \n",
       " 4                             18                           0.3   \n",
       " ..                           ...                           ...   \n",
       " 208                          660                           2.3   \n",
       " 209                            1                           0.5   \n",
       " 210                           24                           0.4   \n",
       " 211                            7                           0.3   \n",
       " 212                           31                           0.7   \n",
       " \n",
       "        2018 CO2 emissions[21]  2018 CO2 emissions[21].1  \n",
       " 0    Total including LUCF[22]  Total excluding LUCF[23]  \n",
       " 1                    36431.11                  35247.21  \n",
       " 2                         NaN                       NaN  \n",
       " 3                         NaN                       NaN  \n",
       " 4                        7.59                      7.44  \n",
       " ..                        ...                       ...  \n",
       " 208                    245.36                    257.86  \n",
       " 209                       NaN                       NaN  \n",
       " 210                      9.31                      9.31  \n",
       " 211                     40.47                      7.74  \n",
       " 212                     99.43                     12.27  \n",
       " \n",
       " [213 rows x 10 columns]]"
      ]
     },
     "execution_count": 14,
     "metadata": {},
     "output_type": "execute_result"
    }
   ],
   "source": [
    "df\n"
   ]
  },
  {
   "cell_type": "code",
   "execution_count": null,
   "id": "714e8a54",
   "metadata": {},
   "outputs": [],
   "source": []
  }
 ],
 "metadata": {
  "kernelspec": {
   "display_name": "Python 3 (ipykernel)",
   "language": "python",
   "name": "python3"
  },
  "language_info": {
   "codemirror_mode": {
    "name": "ipython",
    "version": 3
   },
   "file_extension": ".py",
   "mimetype": "text/x-python",
   "name": "python",
   "nbconvert_exporter": "python",
   "pygments_lexer": "ipython3",
   "version": "3.9.7"
  }
 },
 "nbformat": 4,
 "nbformat_minor": 5
}
