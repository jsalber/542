{
 "cells": [
  {
   "cell_type": "code",
   "execution_count": 1,
   "id": "ae0d084b",
   "metadata": {},
   "outputs": [],
   "source": [
    "# importing pandas for the notebook\n",
    "import pandas as pd\n",
    "\n",
    "#link for the tables\n",
    "demoLink=\"https://en.wikipedia.org/wiki/List_of_countries_by_carbon_dioxide_emissions\"\n",
    "\n",
    "# fetching the tables\n",
    "demodata=pd.read_html(demoLink,header=1,flavor=\"bs4\",attrs={'class':\"wikitable sortable\"})"
   ]
  },
  {
   "cell_type": "code",
   "execution_count": 2,
   "id": "9089bcfd",
   "metadata": {},
   "outputs": [],
   "source": [
    "demoVars=demodata[0].copy()"
   ]
  },
  {
   "cell_type": "code",
   "execution_count": 3,
   "id": "ec9d4b34",
   "metadata": {},
   "outputs": [
    {
     "data": {
      "text/html": [
       "<div>\n",
       "<style scoped>\n",
       "    .dataframe tbody tr th:only-of-type {\n",
       "        vertical-align: middle;\n",
       "    }\n",
       "\n",
       "    .dataframe tbody tr th {\n",
       "        vertical-align: top;\n",
       "    }\n",
       "\n",
       "    .dataframe thead th {\n",
       "        text-align: right;\n",
       "    }\n",
       "</style>\n",
       "<table border=\"1\" class=\"dataframe\">\n",
       "  <thead>\n",
       "    <tr style=\"text-align: right;\">\n",
       "      <th></th>\n",
       "      <th>Country[20]</th>\n",
       "      <th>1990</th>\n",
       "      <th>2005</th>\n",
       "      <th>2017</th>\n",
       "      <th>2017(% of world)</th>\n",
       "      <th>2017 vs 1990: change (%)</th>\n",
       "      <th>Per land area(t CO2/km2/yr)</th>\n",
       "      <th>Per capita(t CO2/cap/yr)</th>\n",
       "      <th>Total including LUCF[22]</th>\n",
       "      <th>Total excluding LUCF[23]</th>\n",
       "    </tr>\n",
       "  </thead>\n",
       "  <tbody>\n",
       "    <tr>\n",
       "      <th>0</th>\n",
       "      <td>World</td>\n",
       "      <td>22674.116</td>\n",
       "      <td>30049.809</td>\n",
       "      <td>37077.404</td>\n",
       "      <td>100.00%</td>\n",
       "      <td>63.5%</td>\n",
       "      <td>73.0</td>\n",
       "      <td>4.9</td>\n",
       "      <td>36431.11</td>\n",
       "      <td>35247.21</td>\n",
       "    </tr>\n",
       "    <tr>\n",
       "      <th>1</th>\n",
       "      <td>World – International Aviation</td>\n",
       "      <td>258.941</td>\n",
       "      <td>422.777</td>\n",
       "      <td>543.381</td>\n",
       "      <td>1.47%</td>\n",
       "      <td>109.8%</td>\n",
       "      <td>NaN</td>\n",
       "      <td>NaN</td>\n",
       "      <td>NaN</td>\n",
       "      <td>NaN</td>\n",
       "    </tr>\n",
       "    <tr>\n",
       "      <th>2</th>\n",
       "      <td>World – International Shipping</td>\n",
       "      <td>371.804</td>\n",
       "      <td>572.169</td>\n",
       "      <td>677.248</td>\n",
       "      <td>1.83%</td>\n",
       "      <td>82.2%</td>\n",
       "      <td>NaN</td>\n",
       "      <td>NaN</td>\n",
       "      <td>NaN</td>\n",
       "      <td>NaN</td>\n",
       "    </tr>\n",
       "    <tr>\n",
       "      <th>3</th>\n",
       "      <td>Afghanistan</td>\n",
       "      <td>2.546</td>\n",
       "      <td>1.063</td>\n",
       "      <td>11.422</td>\n",
       "      <td>0.03%</td>\n",
       "      <td>348.6%</td>\n",
       "      <td>18.0</td>\n",
       "      <td>0.3</td>\n",
       "      <td>7.59</td>\n",
       "      <td>7.44</td>\n",
       "    </tr>\n",
       "    <tr>\n",
       "      <th>4</th>\n",
       "      <td>Albania</td>\n",
       "      <td>6.583</td>\n",
       "      <td>4.196</td>\n",
       "      <td>5.026</td>\n",
       "      <td>0.01%</td>\n",
       "      <td>-23.7%</td>\n",
       "      <td>175.0</td>\n",
       "      <td>1.7</td>\n",
       "      <td>5.32</td>\n",
       "      <td>5.56</td>\n",
       "    </tr>\n",
       "  </tbody>\n",
       "</table>\n",
       "</div>"
      ],
      "text/plain": [
       "                      Country[20]       1990       2005       2017  \\\n",
       "0                           World  22674.116  30049.809  37077.404   \n",
       "1  World – International Aviation    258.941    422.777    543.381   \n",
       "2  World – International Shipping    371.804    572.169    677.248   \n",
       "3                     Afghanistan      2.546      1.063     11.422   \n",
       "4                         Albania      6.583      4.196      5.026   \n",
       "\n",
       "  2017(% of world) 2017 vs 1990: change (%)  Per land area(t CO2/km2/yr)  \\\n",
       "0          100.00%                    63.5%                         73.0   \n",
       "1            1.47%                   109.8%                          NaN   \n",
       "2            1.83%                    82.2%                          NaN   \n",
       "3            0.03%                   348.6%                         18.0   \n",
       "4            0.01%                   -23.7%                        175.0   \n",
       "\n",
       "   Per capita(t CO2/cap/yr) Total including LUCF[22] Total excluding LUCF[23]  \n",
       "0                       4.9                 36431.11                 35247.21  \n",
       "1                       NaN                      NaN                      NaN  \n",
       "2                       NaN                      NaN                      NaN  \n",
       "3                       0.3                     7.59                     7.44  \n",
       "4                       1.7                     5.32                     5.56  "
      ]
     },
     "execution_count": 3,
     "metadata": {},
     "output_type": "execute_result"
    }
   ],
   "source": [
    "# first rows\n",
    "demoVars.head()"
   ]
  },
  {
   "cell_type": "code",
   "execution_count": 4,
   "id": "99a9a105",
   "metadata": {},
   "outputs": [],
   "source": [
    "#column positions to drop\n",
    "whichToDrop=[1,2,5,6,8,9]\n",
    "\n",
    "#dropping and updating the data frame\n",
    "demoVars.drop(labels=demoVars.columns[whichToDrop],axis=1,inplace=True)"
   ]
  },
  {
   "cell_type": "code",
   "execution_count": 5,
   "id": "bcbb7a36",
   "metadata": {},
   "outputs": [
    {
     "data": {
      "text/html": [
       "<div>\n",
       "<style scoped>\n",
       "    .dataframe tbody tr th:only-of-type {\n",
       "        vertical-align: middle;\n",
       "    }\n",
       "\n",
       "    .dataframe tbody tr th {\n",
       "        vertical-align: top;\n",
       "    }\n",
       "\n",
       "    .dataframe thead th {\n",
       "        text-align: right;\n",
       "    }\n",
       "</style>\n",
       "<table border=\"1\" class=\"dataframe\">\n",
       "  <thead>\n",
       "    <tr style=\"text-align: right;\">\n",
       "      <th></th>\n",
       "      <th>Country[20]</th>\n",
       "      <th>2017</th>\n",
       "      <th>2017(% of world)</th>\n",
       "      <th>Per capita(t CO2/cap/yr)</th>\n",
       "    </tr>\n",
       "  </thead>\n",
       "  <tbody>\n",
       "    <tr>\n",
       "      <th>0</th>\n",
       "      <td>World</td>\n",
       "      <td>37077.404</td>\n",
       "      <td>100.00%</td>\n",
       "      <td>4.9</td>\n",
       "    </tr>\n",
       "    <tr>\n",
       "      <th>1</th>\n",
       "      <td>World – International Aviation</td>\n",
       "      <td>543.381</td>\n",
       "      <td>1.47%</td>\n",
       "      <td>NaN</td>\n",
       "    </tr>\n",
       "    <tr>\n",
       "      <th>2</th>\n",
       "      <td>World – International Shipping</td>\n",
       "      <td>677.248</td>\n",
       "      <td>1.83%</td>\n",
       "      <td>NaN</td>\n",
       "    </tr>\n",
       "    <tr>\n",
       "      <th>3</th>\n",
       "      <td>Afghanistan</td>\n",
       "      <td>11.422</td>\n",
       "      <td>0.03%</td>\n",
       "      <td>0.3</td>\n",
       "    </tr>\n",
       "    <tr>\n",
       "      <th>4</th>\n",
       "      <td>Albania</td>\n",
       "      <td>5.026</td>\n",
       "      <td>0.01%</td>\n",
       "      <td>1.7</td>\n",
       "    </tr>\n",
       "  </tbody>\n",
       "</table>\n",
       "</div>"
      ],
      "text/plain": [
       "                      Country[20]       2017 2017(% of world)  \\\n",
       "0                           World  37077.404          100.00%   \n",
       "1  World – International Aviation    543.381            1.47%   \n",
       "2  World – International Shipping    677.248            1.83%   \n",
       "3                     Afghanistan     11.422            0.03%   \n",
       "4                         Albania      5.026            0.01%   \n",
       "\n",
       "   Per capita(t CO2/cap/yr)  \n",
       "0                       4.9  \n",
       "1                       NaN  \n",
       "2                       NaN  \n",
       "3                       0.3  \n",
       "4                       1.7  "
      ]
     },
     "execution_count": 5,
     "metadata": {},
     "output_type": "execute_result"
    }
   ],
   "source": [
    "# first rows\n",
    "demoVars.head()"
   ]
  },
  {
   "cell_type": "code",
   "execution_count": 6,
   "id": "df9d7401",
   "metadata": {},
   "outputs": [
    {
     "data": {
      "text/plain": [
       "'Percapita(tCO2/cap/yr)'"
      ]
     },
     "execution_count": 6,
     "metadata": {},
     "output_type": "execute_result"
    }
   ],
   "source": [
    "import re\n",
    "re.sub(\"\\s\",\"\",demoVars.columns[3])"
   ]
  },
  {
   "cell_type": "code",
   "execution_count": 7,
   "id": "d5e0270d",
   "metadata": {},
   "outputs": [
    {
     "data": {
      "text/plain": [
       "Index(['Country', '2017', '2017(% of world)', 'Per capita(t CO2/cap/yr)'], dtype='object')"
      ]
     },
     "execution_count": 7,
     "metadata": {},
     "output_type": "execute_result"
    }
   ],
   "source": [
    "demoVars.columns=demoVars.columns.str.replace(\"Country\\[20]\",\"Country\",regex=True)\n",
    "\n",
    "# current colum names\n",
    "demoVars.columns"
   ]
  },
  {
   "cell_type": "code",
   "execution_count": 8,
   "id": "e5ec798a",
   "metadata": {},
   "outputs": [
    {
     "data": {
      "text/plain": [
       "Index(['Country', '2017', 'PercentofWorldEmissions',\n",
       "       'Per capita(t CO2/cap/yr)'],\n",
       "      dtype='object')"
      ]
     },
     "execution_count": 8,
     "metadata": {},
     "output_type": "execute_result"
    }
   ],
   "source": [
    "demoVars.columns=demoVars.columns.str.replace(\"2017\\(% of world\\)\",\"PercentofWorldEmissions\",regex=True)\n",
    "\n",
    "# current colum names\n",
    "demoVars.columns"
   ]
  },
  {
   "cell_type": "code",
   "execution_count": 9,
   "id": "f3d083b8",
   "metadata": {},
   "outputs": [
    {
     "data": {
      "text/plain": [
       "Index(['Country', '2017CO2Emissions', 'PercentofWorldEmissions',\n",
       "       'Per capita(t CO2/cap/yr)'],\n",
       "      dtype='object')"
      ]
     },
     "execution_count": 9,
     "metadata": {},
     "output_type": "execute_result"
    }
   ],
   "source": [
    "demoVars.columns=demoVars.columns.str.replace(\"2017\",\"2017CO2Emissions\",regex=True)\n",
    "\n",
    "# current colum names\n",
    "demoVars.columns"
   ]
  },
  {
   "cell_type": "code",
   "execution_count": 10,
   "id": "51399c24",
   "metadata": {},
   "outputs": [
    {
     "data": {
      "text/plain": [
       "Index(['Country', '2017CO2Emissions', 'PercentofWorldEmissions',\n",
       "       'PerCapitaEmissions'],\n",
       "      dtype='object')"
      ]
     },
     "execution_count": 10,
     "metadata": {},
     "output_type": "execute_result"
    }
   ],
   "source": [
    "demoVars.columns=demoVars.columns.str.replace(\"Per capita\\(t CO2/cap/yr\\)\",\"PerCapitaEmissions\",regex=True)\n",
    "\n",
    "# current colum names\n",
    "demoVars.columns"
   ]
  },
  {
   "cell_type": "code",
   "execution_count": 11,
   "id": "8f14b77d",
   "metadata": {},
   "outputs": [
    {
     "data": {
      "text/html": [
       "<div>\n",
       "<style scoped>\n",
       "    .dataframe tbody tr th:only-of-type {\n",
       "        vertical-align: middle;\n",
       "    }\n",
       "\n",
       "    .dataframe tbody tr th {\n",
       "        vertical-align: top;\n",
       "    }\n",
       "\n",
       "    .dataframe thead th {\n",
       "        text-align: right;\n",
       "    }\n",
       "</style>\n",
       "<table border=\"1\" class=\"dataframe\">\n",
       "  <thead>\n",
       "    <tr style=\"text-align: right;\">\n",
       "      <th></th>\n",
       "      <th>Country</th>\n",
       "      <th>2017CO2Emissions</th>\n",
       "      <th>PercentofWorldEmissions</th>\n",
       "      <th>PerCapitaEmissions</th>\n",
       "    </tr>\n",
       "  </thead>\n",
       "  <tbody>\n",
       "    <tr>\n",
       "      <th>0</th>\n",
       "      <td>World</td>\n",
       "      <td>37077.404</td>\n",
       "      <td>100.00%</td>\n",
       "      <td>4.9</td>\n",
       "    </tr>\n",
       "    <tr>\n",
       "      <th>1</th>\n",
       "      <td>World – International Aviation</td>\n",
       "      <td>543.381</td>\n",
       "      <td>1.47%</td>\n",
       "      <td>NaN</td>\n",
       "    </tr>\n",
       "    <tr>\n",
       "      <th>2</th>\n",
       "      <td>World – International Shipping</td>\n",
       "      <td>677.248</td>\n",
       "      <td>1.83%</td>\n",
       "      <td>NaN</td>\n",
       "    </tr>\n",
       "    <tr>\n",
       "      <th>3</th>\n",
       "      <td>Afghanistan</td>\n",
       "      <td>11.422</td>\n",
       "      <td>0.03%</td>\n",
       "      <td>0.3</td>\n",
       "    </tr>\n",
       "    <tr>\n",
       "      <th>4</th>\n",
       "      <td>Albania</td>\n",
       "      <td>5.026</td>\n",
       "      <td>0.01%</td>\n",
       "      <td>1.7</td>\n",
       "    </tr>\n",
       "  </tbody>\n",
       "</table>\n",
       "</div>"
      ],
      "text/plain": [
       "                          Country  2017CO2Emissions PercentofWorldEmissions  \\\n",
       "0                           World         37077.404                 100.00%   \n",
       "1  World – International Aviation           543.381                   1.47%   \n",
       "2  World – International Shipping           677.248                   1.83%   \n",
       "3                     Afghanistan            11.422                   0.03%   \n",
       "4                         Albania             5.026                   0.01%   \n",
       "\n",
       "   PerCapitaEmissions  \n",
       "0                 4.9  \n",
       "1                 NaN  \n",
       "2                 NaN  \n",
       "3                 0.3  \n",
       "4                 1.7  "
      ]
     },
     "execution_count": 11,
     "metadata": {},
     "output_type": "execute_result"
    }
   ],
   "source": [
    "\n",
    "demoVars.head()"
   ]
  },
  {
   "cell_type": "code",
   "execution_count": 12,
   "id": "750d0fc4",
   "metadata": {},
   "outputs": [],
   "source": [
    "demoVars.drop([1], axis=0, inplace = True)"
   ]
  },
  {
   "cell_type": "code",
   "execution_count": 13,
   "id": "3acff7f3",
   "metadata": {},
   "outputs": [],
   "source": [
    "\n",
    "demoVars.drop([2], axis=0, inplace = True)"
   ]
  },
  {
   "cell_type": "code",
   "execution_count": 14,
   "id": "f980fc75",
   "metadata": {},
   "outputs": [],
   "source": [
    "demoVars=demoVars.reset_index(drop=True)"
   ]
  },
  {
   "cell_type": "code",
   "execution_count": 15,
   "id": "c8b98060",
   "metadata": {},
   "outputs": [
    {
     "data": {
      "text/html": [
       "<div>\n",
       "<style scoped>\n",
       "    .dataframe tbody tr th:only-of-type {\n",
       "        vertical-align: middle;\n",
       "    }\n",
       "\n",
       "    .dataframe tbody tr th {\n",
       "        vertical-align: top;\n",
       "    }\n",
       "\n",
       "    .dataframe thead th {\n",
       "        text-align: right;\n",
       "    }\n",
       "</style>\n",
       "<table border=\"1\" class=\"dataframe\">\n",
       "  <thead>\n",
       "    <tr style=\"text-align: right;\">\n",
       "      <th></th>\n",
       "      <th>Country</th>\n",
       "      <th>2017CO2Emissions</th>\n",
       "      <th>PercentofWorldEmissions</th>\n",
       "      <th>PerCapitaEmissions</th>\n",
       "    </tr>\n",
       "  </thead>\n",
       "  <tbody>\n",
       "    <tr>\n",
       "      <th>0</th>\n",
       "      <td>World</td>\n",
       "      <td>37077.404</td>\n",
       "      <td>100.00%</td>\n",
       "      <td>4.9</td>\n",
       "    </tr>\n",
       "    <tr>\n",
       "      <th>1</th>\n",
       "      <td>Afghanistan</td>\n",
       "      <td>11.422</td>\n",
       "      <td>0.03%</td>\n",
       "      <td>0.3</td>\n",
       "    </tr>\n",
       "    <tr>\n",
       "      <th>2</th>\n",
       "      <td>Albania</td>\n",
       "      <td>5.026</td>\n",
       "      <td>0.01%</td>\n",
       "      <td>1.7</td>\n",
       "    </tr>\n",
       "    <tr>\n",
       "      <th>3</th>\n",
       "      <td>Algeria</td>\n",
       "      <td>159.929</td>\n",
       "      <td>0.43%</td>\n",
       "      <td>3.9</td>\n",
       "    </tr>\n",
       "    <tr>\n",
       "      <th>4</th>\n",
       "      <td>Angola</td>\n",
       "      <td>30.876</td>\n",
       "      <td>0.08%</td>\n",
       "      <td>1.0</td>\n",
       "    </tr>\n",
       "  </tbody>\n",
       "</table>\n",
       "</div>"
      ],
      "text/plain": [
       "       Country  2017CO2Emissions PercentofWorldEmissions  PerCapitaEmissions\n",
       "0        World         37077.404                 100.00%                 4.9\n",
       "1  Afghanistan            11.422                   0.03%                 0.3\n",
       "2      Albania             5.026                   0.01%                 1.7\n",
       "3      Algeria           159.929                   0.43%                 3.9\n",
       "4       Angola            30.876                   0.08%                 1.0"
      ]
     },
     "execution_count": 15,
     "metadata": {},
     "output_type": "execute_result"
    }
   ],
   "source": [
    "\n",
    "demoVars.head()"
   ]
  },
  {
   "cell_type": "code",
   "execution_count": null,
   "id": "6f9062a4",
   "metadata": {},
   "outputs": [],
   "source": [
    "demoVars.to_csv(\"co2.csv\",index=False)"
   ]
  },
  {
   "cell_type": "code",
   "execution_count": null,
   "id": "b00999d2",
   "metadata": {},
   "outputs": [],
   "source": []
  }
 ],
 "metadata": {
  "kernelspec": {
   "display_name": "Python 3 (ipykernel)",
   "language": "python",
   "name": "python3"
  },
  "language_info": {
   "codemirror_mode": {
    "name": "ipython",
    "version": 3
   },
   "file_extension": ".py",
   "mimetype": "text/x-python",
   "name": "python",
   "nbconvert_exporter": "python",
   "pygments_lexer": "ipython3",
   "version": "3.9.7"
  }
 },
 "nbformat": 4,
 "nbformat_minor": 5
}
