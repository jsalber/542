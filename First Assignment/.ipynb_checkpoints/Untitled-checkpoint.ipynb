{
 "cells": [
  {
   "cell_type": "code",
   "execution_count": 1,
   "id": "53507445",
   "metadata": {},
   "outputs": [],
   "source": [
    "import pandas as pd\n",
    "linkDataGDP=\"https://raw.githubusercontent.com/jsalber/542/main/First%20Assignment/GDP%20Data.csv\"\n",
    "linkDataGWh=\"https://raw.githubusercontent.com/jsalber/542/main/First%20Assignment/Energy%20Production.csv\"\n",
    "linkDataCO2=\"https://raw.githubusercontent.com/jsalber/542/main/First%20Assignment/co2.csv\"\n",
    "DataGDP=pd.read_csv(linkDataGDP)\n",
    "DataGWh=pd.read_csv(linkDataGWh)\n",
    "DataCO2=pd.read_csv(linkDataCO2)"
   ]
  },
  {
   "cell_type": "code",
   "execution_count": 2,
   "id": "347d62c5",
   "metadata": {},
   "outputs": [
    {
     "data": {
      "text/plain": [
       "Index(['Country/Territory', 'GDP(US$Million)'], dtype='object')"
      ]
     },
     "execution_count": 2,
     "metadata": {},
     "output_type": "execute_result"
    }
   ],
   "source": [
    "DataGDP.columns"
   ]
  },
  {
   "cell_type": "code",
   "execution_count": null,
   "id": "1acaf36c",
   "metadata": {},
   "outputs": [],
   "source": [
    "DataGWh.columns"
   ]
  },
  {
   "cell_type": "code",
   "execution_count": null,
   "id": "165f44c6",
   "metadata": {},
   "outputs": [],
   "source": [
    "DataCO2.columns"
   ]
  },
  {
   "cell_type": "code",
   "execution_count": null,
   "id": "efb3be07",
   "metadata": {},
   "outputs": [],
   "source": [
    "allData=DataCO2.merge(DataGDP,left_on=\"Country\",right_on=\"CountryOrTerritory\")"
   ]
  },
  {
   "cell_type": "code",
   "execution_count": null,
   "id": "5cb6a4a0",
   "metadata": {},
   "outputs": [],
   "source": [
    "DataCO2.shape"
   ]
  },
  {
   "cell_type": "code",
   "execution_count": null,
   "id": "db2eb8ec",
   "metadata": {},
   "outputs": [],
   "source": [
    "allData.shape"
   ]
  },
  {
   "cell_type": "code",
   "execution_count": null,
   "id": "5312e745",
   "metadata": {},
   "outputs": [],
   "source": [
    "allData=DataCO2.merge(DataGDP,left_on=\"Country\",right_on=\"Country/Territory\",how='outer',indicator='True')"
   ]
  },
  {
   "cell_type": "code",
   "execution_count": null,
   "id": "443b53f2",
   "metadata": {},
   "outputs": [],
   "source": [
    "allData.columns"
   ]
  },
  {
   "cell_type": "code",
   "execution_count": null,
   "id": "98684dee",
   "metadata": {},
   "outputs": [],
   "source": [
    "allData['True'].value_counts()"
   ]
  },
  {
   "cell_type": "code",
   "execution_count": null,
   "id": "c86171ac",
   "metadata": {},
   "outputs": [],
   "source": [
    "allData[allData['True']=='left_only'].Country"
   ]
  },
  {
   "cell_type": "code",
   "execution_count": null,
   "id": "8e175c17",
   "metadata": {},
   "outputs": [],
   "source": [
    "allData[allData['True']=='right_only'].Country/Territory"
   ]
  },
  {
   "cell_type": "code",
   "execution_count": null,
   "id": "7b287630",
   "metadata": {},
   "outputs": [],
   "source": []
  }
 ],
 "metadata": {
  "kernelspec": {
   "display_name": "Python 3 (ipykernel)",
   "language": "python",
   "name": "python3"
  },
  "language_info": {
   "codemirror_mode": {
    "name": "ipython",
    "version": 3
   },
   "file_extension": ".py",
   "mimetype": "text/x-python",
   "name": "python",
   "nbconvert_exporter": "python",
   "pygments_lexer": "ipython3",
   "version": "3.9.7"
  }
 },
 "nbformat": 4,
 "nbformat_minor": 5
}
