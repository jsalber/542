{
 "cells": [
  {
   "cell_type": "code",
   "execution_count": 1,
   "id": "2a5f8eb1",
   "metadata": {},
   "outputs": [],
   "source": [
    "import pandas as pd\n",
    "linkmainData=\"https://raw.githubusercontent.com/jsalber/542/main/First%20Assignment/GDPandCO2.csv\"\n",
    "linkDataGWh=\"https://raw.githubusercontent.com/jsalber/542/main/First%20Assignment/Energy%20Production.csv\"\n",
    "DataGWh=pd.read_csv(linkDataGWh)\n",
    "mainData=pd.read_csv(linkmainData)"
   ]
  },
  {
   "cell_type": "code",
   "execution_count": 2,
   "id": "7f099f1a",
   "metadata": {},
   "outputs": [
    {
     "data": {
      "text/plain": [
       "Index(['Country', 'EnergyOutput(GWH)'], dtype='object')"
      ]
     },
     "execution_count": 2,
     "metadata": {},
     "output_type": "execute_result"
    }
   ],
   "source": [
    "DataGWh.columns\n"
   ]
  },
  {
   "cell_type": "code",
   "execution_count": 3,
   "id": "ac1d2120",
   "metadata": {},
   "outputs": [
    {
     "data": {
      "text/plain": [
       "Index(['Country', '2017CO2Emissions', 'PercentofWorldEmissions',\n",
       "       'PerCapitaEmissions', 'GDP(US$Million)'],\n",
       "      dtype='object')"
      ]
     },
     "execution_count": 3,
     "metadata": {},
     "output_type": "execute_result"
    }
   ],
   "source": [
    "mainData.columns"
   ]
  },
  {
   "cell_type": "code",
   "execution_count": 4,
   "id": "b822355e",
   "metadata": {},
   "outputs": [],
   "source": [
    "allData=mainData.merge(DataGWh,left_on=\"Country\",right_on=\"Country\")"
   ]
  },
  {
   "cell_type": "code",
   "execution_count": 5,
   "id": "69e43968",
   "metadata": {},
   "outputs": [
    {
     "data": {
      "text/plain": [
       "(197, 5)"
      ]
     },
     "execution_count": 5,
     "metadata": {},
     "output_type": "execute_result"
    }
   ],
   "source": [
    "mainData.shape\n"
   ]
  },
  {
   "cell_type": "code",
   "execution_count": 6,
   "id": "dd32bf38",
   "metadata": {},
   "outputs": [
    {
     "data": {
      "text/plain": [
       "(210, 2)"
      ]
     },
     "execution_count": 6,
     "metadata": {},
     "output_type": "execute_result"
    }
   ],
   "source": [
    "DataGWh.shape"
   ]
  },
  {
   "cell_type": "code",
   "execution_count": 7,
   "id": "747d237d",
   "metadata": {},
   "outputs": [],
   "source": [
    "allData=mainData.merge(DataGWh,left_on=\"Country\",right_on=\"Country\",how='outer',indicator='True')"
   ]
  },
  {
   "cell_type": "code",
   "execution_count": 8,
   "id": "35fddc95",
   "metadata": {},
   "outputs": [
    {
     "data": {
      "text/plain": [
       "Index(['Country', '2017CO2Emissions', 'PercentofWorldEmissions',\n",
       "       'PerCapitaEmissions', 'GDP(US$Million)', 'EnergyOutput(GWH)', 'True'],\n",
       "      dtype='object')"
      ]
     },
     "execution_count": 8,
     "metadata": {},
     "output_type": "execute_result"
    }
   ],
   "source": [
    "allData.columns"
   ]
  },
  {
   "cell_type": "code",
   "execution_count": 9,
   "id": "3346852b",
   "metadata": {},
   "outputs": [
    {
     "data": {
      "text/plain": [
       "both          175\n",
       "right_only     35\n",
       "left_only      22\n",
       "Name: True, dtype: int64"
      ]
     },
     "execution_count": 9,
     "metadata": {},
     "output_type": "execute_result"
    }
   ],
   "source": [
    "allData['True'].value_counts()"
   ]
  },
  {
   "cell_type": "code",
   "execution_count": 10,
   "id": "c20d3c26",
   "metadata": {},
   "outputs": [
    {
     "data": {
      "text/plain": [
       "4                              Anguilla\n",
       "26               British Virgin Islands\n",
       "34                           Cape Verde\n",
       "42                                Congo\n",
       "43                         Cook Islands\n",
       "47                              Curaçao\n",
       "50     Democratic Republic of the Congo\n",
       "55                           East Timor\n",
       "66                        France Monaco\n",
       "90        Italy San Marino Vatican City\n",
       "91                          Ivory Coast\n",
       "122                             Myanmar\n",
       "136                               Palau\n",
       "153               São Tomé and Príncipe\n",
       "156                 Serbia & Montenegro\n",
       "157                          Seychelles\n",
       "166                       Spain Andorra\n",
       "170           Switzerland Liechtenstein\n",
       "176                          The Gambia\n",
       "186                United Arab Emirates\n",
       "187                      United Kingdom\n",
       "191                             Vanuatu\n",
       "Name: Country, dtype: object"
      ]
     },
     "execution_count": 10,
     "metadata": {},
     "output_type": "execute_result"
    }
   ],
   "source": [
    "allData[allData['True']=='left_only'].Country"
   ]
  },
  {
   "cell_type": "code",
   "execution_count": 11,
   "id": "fc40d592",
   "metadata": {},
   "outputs": [
    {
     "data": {
      "text/plain": [
       "197                                World\n",
       "198                               France\n",
       "199                                   UK\n",
       "200                                Italy\n",
       "201                                Spain\n",
       "202                                  UAE\n",
       "203                          Switzerland\n",
       "204                               Serbia\n",
       "205                                Burma\n",
       "206                             Sudan[3]\n",
       "207                        Côte d'Ivoire\n",
       "208    Congo, Democratic Republic of the\n",
       "209                               Kosovo\n",
       "210                           Montenegro\n",
       "211                              Reunion\n",
       "212                                 Guam\n",
       "213                           Martinique\n",
       "214                           Guadeloupe\n",
       "215                 Netherlands Antilles\n",
       "216               Congo, Republic of the\n",
       "217                  U.S. Virgin Islands\n",
       "218                        French Guiana\n",
       "219                            Palestine\n",
       "220                        Faroe Islands\n",
       "221                               Gambia\n",
       "222                            Gibraltar\n",
       "223                           Micronesia\n",
       "224                       American Samoa\n",
       "225                       Western Sahara\n",
       "226                Sao Tome and Principe\n",
       "227            Saint Pierre and Miquelon\n",
       "228                           Montserrat\n",
       "229                     Falkland Islands\n",
       "230                         Saint Helena\n",
       "231                                 Niue\n",
       "Name: Country, dtype: object"
      ]
     },
     "execution_count": 11,
     "metadata": {},
     "output_type": "execute_result"
    }
   ],
   "source": [
    "allData[allData['True']=='right_only'].Country"
   ]
  },
  {
   "cell_type": "code",
   "execution_count": 12,
   "id": "d2cbe6ee",
   "metadata": {},
   "outputs": [],
   "source": [
    "UnmatchedLeft=allData[allData['True']=='left_only'].Country.to_list()\n",
    "UnmatchedRight=allData[allData['True']=='right_only'].Country.to_list()"
   ]
  },
  {
   "cell_type": "code",
   "execution_count": 13,
   "id": "057e4748",
   "metadata": {},
   "outputs": [
    {
     "data": {
      "text/plain": [
       "'Anguilla'"
      ]
     },
     "execution_count": 13,
     "metadata": {},
     "output_type": "execute_result"
    }
   ],
   "source": [
    "UnmatchedLeft[0]"
   ]
  },
  {
   "cell_type": "code",
   "execution_count": 14,
   "id": "57e8fc8b",
   "metadata": {},
   "outputs": [
    {
     "name": "stderr",
     "output_type": "stream",
     "text": [
      "C:\\Users\\John\\anaconda3\\lib\\site-packages\\thefuzz\\fuzz.py:11: UserWarning: Using slow pure-python SequenceMatcher. Install python-Levenshtein to remove this warning\n",
      "  warnings.warn('Using slow pure-python SequenceMatcher. Install python-Levenshtein to remove this warning')\n"
     ]
    },
    {
     "data": {
      "text/plain": [
       "('Netherlands Antilles', 56)"
      ]
     },
     "execution_count": 14,
     "metadata": {},
     "output_type": "execute_result"
    }
   ],
   "source": [
    "from thefuzz import process\n",
    "process.extractOne(UnmatchedLeft[0], UnmatchedRight)"
   ]
  },
  {
   "cell_type": "code",
   "execution_count": 15,
   "id": "00862050",
   "metadata": {},
   "outputs": [
    {
     "data": {
      "text/plain": [
       "[('Netherlands Antilles', 56), ('French Guiana', 56), ('Falkland Islands', 56)]"
      ]
     },
     "execution_count": 15,
     "metadata": {},
     "output_type": "execute_result"
    }
   ],
   "source": [
    "process.extract(UnmatchedLeft[0], UnmatchedRight,limit=3)"
   ]
  },
  {
   "cell_type": "code",
   "execution_count": 16,
   "id": "89696baf",
   "metadata": {},
   "outputs": [
    {
     "data": {
      "text/plain": [
       "['Anguilla',\n",
       " 'British Virgin Islands',\n",
       " 'Cape Verde',\n",
       " 'Congo',\n",
       " 'Cook Islands',\n",
       " 'Curaçao',\n",
       " 'Democratic Republic of the Congo',\n",
       " 'East Timor',\n",
       " 'France\\xa0Monaco',\n",
       " 'Italy\\xa0San Marino Vatican City',\n",
       " 'Ivory Coast',\n",
       " 'Myanmar',\n",
       " 'Palau',\n",
       " 'São Tomé and Príncipe',\n",
       " 'Serbia & Montenegro',\n",
       " 'Seychelles',\n",
       " 'Spain\\xa0Andorra',\n",
       " 'Switzerland\\xa0Liechtenstein',\n",
       " 'The Gambia',\n",
       " 'United Arab Emirates',\n",
       " 'United Kingdom',\n",
       " 'Vanuatu']"
      ]
     },
     "execution_count": 16,
     "metadata": {},
     "output_type": "execute_result"
    }
   ],
   "source": [
    "UnmatchedLeft=allData[allData['True']=='left_only'].Country.to_list()\n",
    "UnmatchedLeft"
   ]
  },
  {
   "cell_type": "code",
   "execution_count": 17,
   "id": "a314c083",
   "metadata": {
    "scrolled": true
   },
   "outputs": [
    {
     "data": {
      "text/plain": [
       "[('Anguilla', ('Netherlands Antilles', 56)),\n",
       " ('British Virgin Islands', ('Faroe Islands', 86)),\n",
       " ('Cape Verde', ('UAE', 60)),\n",
       " ('Congo', ('Congo, Democratic Republic of the', 90)),\n",
       " ('Cook Islands', ('U.S. Virgin Islands', 86)),\n",
       " ('Curaçao', ('UAE', 60)),\n",
       " ('Democratic Republic of the Congo',\n",
       "  ('Congo, Democratic Republic of the', 95)),\n",
       " ('East Timor', ('World', 45)),\n",
       " ('France\\xa0Monaco', ('France', 90)),\n",
       " ('Italy\\xa0San Marino Vatican City', ('Italy', 90)),\n",
       " ('Ivory Coast', (\"Côte d'Ivoire\", 58)),\n",
       " ('Myanmar', ('American Samoa', 48)),\n",
       " ('Palau', ('UK', 60)),\n",
       " ('Serbia & Montenegro', ('Serbia', 90)),\n",
       " ('Seychelles', ('Netherlands Antilles', 47)),\n",
       " ('Spain\\xa0Andorra', ('Spain', 90)),\n",
       " ('Switzerland\\xa0Liechtenstein', ('Switzerland', 90)),\n",
       " ('São Tomé and Príncipe', ('Sao Tome and Principe', 92)),\n",
       " ('The Gambia', ('Gambia', 90)),\n",
       " ('United Arab Emirates', ('Niue', 68)),\n",
       " ('United Kingdom', ('Niue', 68)),\n",
       " ('Vanuatu', ('UAE', 60))]"
      ]
     },
     "execution_count": 17,
     "metadata": {},
     "output_type": "execute_result"
    }
   ],
   "source": [
    "[(left, process.extractOne(left, UnmatchedRight,)) for left in sorted(UnmatchedLeft) ]"
   ]
  },
  {
   "cell_type": "code",
   "execution_count": 18,
   "id": "619513e0",
   "metadata": {},
   "outputs": [],
   "source": [
    "TotallyWrong=[('Anguilla', ('Netherlands Antilles', 56)),\n",
    " ('British Virgin Islands', ('Faroe Islands', 86)),\n",
    " ('Cape Verde', ('UAE', 60)),\n",
    " ('Congo', ('Congo, Democratic Republic of the', 90)),\n",
    " ('Cook Islands', ('U.S. Virgin Islands', 86)),\n",
    " ('Curaçao', ('UAE', 60)),\n",
    " ('East Timor', ('World', 45)),\n",
    " ('Myanmar', ('American Samoa', 48)),\n",
    " ('Palau', ('UK', 60)),\n",
    " ('Seychelles', ('Netherlands Antilles', 47)),\n",
    " ('United Arab Emirates', ('Niue', 68)),\n",
    " ('United Kingdom', ('Niue', 68)),\n",
    " ('Vanuatu', ('UAE', 60))]"
   ]
  },
  {
   "cell_type": "code",
   "execution_count": 19,
   "id": "d0d18224",
   "metadata": {},
   "outputs": [
    {
     "data": {
      "text/plain": [
       "['Anguilla',\n",
       " 'British Virgin Islands',\n",
       " 'Cape Verde',\n",
       " 'Congo',\n",
       " 'Cook Islands',\n",
       " 'Curaçao',\n",
       " 'East Timor',\n",
       " 'Myanmar',\n",
       " 'Palau',\n",
       " 'Seychelles',\n",
       " 'United Arab Emirates',\n",
       " 'United Kingdom',\n",
       " 'Vanuatu']"
      ]
     },
     "execution_count": 19,
     "metadata": {},
     "output_type": "execute_result"
    }
   ],
   "source": [
    "omitLeft=[leftName for (leftName,rightFuzzy) in TotallyWrong] #parenthesis not needed\n",
    "\n",
    "omitLeft"
   ]
  },
  {
   "cell_type": "code",
   "execution_count": 20,
   "id": "09d16307",
   "metadata": {},
   "outputs": [
    {
     "data": {
      "text/plain": [
       "{'Congo, Democratic Republic of the': 'Democratic Republic of the Congo',\n",
       " 'France': 'France\\xa0Monaco',\n",
       " 'Italy': 'Italy\\xa0San Marino Vatican City',\n",
       " \"Côte d'Ivoire\": 'Ivory Coast',\n",
       " 'Sao Tome and Principe': 'São Tomé and Príncipe',\n",
       " 'Serbia': 'Serbia & Montenegro',\n",
       " 'Spain': 'Spain\\xa0Andorra',\n",
       " 'Switzerland': 'Switzerland\\xa0Liechtenstein',\n",
       " 'Gambia': 'The Gambia'}"
      ]
     },
     "execution_count": 20,
     "metadata": {},
     "output_type": "execute_result"
    }
   ],
   "source": [
    "{process.extractOne(left, UnmatchedRight)[0]:left for left in UnmatchedLeft if left not in omitLeft}"
   ]
  },
  {
   "cell_type": "code",
   "execution_count": 21,
   "id": "72b3f50c",
   "metadata": {},
   "outputs": [],
   "source": [
    "bruteForceChanges={'Congo, Democratic Republic of the': 'Democratic Republic of the Congo',\n",
    " 'France': 'France\\xa0Monaco',\n",
    " 'Italy': 'Italy\\xa0San Marino Vatican City',\n",
    " 'Sao Tome and Principe': 'São Tomé and Príncipe',\n",
    " 'Serbia': 'Serbia & Montenegro',\n",
    " 'Spain': 'Spain\\xa0Andorra',\n",
    " 'Switzerland': 'Switzerland\\xa0Liechtenstein',\n",
    " 'Gambia': 'The Gambia',\n",
    " 'UAE':'United Arab Emirates' ,  \n",
    "'UK':'United Kingdom' }"
   ]
  },
  {
   "cell_type": "code",
   "execution_count": 22,
   "id": "f0baf795",
   "metadata": {},
   "outputs": [],
   "source": [
    "DataGWh.Country.replace(bruteForceChanges,inplace=True)"
   ]
  },
  {
   "cell_type": "code",
   "execution_count": 23,
   "id": "22466111",
   "metadata": {
    "scrolled": true
   },
   "outputs": [
    {
     "data": {
      "text/plain": [
       "(185, 6)"
      ]
     },
     "execution_count": 23,
     "metadata": {},
     "output_type": "execute_result"
    }
   ],
   "source": [
    "allData=mainData.merge(DataGWh,left_on=\"Country\",right_on=\"Country\")\n",
    "allData.shape"
   ]
  },
  {
   "cell_type": "code",
   "execution_count": 24,
   "id": "a0e58b23",
   "metadata": {},
   "outputs": [],
   "source": [
    "allData=allData.replace('%','',regex=True)"
   ]
  },
  {
   "cell_type": "code",
   "execution_count": 25,
   "id": "8c134098",
   "metadata": {},
   "outputs": [
    {
     "data": {
      "text/html": [
       "<div>\n",
       "<style scoped>\n",
       "    .dataframe tbody tr th:only-of-type {\n",
       "        vertical-align: middle;\n",
       "    }\n",
       "\n",
       "    .dataframe tbody tr th {\n",
       "        vertical-align: top;\n",
       "    }\n",
       "\n",
       "    .dataframe thead th {\n",
       "        text-align: right;\n",
       "    }\n",
       "</style>\n",
       "<table border=\"1\" class=\"dataframe\">\n",
       "  <thead>\n",
       "    <tr style=\"text-align: right;\">\n",
       "      <th></th>\n",
       "      <th>Country</th>\n",
       "      <th>2017CO2Emissions</th>\n",
       "      <th>PercentofWorldEmissions</th>\n",
       "      <th>PerCapitaEmissions</th>\n",
       "      <th>GDP(US$Million)</th>\n",
       "      <th>EnergyOutput(GWH)</th>\n",
       "    </tr>\n",
       "  </thead>\n",
       "  <tbody>\n",
       "    <tr>\n",
       "      <th>0</th>\n",
       "      <td>Afghanistan</td>\n",
       "      <td>11.422</td>\n",
       "      <td>0.03</td>\n",
       "      <td>0.3</td>\n",
       "      <td>19793.0</td>\n",
       "      <td>833</td>\n",
       "    </tr>\n",
       "    <tr>\n",
       "      <th>1</th>\n",
       "      <td>Albania</td>\n",
       "      <td>5.026</td>\n",
       "      <td>0.01</td>\n",
       "      <td>1.7</td>\n",
       "      <td>14910.0</td>\n",
       "      <td>4525</td>\n",
       "    </tr>\n",
       "    <tr>\n",
       "      <th>2</th>\n",
       "      <td>Algeria</td>\n",
       "      <td>159.929</td>\n",
       "      <td>0.43</td>\n",
       "      <td>3.9</td>\n",
       "      <td>147689.0</td>\n",
       "      <td>78800</td>\n",
       "    </tr>\n",
       "    <tr>\n",
       "      <th>3</th>\n",
       "      <td>Angola</td>\n",
       "      <td>30.876</td>\n",
       "      <td>0.08</td>\n",
       "      <td>1.0</td>\n",
       "      <td>62307.0</td>\n",
       "      <td>5512</td>\n",
       "    </tr>\n",
       "    <tr>\n",
       "      <th>4</th>\n",
       "      <td>Antigua and Barbuda</td>\n",
       "      <td>0.624</td>\n",
       "      <td>0.00</td>\n",
       "      <td>6.1</td>\n",
       "      <td>1370.0</td>\n",
       "      <td>331</td>\n",
       "    </tr>\n",
       "    <tr>\n",
       "      <th>...</th>\n",
       "      <td>...</td>\n",
       "      <td>...</td>\n",
       "      <td>...</td>\n",
       "      <td>...</td>\n",
       "      <td>...</td>\n",
       "      <td>...</td>\n",
       "    </tr>\n",
       "    <tr>\n",
       "      <th>180</th>\n",
       "      <td>Venezuela</td>\n",
       "      <td>145.877</td>\n",
       "      <td>0.39</td>\n",
       "      <td>4.6</td>\n",
       "      <td>106359.0</td>\n",
       "      <td>58400</td>\n",
       "    </tr>\n",
       "    <tr>\n",
       "      <th>181</th>\n",
       "      <td>Vietnam</td>\n",
       "      <td>218.729</td>\n",
       "      <td>0.59</td>\n",
       "      <td>2.3</td>\n",
       "      <td>271158.0</td>\n",
       "      <td>243500</td>\n",
       "    </tr>\n",
       "    <tr>\n",
       "      <th>182</th>\n",
       "      <td>Yemen</td>\n",
       "      <td>12.503</td>\n",
       "      <td>0.03</td>\n",
       "      <td>0.4</td>\n",
       "      <td>27958.0</td>\n",
       "      <td>5834</td>\n",
       "    </tr>\n",
       "    <tr>\n",
       "      <th>183</th>\n",
       "      <td>Zambia</td>\n",
       "      <td>4.967</td>\n",
       "      <td>0.01</td>\n",
       "      <td>0.3</td>\n",
       "      <td>18111.0</td>\n",
       "      <td>15982</td>\n",
       "    </tr>\n",
       "    <tr>\n",
       "      <th>184</th>\n",
       "      <td>Zimbabwe</td>\n",
       "      <td>12.087</td>\n",
       "      <td>0.03</td>\n",
       "      <td>0.7</td>\n",
       "      <td>21787.0</td>\n",
       "      <td>11311</td>\n",
       "    </tr>\n",
       "  </tbody>\n",
       "</table>\n",
       "<p>185 rows × 6 columns</p>\n",
       "</div>"
      ],
      "text/plain": [
       "                 Country  2017CO2Emissions PercentofWorldEmissions  \\\n",
       "0            Afghanistan            11.422                    0.03   \n",
       "1                Albania             5.026                    0.01   \n",
       "2                Algeria           159.929                    0.43   \n",
       "3                 Angola            30.876                    0.08   \n",
       "4    Antigua and Barbuda             0.624                    0.00   \n",
       "..                   ...               ...                     ...   \n",
       "180            Venezuela           145.877                    0.39   \n",
       "181              Vietnam           218.729                    0.59   \n",
       "182                Yemen            12.503                    0.03   \n",
       "183               Zambia             4.967                    0.01   \n",
       "184             Zimbabwe            12.087                    0.03   \n",
       "\n",
       "     PerCapitaEmissions  GDP(US$Million)  EnergyOutput(GWH)  \n",
       "0                   0.3          19793.0                833  \n",
       "1                   1.7          14910.0               4525  \n",
       "2                   3.9         147689.0              78800  \n",
       "3                   1.0          62307.0               5512  \n",
       "4                   6.1           1370.0                331  \n",
       "..                  ...              ...                ...  \n",
       "180                 4.6         106359.0              58400  \n",
       "181                 2.3         271158.0             243500  \n",
       "182                 0.4          27958.0               5834  \n",
       "183                 0.3          18111.0              15982  \n",
       "184                 0.7          21787.0              11311  \n",
       "\n",
       "[185 rows x 6 columns]"
      ]
     },
     "execution_count": 25,
     "metadata": {},
     "output_type": "execute_result"
    }
   ],
   "source": [
    "allData"
   ]
  },
  {
   "cell_type": "code",
   "execution_count": 26,
   "id": "e229ea4a",
   "metadata": {
    "scrolled": true
   },
   "outputs": [],
   "source": [
    "allData.to_csv('allData.csv',index=False)"
   ]
  },
  {
   "cell_type": "code",
   "execution_count": null,
   "id": "2d4e0e29",
   "metadata": {},
   "outputs": [],
   "source": []
  }
 ],
 "metadata": {
  "kernelspec": {
   "display_name": "Python 3 (ipykernel)",
   "language": "python",
   "name": "python3"
  },
  "language_info": {
   "codemirror_mode": {
    "name": "ipython",
    "version": 3
   },
   "file_extension": ".py",
   "mimetype": "text/x-python",
   "name": "python",
   "nbconvert_exporter": "python",
   "pygments_lexer": "ipython3",
   "version": "3.9.7"
  }
 },
 "nbformat": 4,
 "nbformat_minor": 5
}
