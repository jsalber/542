{
 "cells": [
  {
   "cell_type": "code",
   "execution_count": 1,
   "id": "ac645546",
   "metadata": {},
   "outputs": [],
   "source": [
    "import pandas as pd\n",
    "linkmainData=\"https://raw.githubusercontent.com/jsalber/542/main/First%20Assignment/GDPandCO2.csv\"\n",
    "linkDataGWh=\"https://raw.githubusercontent.com/jsalber/542/main/First%20Assignment/Energy%20Production.csv\"\n",
    "DataGWh=pd.read_csv(linkDataGWh)\n",
    "mainData=pd.read_csv(linkmainData)"
   ]
  },
  {
   "cell_type": "code",
   "execution_count": 2,
   "id": "3d8ee7f8",
   "metadata": {},
   "outputs": [
    {
     "data": {
      "text/plain": [
       "Index(['Country', 'EnergyOutput(GWH)'], dtype='object')"
      ]
     },
     "execution_count": 2,
     "metadata": {},
     "output_type": "execute_result"
    }
   ],
   "source": [
    "DataGWh.columns\n"
   ]
  },
  {
   "cell_type": "code",
   "execution_count": 3,
   "id": "2e9ba40c",
   "metadata": {},
   "outputs": [
    {
     "data": {
      "text/plain": [
       "Index(['Country', '2017CO2Emissions', 'PercentofWorldEmissions',\n",
       "       'PerCapitaEmissions', 'GDP(US$Million)'],\n",
       "      dtype='object')"
      ]
     },
     "execution_count": 3,
     "metadata": {},
     "output_type": "execute_result"
    }
   ],
   "source": [
    "mainData.columns"
   ]
  },
  {
   "cell_type": "code",
   "execution_count": 4,
   "id": "f6fbf9c6",
   "metadata": {},
   "outputs": [],
   "source": [
    "allData=mainData.merge(DataGWh,left_on=\"Country\",right_on=\"Country\")"
   ]
  },
  {
   "cell_type": "code",
   "execution_count": 5,
   "id": "6bc3cb7c",
   "metadata": {},
   "outputs": [
    {
     "data": {
      "text/plain": [
       "(193, 5)"
      ]
     },
     "execution_count": 5,
     "metadata": {},
     "output_type": "execute_result"
    }
   ],
   "source": [
    "mainData.shape\n"
   ]
  },
  {
   "cell_type": "code",
   "execution_count": 6,
   "id": "0ed68450",
   "metadata": {},
   "outputs": [
    {
     "data": {
      "text/plain": [
       "(210, 2)"
      ]
     },
     "execution_count": 6,
     "metadata": {},
     "output_type": "execute_result"
    }
   ],
   "source": [
    "DataGWh.shape"
   ]
  },
  {
   "cell_type": "code",
   "execution_count": 7,
   "id": "69829b22",
   "metadata": {},
   "outputs": [],
   "source": [
    "allData=mainData.merge(DataGWh,left_on=\"Country\",right_on=\"Country\",how='outer',indicator='True')"
   ]
  },
  {
   "cell_type": "code",
   "execution_count": 8,
   "id": "ca1c1b65",
   "metadata": {},
   "outputs": [
    {
     "data": {
      "text/plain": [
       "Index(['Country', '2017CO2Emissions', 'PercentofWorldEmissions',\n",
       "       'PerCapitaEmissions', 'GDP(US$Million)', 'EnergyOutput(GWH)', 'True'],\n",
       "      dtype='object')"
      ]
     },
     "execution_count": 8,
     "metadata": {},
     "output_type": "execute_result"
    }
   ],
   "source": [
    "allData.columns"
   ]
  },
  {
   "cell_type": "code",
   "execution_count": 9,
   "id": "15cf448f",
   "metadata": {},
   "outputs": [
    {
     "data": {
      "text/plain": [
       "both          175\n",
       "right_only     35\n",
       "left_only      18\n",
       "Name: True, dtype: int64"
      ]
     },
     "execution_count": 9,
     "metadata": {},
     "output_type": "execute_result"
    }
   ],
   "source": [
    "allData['True'].value_counts()"
   ]
  },
  {
   "cell_type": "code",
   "execution_count": 10,
   "id": "4d4d0635",
   "metadata": {},
   "outputs": [
    {
     "data": {
      "text/plain": [
       "4                              Anguilla\n",
       "26               British Virgin Islands\n",
       "34                           Cape Verde\n",
       "42                                Congo\n",
       "43                         Cook Islands\n",
       "47                              Curaçao\n",
       "50     Democratic Republic of the Congo\n",
       "55                           East Timor\n",
       "89                          Ivory Coast\n",
       "120                             Myanmar\n",
       "134                               Palau\n",
       "151               São Tomé and Príncipe\n",
       "154                          Seychelles\n",
       "166           Switzerland Liechtenstein\n",
       "172                          The Gambia\n",
       "182                United Arab Emirates\n",
       "183                      United Kingdom\n",
       "187                             Vanuatu\n",
       "Name: Country, dtype: object"
      ]
     },
     "execution_count": 10,
     "metadata": {},
     "output_type": "execute_result"
    }
   ],
   "source": [
    "allData[allData['True']=='left_only'].Country"
   ]
  },
  {
   "cell_type": "code",
   "execution_count": 11,
   "id": "29bfd59e",
   "metadata": {},
   "outputs": [
    {
     "data": {
      "text/plain": [
       "193                                World\n",
       "194                               France\n",
       "195                                   UK\n",
       "196                                Italy\n",
       "197                                Spain\n",
       "198                                  UAE\n",
       "199                          Switzerland\n",
       "200                               Serbia\n",
       "201                                Burma\n",
       "202                             Sudan[3]\n",
       "203                        Côte d'Ivoire\n",
       "204    Congo, Democratic Republic of the\n",
       "205                               Kosovo\n",
       "206                           Montenegro\n",
       "207                              Reunion\n",
       "208                                 Guam\n",
       "209                           Martinique\n",
       "210                           Guadeloupe\n",
       "211                 Netherlands Antilles\n",
       "212               Congo, Republic of the\n",
       "213                  U.S. Virgin Islands\n",
       "214                        French Guiana\n",
       "215                            Palestine\n",
       "216                        Faroe Islands\n",
       "217                               Gambia\n",
       "218                            Gibraltar\n",
       "219                           Micronesia\n",
       "220                       American Samoa\n",
       "221                       Western Sahara\n",
       "222                Sao Tome and Principe\n",
       "223            Saint Pierre and Miquelon\n",
       "224                           Montserrat\n",
       "225                     Falkland Islands\n",
       "226                         Saint Helena\n",
       "227                                 Niue\n",
       "Name: Country, dtype: object"
      ]
     },
     "execution_count": 11,
     "metadata": {},
     "output_type": "execute_result"
    }
   ],
   "source": [
    "allData[allData['True']=='right_only'].Country"
   ]
  },
  {
   "cell_type": "code",
   "execution_count": 12,
   "id": "ae4e5b7f",
   "metadata": {},
   "outputs": [],
   "source": [
    "UnmatchedLeft=allData[allData['True']=='left_only'].Country.to_list()\n",
    "UnmatchedRight=allData[allData['True']=='right_only'].Country.to_list()"
   ]
  },
  {
   "cell_type": "code",
   "execution_count": 13,
   "id": "1388ec19",
   "metadata": {},
   "outputs": [
    {
     "data": {
      "text/plain": [
       "'Anguilla'"
      ]
     },
     "execution_count": 13,
     "metadata": {},
     "output_type": "execute_result"
    }
   ],
   "source": [
    "UnmatchedLeft[0]"
   ]
  },
  {
   "cell_type": "code",
   "execution_count": 14,
   "id": "48f8d18b",
   "metadata": {},
   "outputs": [
    {
     "name": "stderr",
     "output_type": "stream",
     "text": [
      "C:\\Users\\John\\anaconda3\\lib\\site-packages\\thefuzz\\fuzz.py:11: UserWarning: Using slow pure-python SequenceMatcher. Install python-Levenshtein to remove this warning\n",
      "  warnings.warn('Using slow pure-python SequenceMatcher. Install python-Levenshtein to remove this warning')\n"
     ]
    },
    {
     "data": {
      "text/plain": [
       "('Netherlands Antilles', 56)"
      ]
     },
     "execution_count": 14,
     "metadata": {},
     "output_type": "execute_result"
    }
   ],
   "source": [
    "from thefuzz import process\n",
    "process.extractOne(UnmatchedLeft[0], UnmatchedRight)"
   ]
  },
  {
   "cell_type": "code",
   "execution_count": 15,
   "id": "27a22e5d",
   "metadata": {},
   "outputs": [
    {
     "data": {
      "text/plain": [
       "[('Netherlands Antilles', 56), ('French Guiana', 56), ('Falkland Islands', 56)]"
      ]
     },
     "execution_count": 15,
     "metadata": {},
     "output_type": "execute_result"
    }
   ],
   "source": [
    "process.extract(UnmatchedLeft[0], UnmatchedRight,limit=3)"
   ]
  },
  {
   "cell_type": "code",
   "execution_count": 16,
   "id": "6d81dcfc",
   "metadata": {},
   "outputs": [
    {
     "data": {
      "text/plain": [
       "['Anguilla',\n",
       " 'British Virgin Islands',\n",
       " 'Cape Verde',\n",
       " 'Congo',\n",
       " 'Cook Islands',\n",
       " 'Curaçao',\n",
       " 'Democratic Republic of the Congo',\n",
       " 'East Timor',\n",
       " 'Ivory Coast',\n",
       " 'Myanmar',\n",
       " 'Palau',\n",
       " 'São Tomé and Príncipe',\n",
       " 'Seychelles',\n",
       " 'Switzerland\\xa0Liechtenstein',\n",
       " 'The Gambia',\n",
       " 'United Arab Emirates',\n",
       " 'United Kingdom',\n",
       " 'Vanuatu']"
      ]
     },
     "execution_count": 16,
     "metadata": {},
     "output_type": "execute_result"
    }
   ],
   "source": [
    "UnmatchedLeft=allData[allData['True']=='left_only'].Country.to_list()\n",
    "UnmatchedLeft"
   ]
  },
  {
   "cell_type": "code",
   "execution_count": null,
   "id": "0f15a5bb",
   "metadata": {
    "scrolled": true
   },
   "outputs": [],
   "source": [
    "[(left, process.extractOne(left, UnmatchedRight)) for left in sorted(UnmatchedLeft)]"
   ]
  },
  {
   "cell_type": "code",
   "execution_count": null,
   "id": "6026b306",
   "metadata": {},
   "outputs": [],
   "source": [
    "TotallyWrong=[('Anguilla', ('Netherlands Antilles', 56)),\n",
    " ('British Virgin Islands', ('Faroe Islands', 86)),\n",
    " ('Cape Verde', ('UAE', 60)),\n",
    " ('Congo', ('Congo, Democratic Republic of the', 90)),\n",
    " ('Cook Islands', ('U.S. Virgin Islands', 86)),\n",
    " ('Curaçao', ('UAE', 60)),\n",
    " ('East Timor', ('World', 45)),\n",
    " ('Myanmar', ('American Samoa', 48)),\n",
    " ('Palau', ('UK', 60)),\n",
    " ('Seychelles', ('Netherlands Antilles', 47)),\n",
    " ('United Arab Emirates', ('Niue', 68)),\n",
    " ('United Kingdom', ('Niue', 68)),\n",
    " ('Vanuatu', ('UAE', 60))]"
   ]
  },
  {
   "cell_type": "code",
   "execution_count": null,
   "id": "96915a54",
   "metadata": {},
   "outputs": [],
   "source": [
    "omitLeft=[leftName for (leftName,rightFuzzy) in TotallyWrong] #parenthesis not needed\n",
    "omitLeft"
   ]
  },
  {
   "cell_type": "code",
   "execution_count": null,
   "id": "ca1cffc4",
   "metadata": {},
   "outputs": [],
   "source": [
    "{process.extractOne(left, UnmatchedRight)[0]:left for left in UnmatchedLeft if left not in omitLeft}"
   ]
  },
  {
   "cell_type": "code",
   "execution_count": null,
   "id": "fcfdfe8a",
   "metadata": {},
   "outputs": [],
   "source": [
    "bruteForceChanges={'Congo, Democratic Republic of the': 'Democratic Republic of the Congo',\n",
    " \"Côte d'Ivoire\": 'Ivory Coast',\n",
    " 'Sao Tome and Principe': 'São Tomé and Príncipe',\n",
    " 'Switzerland': 'Switzerland\\xa0Liechtenstein',\n",
    " 'Gambia': 'The Gambia',\n",
    " 'United Arab Emirates': 'UAE',  \n",
    "  'United Kingdom': 'UK'                }"
   ]
  },
  {
   "cell_type": "code",
   "execution_count": null,
   "id": "27e99f5f",
   "metadata": {},
   "outputs": [],
   "source": [
    "DataGWh.Country.replace(bruteForceChanges,inplace=True)"
   ]
  },
  {
   "cell_type": "code",
   "execution_count": null,
   "id": "f2578ce6",
   "metadata": {},
   "outputs": [],
   "source": [
    "allData=mainData.merge(DataGWh,left_on=\"Country\",right_on=\"Country\")\n",
    "allData.shape"
   ]
  },
  {
   "cell_type": "code",
   "execution_count": null,
   "id": "d2421c72",
   "metadata": {},
   "outputs": [],
   "source": [
    "allData"
   ]
  },
  {
   "cell_type": "code",
   "execution_count": null,
   "id": "850c66b3",
   "metadata": {},
   "outputs": [],
   "source": [
    "allData.to_csv('allData.csv',index=False)"
   ]
  },
  {
   "cell_type": "code",
   "execution_count": null,
   "id": "4cac4890",
   "metadata": {},
   "outputs": [],
   "source": []
  }
 ],
 "metadata": {
  "kernelspec": {
   "display_name": "Python 3 (ipykernel)",
   "language": "python",
   "name": "python3"
  },
  "language_info": {
   "codemirror_mode": {
    "name": "ipython",
    "version": 3
   },
   "file_extension": ".py",
   "mimetype": "text/x-python",
   "name": "python",
   "nbconvert_exporter": "python",
   "pygments_lexer": "ipython3",
   "version": "3.9.7"
  }
 },
 "nbformat": 4,
 "nbformat_minor": 5
}
