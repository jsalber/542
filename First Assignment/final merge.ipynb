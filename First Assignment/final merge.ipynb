{
 "cells": [
  {
   "cell_type": "code",
   "execution_count": 4,
   "id": "2a5f8eb1",
   "metadata": {},
   "outputs": [],
   "source": [
    "import pandas as pd\n",
    "linkmainData=\"https://github.com/jsalber/542/raw/main/First%20Assignment/Final%20Data/GDPandCO2.csv\"\n",
    "linkDataGWh=\"https://raw.githubusercontent.com/jsalber/542/main/First%20Assignment/Energy%20Production.csv\"\n",
    "DataGWh=pd.read_csv(linkDataGWh)\n",
    "mainData=pd.read_csv(linkmainData)"
   ]
  },
  {
   "cell_type": "code",
   "execution_count": 5,
   "id": "7f099f1a",
   "metadata": {},
   "outputs": [
    {
     "data": {
      "text/plain": [
       "Index(['Country', 'EnergyConsumptionPerCapita(Watts)'], dtype='object')"
      ]
     },
     "execution_count": 5,
     "metadata": {},
     "output_type": "execute_result"
    }
   ],
   "source": [
    "DataGWh.columns\n"
   ]
  },
  {
   "cell_type": "code",
   "execution_count": 6,
   "id": "ac1d2120",
   "metadata": {},
   "outputs": [
    {
     "data": {
      "text/html": [
       "<div>\n",
       "<style scoped>\n",
       "    .dataframe tbody tr th:only-of-type {\n",
       "        vertical-align: middle;\n",
       "    }\n",
       "\n",
       "    .dataframe tbody tr th {\n",
       "        vertical-align: top;\n",
       "    }\n",
       "\n",
       "    .dataframe thead th {\n",
       "        text-align: right;\n",
       "    }\n",
       "</style>\n",
       "<table border=\"1\" class=\"dataframe\">\n",
       "  <thead>\n",
       "    <tr style=\"text-align: right;\">\n",
       "      <th></th>\n",
       "      <th>Country</th>\n",
       "      <th>2017CO2Emissions</th>\n",
       "      <th>PercentofWorldEmissions</th>\n",
       "      <th>PerCapitaEmissions</th>\n",
       "      <th>GDP(US$Million)</th>\n",
       "    </tr>\n",
       "  </thead>\n",
       "  <tbody>\n",
       "    <tr>\n",
       "      <th>0</th>\n",
       "      <td>World</td>\n",
       "      <td>37077.404</td>\n",
       "      <td>100.00%</td>\n",
       "      <td>4.9</td>\n",
       "      <td>10949.0</td>\n",
       "    </tr>\n",
       "    <tr>\n",
       "      <th>1</th>\n",
       "      <td>Afghanistan</td>\n",
       "      <td>11.422</td>\n",
       "      <td>0.03%</td>\n",
       "      <td>0.3</td>\n",
       "      <td>508.0</td>\n",
       "    </tr>\n",
       "    <tr>\n",
       "      <th>2</th>\n",
       "      <td>Albania</td>\n",
       "      <td>5.026</td>\n",
       "      <td>0.01%</td>\n",
       "      <td>1.7</td>\n",
       "      <td>5181.0</td>\n",
       "    </tr>\n",
       "    <tr>\n",
       "      <th>3</th>\n",
       "      <td>Algeria</td>\n",
       "      <td>159.929</td>\n",
       "      <td>0.43%</td>\n",
       "      <td>3.9</td>\n",
       "      <td>3368.0</td>\n",
       "    </tr>\n",
       "    <tr>\n",
       "      <th>4</th>\n",
       "      <td>Angola</td>\n",
       "      <td>30.876</td>\n",
       "      <td>0.08%</td>\n",
       "      <td>1.0</td>\n",
       "      <td>1896.0</td>\n",
       "    </tr>\n",
       "    <tr>\n",
       "      <th>...</th>\n",
       "      <td>...</td>\n",
       "      <td>...</td>\n",
       "      <td>...</td>\n",
       "      <td>...</td>\n",
       "      <td>...</td>\n",
       "    </tr>\n",
       "    <tr>\n",
       "      <th>194</th>\n",
       "      <td>Venezuela</td>\n",
       "      <td>145.877</td>\n",
       "      <td>0.39%</td>\n",
       "      <td>4.6</td>\n",
       "      <td>3740.0</td>\n",
       "    </tr>\n",
       "    <tr>\n",
       "      <th>195</th>\n",
       "      <td>Vietnam</td>\n",
       "      <td>218.729</td>\n",
       "      <td>0.59%</td>\n",
       "      <td>2.3</td>\n",
       "      <td>2786.0</td>\n",
       "    </tr>\n",
       "    <tr>\n",
       "      <th>196</th>\n",
       "      <td>Yemen</td>\n",
       "      <td>12.503</td>\n",
       "      <td>0.03%</td>\n",
       "      <td>0.4</td>\n",
       "      <td>937.0</td>\n",
       "    </tr>\n",
       "    <tr>\n",
       "      <th>197</th>\n",
       "      <td>Zambia</td>\n",
       "      <td>4.967</td>\n",
       "      <td>0.01%</td>\n",
       "      <td>0.3</td>\n",
       "      <td>985.0</td>\n",
       "    </tr>\n",
       "    <tr>\n",
       "      <th>198</th>\n",
       "      <td>Zimbabwe</td>\n",
       "      <td>12.087</td>\n",
       "      <td>0.03%</td>\n",
       "      <td>0.7</td>\n",
       "      <td>1466.0</td>\n",
       "    </tr>\n",
       "  </tbody>\n",
       "</table>\n",
       "<p>199 rows × 5 columns</p>\n",
       "</div>"
      ],
      "text/plain": [
       "         Country  2017CO2Emissions PercentofWorldEmissions  \\\n",
       "0          World         37077.404                 100.00%   \n",
       "1    Afghanistan            11.422                   0.03%   \n",
       "2        Albania             5.026                   0.01%   \n",
       "3        Algeria           159.929                   0.43%   \n",
       "4         Angola            30.876                   0.08%   \n",
       "..           ...               ...                     ...   \n",
       "194    Venezuela           145.877                   0.39%   \n",
       "195      Vietnam           218.729                   0.59%   \n",
       "196        Yemen            12.503                   0.03%   \n",
       "197       Zambia             4.967                   0.01%   \n",
       "198     Zimbabwe            12.087                   0.03%   \n",
       "\n",
       "     PerCapitaEmissions  GDP(US$Million)  \n",
       "0                   4.9          10949.0  \n",
       "1                   0.3            508.0  \n",
       "2                   1.7           5181.0  \n",
       "3                   3.9           3368.0  \n",
       "4                   1.0           1896.0  \n",
       "..                  ...              ...  \n",
       "194                 4.6           3740.0  \n",
       "195                 2.3           2786.0  \n",
       "196                 0.4            937.0  \n",
       "197                 0.3            985.0  \n",
       "198                 0.7           1466.0  \n",
       "\n",
       "[199 rows x 5 columns]"
      ]
     },
     "execution_count": 6,
     "metadata": {},
     "output_type": "execute_result"
    }
   ],
   "source": [
    "mainData"
   ]
  },
  {
   "cell_type": "code",
   "execution_count": 7,
   "id": "b822355e",
   "metadata": {},
   "outputs": [],
   "source": [
    "allData=mainData.merge(DataGWh,left_on=\"Country\",right_on=\"Country\")"
   ]
  },
  {
   "cell_type": "code",
   "execution_count": 8,
   "id": "69e43968",
   "metadata": {},
   "outputs": [
    {
     "data": {
      "text/plain": [
       "(199, 5)"
      ]
     },
     "execution_count": 8,
     "metadata": {},
     "output_type": "execute_result"
    }
   ],
   "source": [
    "mainData.shape\n"
   ]
  },
  {
   "cell_type": "code",
   "execution_count": 9,
   "id": "dd32bf38",
   "metadata": {},
   "outputs": [
    {
     "data": {
      "text/plain": [
       "(137, 2)"
      ]
     },
     "execution_count": 9,
     "metadata": {},
     "output_type": "execute_result"
    }
   ],
   "source": [
    "DataGWh.shape"
   ]
  },
  {
   "cell_type": "code",
   "execution_count": 10,
   "id": "747d237d",
   "metadata": {},
   "outputs": [],
   "source": [
    "allData=mainData.merge(DataGWh,left_on=\"Country\",right_on=\"Country\",how='outer',indicator='True')"
   ]
  },
  {
   "cell_type": "code",
   "execution_count": 11,
   "id": "35fddc95",
   "metadata": {},
   "outputs": [
    {
     "data": {
      "text/plain": [
       "Index(['Country', '2017CO2Emissions', 'PercentofWorldEmissions',\n",
       "       'PerCapitaEmissions', 'GDP(US$Million)',\n",
       "       'EnergyConsumptionPerCapita(Watts)', 'True'],\n",
       "      dtype='object')"
      ]
     },
     "execution_count": 11,
     "metadata": {},
     "output_type": "execute_result"
    }
   ],
   "source": [
    "allData.columns"
   ]
  },
  {
   "cell_type": "code",
   "execution_count": 12,
   "id": "3346852b",
   "metadata": {},
   "outputs": [
    {
     "data": {
      "text/plain": [
       "both          121\n",
       "left_only      78\n",
       "right_only     16\n",
       "Name: True, dtype: int64"
      ]
     },
     "execution_count": 12,
     "metadata": {},
     "output_type": "execute_result"
    }
   ],
   "source": [
    "allData['True'].value_counts()"
   ]
  },
  {
   "cell_type": "code",
   "execution_count": 13,
   "id": "c20d3c26",
   "metadata": {},
   "outputs": [
    {
     "data": {
      "text/plain": [
       "0                         World\n",
       "1                   Afghanistan\n",
       "5                      Anguilla\n",
       "6           Antigua and Barbuda\n",
       "9                         Aruba\n",
       "                 ...           \n",
       "178                  The Gambia\n",
       "180                       Tonga\n",
       "185    Turks and Caicos Islands\n",
       "186                      Uganda\n",
       "193                     Vanuatu\n",
       "Name: Country, Length: 78, dtype: object"
      ]
     },
     "execution_count": 13,
     "metadata": {},
     "output_type": "execute_result"
    }
   ],
   "source": [
    "allData[allData['True']=='left_only'].Country"
   ]
  },
  {
   "cell_type": "code",
   "execution_count": 14,
   "id": "fc40d592",
   "metadata": {},
   "outputs": [
    {
     "data": {
      "text/plain": [
       "199          Afghanistan[4]\n",
       "200       Brunei Darussalam\n",
       "201        Congo, Dem. Rep.\n",
       "202             Congo, Rep.\n",
       "203           Cote d'Ivoire\n",
       "204                  France\n",
       "205      Iran, Islamic Rep.\n",
       "206                   Italy\n",
       "207               Kosovo[5]\n",
       "208               Macedonia\n",
       "209              Montenegro\n",
       "210                  Serbia\n",
       "211                   Spain\n",
       "212                   Sudan\n",
       "213             Switzerland\n",
       "214    Syrian Arab Republic\n",
       "Name: Country, dtype: object"
      ]
     },
     "execution_count": 14,
     "metadata": {},
     "output_type": "execute_result"
    }
   ],
   "source": [
    "allData[allData['True']=='right_only'].Country"
   ]
  },
  {
   "cell_type": "code",
   "execution_count": 15,
   "id": "d2cbe6ee",
   "metadata": {},
   "outputs": [],
   "source": [
    "UnmatchedLeft=allData[allData['True']=='left_only'].Country.to_list()\n",
    "UnmatchedRight=allData[allData['True']=='right_only'].Country.to_list()"
   ]
  },
  {
   "cell_type": "code",
   "execution_count": 16,
   "id": "057e4748",
   "metadata": {},
   "outputs": [
    {
     "data": {
      "text/plain": [
       "'World'"
      ]
     },
     "execution_count": 16,
     "metadata": {},
     "output_type": "execute_result"
    }
   ],
   "source": [
    "UnmatchedLeft[0]"
   ]
  },
  {
   "cell_type": "code",
   "execution_count": 17,
   "id": "57e8fc8b",
   "metadata": {},
   "outputs": [
    {
     "name": "stderr",
     "output_type": "stream",
     "text": [
      "C:\\Users\\John\\anaconda3\\lib\\site-packages\\thefuzz\\fuzz.py:11: UserWarning: Using slow pure-python SequenceMatcher. Install python-Levenshtein to remove this warning\n",
      "  warnings.warn('Using slow pure-python SequenceMatcher. Install python-Levenshtein to remove this warning')\n"
     ]
    },
    {
     "data": {
      "text/plain": [
       "('Switzerland', 54)"
      ]
     },
     "execution_count": 17,
     "metadata": {},
     "output_type": "execute_result"
    }
   ],
   "source": [
    "from thefuzz import process\n",
    "process.extractOne(UnmatchedLeft[0], UnmatchedRight)"
   ]
  },
  {
   "cell_type": "code",
   "execution_count": 18,
   "id": "00862050",
   "metadata": {},
   "outputs": [
    {
     "data": {
      "text/plain": [
       "[('Switzerland', 54), (\"Cote d'Ivoire\", 40), ('Congo, Rep.', 34)]"
      ]
     },
     "execution_count": 18,
     "metadata": {},
     "output_type": "execute_result"
    }
   ],
   "source": [
    "process.extract(UnmatchedLeft[0], UnmatchedRight,limit=3)"
   ]
  },
  {
   "cell_type": "code",
   "execution_count": 19,
   "id": "89696baf",
   "metadata": {},
   "outputs": [
    {
     "data": {
      "text/plain": [
       "['World',\n",
       " 'Afghanistan',\n",
       " 'Anguilla',\n",
       " 'Antigua and Barbuda',\n",
       " 'Aruba',\n",
       " 'Bahamas',\n",
       " 'Barbados',\n",
       " 'Belize',\n",
       " 'Bermuda',\n",
       " 'Bhutan',\n",
       " 'British Virgin Islands',\n",
       " 'Brunei',\n",
       " 'Burkina Faso',\n",
       " 'Burundi',\n",
       " 'Cape Verde',\n",
       " 'Cayman Islands',\n",
       " 'Central African Republic',\n",
       " 'Chad',\n",
       " 'Comoros',\n",
       " 'Congo',\n",
       " 'Cook Islands',\n",
       " 'Curaçao',\n",
       " 'Democratic Republic of the Congo',\n",
       " 'Djibouti',\n",
       " 'Dominica',\n",
       " 'East Timor',\n",
       " 'Equatorial Guinea',\n",
       " 'Eswatini',\n",
       " 'Fiji',\n",
       " 'France\\xa0Monaco',\n",
       " 'French Polynesia',\n",
       " 'Greenland',\n",
       " 'Grenada',\n",
       " 'Guinea',\n",
       " 'Guinea-Bissau',\n",
       " 'Guyana',\n",
       " 'Iran',\n",
       " 'Italy\\xa0San Marino Vatican City',\n",
       " 'Ivory Coast',\n",
       " 'Kiribati',\n",
       " 'Laos',\n",
       " 'Lesotho',\n",
       " 'Liberia',\n",
       " 'Macau',\n",
       " 'Madagascar',\n",
       " 'Malawi',\n",
       " 'Maldives',\n",
       " 'Mali',\n",
       " 'Mauritania',\n",
       " 'Mauritius',\n",
       " 'New Caledonia',\n",
       " 'Niger',\n",
       " 'North Macedonia',\n",
       " 'Palau',\n",
       " 'Papua New Guinea',\n",
       " 'Puerto Rico',\n",
       " 'Rwanda',\n",
       " 'Saint Kitts and Nevis',\n",
       " 'Saint Lucia',\n",
       " 'Saint Vincent and the Grenadines',\n",
       " 'Samoa',\n",
       " 'São Tomé and Príncipe',\n",
       " 'Serbia & Montenegro',\n",
       " 'Seychelles',\n",
       " 'Sierra Leone',\n",
       " 'Solomon Islands',\n",
       " 'Somalia',\n",
       " 'Spain\\xa0Andorra',\n",
       " 'Sudan\\xa0South Sudan',\n",
       " 'Suriname',\n",
       " 'Switzerland\\xa0Liechtenstein',\n",
       " 'Syria',\n",
       " 'Taiwan',\n",
       " 'The Gambia',\n",
       " 'Tonga',\n",
       " 'Turks and Caicos Islands',\n",
       " 'Uganda',\n",
       " 'Vanuatu']"
      ]
     },
     "execution_count": 19,
     "metadata": {},
     "output_type": "execute_result"
    }
   ],
   "source": [
    "UnmatchedLeft=allData[allData['True']=='left_only'].Country.to_list()\n",
    "UnmatchedLeft"
   ]
  },
  {
   "cell_type": "code",
   "execution_count": 20,
   "id": "a314c083",
   "metadata": {
    "scrolled": true
   },
   "outputs": [
    {
     "data": {
      "text/plain": [
       "[('Afghanistan', ('Afghanistan[4]', 95)),\n",
       " ('Anguilla', ('Iran, Islamic Rep.', 56)),\n",
       " ('Antigua and Barbuda', ('Sudan', 60)),\n",
       " ('Aruba', ('Brunei Darussalam', 54)),\n",
       " ('Bahamas', ('Brunei Darussalam', 45)),\n",
       " ('Barbados', ('Serbia', 43)),\n",
       " ('Belize', ('Syrian Arab Republic', 50)),\n",
       " ('Bermuda', ('Sudan', 50)),\n",
       " ('Bhutan', ('Sudan', 55)),\n",
       " ('British Virgin Islands', ('Sudan', 54)),\n",
       " ('Brunei', ('Brunei Darussalam', 90)),\n",
       " ('Burkina Faso', ('Kosovo[5]', 37)),\n",
       " ('Burundi', ('Brunei Darussalam', 64)),\n",
       " ('Cape Verde', (\"Cote d'Ivoire\", 43)),\n",
       " ('Cayman Islands', ('Spain', 54)),\n",
       " ('Central African Republic', ('Syrian Arab Republic', 61)),\n",
       " ('Chad', ('Afghanistan[4]', 45)),\n",
       " ('Comoros', ('Congo, Rep.', 48)),\n",
       " ('Congo', ('Congo, Dem. Rep.', 90)),\n",
       " ('Cook Islands', ('Spain', 54)),\n",
       " ('Curaçao', ('Brunei Darussalam', 45)),\n",
       " ('Democratic Republic of the Congo', ('Congo, Dem. Rep.', 86)),\n",
       " ('Djibouti', (\"Cote d'Ivoire\", 45)),\n",
       " ('Dominica', ('Macedonia', 59)),\n",
       " ('East Timor', (\"Cote d'Ivoire\", 43)),\n",
       " ('Equatorial Guinea', ('Italy', 54)),\n",
       " ('Eswatini', ('Spain', 62)),\n",
       " ('Fiji', (\"Cote d'Ivoire\", 45)),\n",
       " ('France\\xa0Monaco', ('France', 90)),\n",
       " ('French Polynesia', ('France', 60)),\n",
       " ('Greenland', ('Switzerland', 50)),\n",
       " ('Grenada', ('Switzerland', 45)),\n",
       " ('Guinea', ('Brunei Darussalam', 45)),\n",
       " ('Guinea-Bissau', ('Brunei Darussalam', 47)),\n",
       " ('Guyana', ('Sudan', 55)),\n",
       " ('Iran', ('Iran, Islamic Rep.', 90)),\n",
       " ('Italy\\xa0San Marino Vatican City', ('Italy', 90)),\n",
       " ('Ivory Coast', (\"Cote d'Ivoire\", 64)),\n",
       " ('Kiribati', ('Iran, Islamic Rep.', 40)),\n",
       " ('Laos', ('Brunei Darussalam', 51)),\n",
       " ('Lesotho', ('Kosovo[5]', 40)),\n",
       " ('Liberia', ('Serbia', 62)),\n",
       " ('Macau', ('Macedonia', 57)),\n",
       " ('Madagascar', ('Macedonia', 42)),\n",
       " ('Malawi', ('Brunei Darussalam', 50)),\n",
       " ('Maldives', ('Macedonia', 47)),\n",
       " ('Mali', ('Macedonia', 46)),\n",
       " ('Mauritania', ('Italy', 54)),\n",
       " ('Mauritius', ('Brunei Darussalam', 40)),\n",
       " ('New Caledonia', ('Macedonia', 64)),\n",
       " ('Niger', ('Montenegro', 54)),\n",
       " ('North Macedonia', ('Macedonia', 90)),\n",
       " ('Palau', ('Brunei Darussalam', 54)),\n",
       " ('Papua New Guinea', ('Sudan', 54)),\n",
       " ('Puerto Rico', ('Syrian Arab Republic', 42)),\n",
       " ('Rwanda', ('Switzerland', 66)),\n",
       " ('Saint Kitts and Nevis', ('Spain', 72)),\n",
       " ('Saint Lucia', ('Spain', 72)),\n",
       " ('Saint Vincent and the Grenadines', ('Spain', 72)),\n",
       " ('Samoa', ('Brunei Darussalam', 54)),\n",
       " ('Serbia & Montenegro', ('Montenegro', 90)),\n",
       " ('Seychelles', ('France', 30)),\n",
       " ('Sierra Leone', ('Serbia', 60)),\n",
       " ('Solomon Islands', ('Spain', 54)),\n",
       " ('Somalia', ('Brunei Darussalam', 56)),\n",
       " ('Spain\\xa0Andorra', ('Spain', 90)),\n",
       " ('Sudan\\xa0South Sudan', ('Sudan', 90)),\n",
       " ('Suriname', ('Serbia', 57)),\n",
       " ('Switzerland\\xa0Liechtenstein', ('Switzerland', 90)),\n",
       " ('Syria', ('Syrian Arab Republic', 90)),\n",
       " ('São Tomé and Príncipe', ('France', 60)),\n",
       " ('Taiwan', ('Afghanistan[4]', 57)),\n",
       " ('The Gambia', ('Italy', 51)),\n",
       " ('Tonga', ('Congo, Dem. Rep.', 54)),\n",
       " ('Turks and Caicos Islands', ('Spain', 54)),\n",
       " ('Uganda', ('Sudan', 55)),\n",
       " ('Vanuatu', ('Afghanistan[4]', 39)),\n",
       " ('World', ('Switzerland', 54))]"
      ]
     },
     "execution_count": 20,
     "metadata": {},
     "output_type": "execute_result"
    }
   ],
   "source": [
    "[(left, process.extractOne(left, UnmatchedRight,)) for left in sorted(UnmatchedLeft) ]"
   ]
  },
  {
   "cell_type": "code",
   "execution_count": 21,
   "id": "619513e0",
   "metadata": {},
   "outputs": [],
   "source": [
    "TotallyWrong= [('Anguilla', ('Iran, Islamic Rep.', 56)),\n",
    " ('Antigua and Barbuda', ('Sudan', 60)),\n",
    " ('Aruba', ('Brunei Darussalam', 54)),\n",
    " ('Bahamas', ('Brunei Darussalam', 45)),\n",
    " ('Barbados', ('Serbia', 43)),\n",
    " ('Belize', ('Syrian Arab Republic', 50)),\n",
    " ('Bermuda', ('Sudan', 50)),\n",
    " ('Bhutan', ('Sudan', 55)),\n",
    " ('British Virgin Islands', ('Sudan', 54)),\n",
    " ('Burkina Faso', ('Kosovo\\[5]', 37)),\n",
    " ('Burundi', ('Brunei Darussalam', 64)),\n",
    " ('Cape Verde', (\"Cote d'Ivoire\", 43)),\n",
    " ('Cayman Islands', ('Spain', 54)),\n",
    " ('Central African Republic', ('Syrian Arab Republic', 61)),\n",
    " ('Chad', ('Afghanistan\\[4]', 45)),\n",
    " ('Comoros', ('Congo, Rep.', 48)),\n",
    " ('Congo', ('Congo, Dem. Rep.', 90)),\n",
    " ('Cook Islands', ('Spain', 54)),\n",
    " ('Curaçao', ('Brunei Darussalam', 45)),\n",
    " ('Djibouti', (\"Cote d'Ivoire\", 45)),\n",
    " ('Dominica', ('Macedonia', 59)),\n",
    " ('East Timor', (\"Cote d'Ivoire\", 43)),\n",
    " ('Equatorial Guinea', ('Italy', 54)),\n",
    " ('Eswatini', ('Spain', 62)),\n",
    " ('Fiji', (\"Cote d'Ivoire\", 45)),\n",
    " ('French Polynesia', ('France', 60)),\n",
    " ('Greenland', ('Switzerland', 50)),\n",
    " ('Grenada', ('Switzerland', 45)),\n",
    " ('Guinea', ('Brunei Darussalam', 45)),\n",
    " ('Guinea-Bissau', ('Brunei Darussalam', 47)),\n",
    " ('Guyana', ('Sudan', 55)),\n",
    " ('Kiribati', ('Iran, Islamic Rep.', 40)),\n",
    " ('Laos', ('Brunei Darussalam', 51)),\n",
    " ('Lesotho', ('Kosovo\\[5]', 40)),\n",
    " ('Liberia', ('Serbia', 62)),\n",
    " ('Macau', ('Macedonia', 57)),\n",
    " ('Madagascar', ('Macedonia', 42)),\n",
    " ('Malawi', ('Brunei Darussalam', 50)),\n",
    " ('Maldives', ('Macedonia', 47)),\n",
    " ('Mali', ('Macedonia', 46)),\n",
    " ('Mauritania', ('Italy', 54)),\n",
    " ('Mauritius', ('Brunei Darussalam', 40)),\n",
    " ('New Caledonia', ('Macedonia', 64)),\n",
    " ('Niger', ('Montenegro', 54)),\n",
    " ('Palau', ('Brunei Darussalam', 54)),\n",
    " ('Papua New Guinea', ('Sudan', 54)),\n",
    " ('Puerto Rico', ('Syrian Arab Republic', 42)),\n",
    " ('Rwanda', ('Switzerland', 66)),\n",
    " ('Saint Kitts and Nevis', ('Spain', 72)),\n",
    " ('Saint Lucia', ('Spain', 72)),\n",
    " ('Saint Vincent and the Grenadines', ('Spain', 72)),\n",
    " ('Samoa', ('Brunei Darussalam', 54)),\n",
    " ('Serbia & Montenegro', ('Montenegro', 90)),\n",
    " ('Seychelles', ('France', 30)),\n",
    " ('Sierra Leone', ('Serbia', 60)),\n",
    " ('Solomon Islands', ('Spain', 54)),\n",
    " ('Somalia', ('Brunei Darussalam', 56)),\n",
    " ('Suriname', ('Serbia', 57)),\n",
    " ('São Tomé and Príncipe', ('France', 60)),\n",
    " ('Taiwan', ('Afghanistan\\[4]', 57)),\n",
    " ('The Gambia', ('Italy', 51)),\n",
    " ('Tonga', ('Congo, Dem. Rep.', 54)),\n",
    " ('Turks and Caicos Islands', ('Spain', 54)),\n",
    " ('Uganda', ('Sudan', 55)),\n",
    " ('Vanuatu', ('Afghanistan\\[4]', 39))]"
   ]
  },
  {
   "cell_type": "code",
   "execution_count": 22,
   "id": "d0d18224",
   "metadata": {},
   "outputs": [
    {
     "data": {
      "text/plain": [
       "['Anguilla',\n",
       " 'Antigua and Barbuda',\n",
       " 'Aruba',\n",
       " 'Bahamas',\n",
       " 'Barbados',\n",
       " 'Belize',\n",
       " 'Bermuda',\n",
       " 'Bhutan',\n",
       " 'British Virgin Islands',\n",
       " 'Burkina Faso',\n",
       " 'Burundi',\n",
       " 'Cape Verde',\n",
       " 'Cayman Islands',\n",
       " 'Central African Republic',\n",
       " 'Chad',\n",
       " 'Comoros',\n",
       " 'Congo',\n",
       " 'Cook Islands',\n",
       " 'Curaçao',\n",
       " 'Djibouti',\n",
       " 'Dominica',\n",
       " 'East Timor',\n",
       " 'Equatorial Guinea',\n",
       " 'Eswatini',\n",
       " 'Fiji',\n",
       " 'French Polynesia',\n",
       " 'Greenland',\n",
       " 'Grenada',\n",
       " 'Guinea',\n",
       " 'Guinea-Bissau',\n",
       " 'Guyana',\n",
       " 'Kiribati',\n",
       " 'Laos',\n",
       " 'Lesotho',\n",
       " 'Liberia',\n",
       " 'Macau',\n",
       " 'Madagascar',\n",
       " 'Malawi',\n",
       " 'Maldives',\n",
       " 'Mali',\n",
       " 'Mauritania',\n",
       " 'Mauritius',\n",
       " 'New Caledonia',\n",
       " 'Niger',\n",
       " 'Palau',\n",
       " 'Papua New Guinea',\n",
       " 'Puerto Rico',\n",
       " 'Rwanda',\n",
       " 'Saint Kitts and Nevis',\n",
       " 'Saint Lucia',\n",
       " 'Saint Vincent and the Grenadines',\n",
       " 'Samoa',\n",
       " 'Serbia & Montenegro',\n",
       " 'Seychelles',\n",
       " 'Sierra Leone',\n",
       " 'Solomon Islands',\n",
       " 'Somalia',\n",
       " 'Suriname',\n",
       " 'São Tomé and Príncipe',\n",
       " 'Taiwan',\n",
       " 'The Gambia',\n",
       " 'Tonga',\n",
       " 'Turks and Caicos Islands',\n",
       " 'Uganda',\n",
       " 'Vanuatu']"
      ]
     },
     "execution_count": 22,
     "metadata": {},
     "output_type": "execute_result"
    }
   ],
   "source": [
    "omitLeft=[leftName for (leftName,rightFuzzy) in TotallyWrong] #parenthesis not needed\n",
    "\n",
    "omitLeft"
   ]
  },
  {
   "cell_type": "code",
   "execution_count": 23,
   "id": "3c01d544",
   "metadata": {},
   "outputs": [
    {
     "data": {
      "text/plain": [
       "['Afghanistan[4]',\n",
       " 'Brunei Darussalam',\n",
       " 'Congo, Dem. Rep.',\n",
       " 'Congo, Rep.',\n",
       " \"Cote d'Ivoire\",\n",
       " 'France',\n",
       " 'Iran, Islamic Rep.',\n",
       " 'Italy',\n",
       " 'Kosovo[5]',\n",
       " 'Macedonia',\n",
       " 'Montenegro',\n",
       " 'Serbia',\n",
       " 'Spain',\n",
       " 'Sudan',\n",
       " 'Switzerland',\n",
       " 'Syrian Arab Republic']"
      ]
     },
     "execution_count": 23,
     "metadata": {},
     "output_type": "execute_result"
    }
   ],
   "source": [
    "UnmatchedRight\n"
   ]
  },
  {
   "cell_type": "code",
   "execution_count": 25,
   "id": "09d16307",
   "metadata": {},
   "outputs": [
    {
     "data": {
      "text/plain": [
       "{'Switzerland': 'Switzerland\\xa0Liechtenstein',\n",
       " 'Afghanistan[4]': 'Afghanistan',\n",
       " 'Brunei Darussalam': 'Brunei',\n",
       " 'Congo, Dem. Rep.': 'Democratic Republic of the Congo',\n",
       " 'France': 'France\\xa0Monaco',\n",
       " 'Iran, Islamic Rep.': 'Iran',\n",
       " 'Italy': 'Italy\\xa0San Marino Vatican City',\n",
       " \"Cote d'Ivoire\": 'Ivory Coast',\n",
       " 'Macedonia': 'North Macedonia',\n",
       " 'Spain': 'Spain\\xa0Andorra',\n",
       " 'Sudan': 'Sudan\\xa0South Sudan',\n",
       " 'Syrian Arab Republic': 'Syria'}"
      ]
     },
     "execution_count": 25,
     "metadata": {},
     "output_type": "execute_result"
    }
   ],
   "source": [
    "{process.extractOne(left, UnmatchedRight)[0]:left for left in UnmatchedLeft if left not in omitLeft}"
   ]
  },
  {
   "cell_type": "code",
   "execution_count": 26,
   "id": "72b3f50c",
   "metadata": {},
   "outputs": [],
   "source": [
    "bruteForceChanges={'Afghanistan[4]': 'Afghanistan',\n",
    " 'Brunei Darussalam': 'Brunei',\n",
    " 'Congo, Dem. Rep.': 'Democratic Republic of the Congo',\n",
    " 'France': 'France\\xa0Monaco',\n",
    " 'Iran, Islamic Rep.': 'Iran',\n",
    " 'Italy': 'Italy\\xa0San Marino Vatican City',\n",
    " \"Cote d'Ivoire\": 'Ivory Coast',\n",
    " 'Macedonia': 'North Macedonia',\n",
    " 'Spain': 'Spain\\xa0Andorra',\n",
    " 'Switzerland': 'Switzerland\\xa0Liechtenstein',\n",
    " 'Syrian Arab Republic': 'Syria',\n",
    "  'Congo, Rep.': 'Congo'               }"
   ]
  },
  {
   "cell_type": "code",
   "execution_count": 27,
   "id": "f0baf795",
   "metadata": {},
   "outputs": [],
   "source": [
    "DataGWh.Country.replace(bruteForceChanges,inplace=True)"
   ]
  },
  {
   "cell_type": "code",
   "execution_count": 28,
   "id": "22466111",
   "metadata": {
    "scrolled": true
   },
   "outputs": [
    {
     "data": {
      "text/plain": [
       "(133, 6)"
      ]
     },
     "execution_count": 28,
     "metadata": {},
     "output_type": "execute_result"
    }
   ],
   "source": [
    "allData=mainData.merge(DataGWh,left_on=\"Country\",right_on=\"Country\")\n",
    "allData.shape"
   ]
  },
  {
   "cell_type": "code",
   "execution_count": 29,
   "id": "a0e58b23",
   "metadata": {},
   "outputs": [],
   "source": [
    "allData=allData.replace('%','',regex=True)"
   ]
  },
  {
   "cell_type": "code",
   "execution_count": 30,
   "id": "8c134098",
   "metadata": {},
   "outputs": [
    {
     "data": {
      "text/html": [
       "<div>\n",
       "<style scoped>\n",
       "    .dataframe tbody tr th:only-of-type {\n",
       "        vertical-align: middle;\n",
       "    }\n",
       "\n",
       "    .dataframe tbody tr th {\n",
       "        vertical-align: top;\n",
       "    }\n",
       "\n",
       "    .dataframe thead th {\n",
       "        text-align: right;\n",
       "    }\n",
       "</style>\n",
       "<table border=\"1\" class=\"dataframe\">\n",
       "  <thead>\n",
       "    <tr style=\"text-align: right;\">\n",
       "      <th></th>\n",
       "      <th>Country</th>\n",
       "      <th>2017CO2Emissions</th>\n",
       "      <th>PercentofWorldEmissions</th>\n",
       "      <th>PerCapitaEmissions</th>\n",
       "      <th>GDP(US$Million)</th>\n",
       "      <th>EnergyConsumptionPerCapita(Watts)</th>\n",
       "    </tr>\n",
       "  </thead>\n",
       "  <tbody>\n",
       "    <tr>\n",
       "      <th>0</th>\n",
       "      <td>Afghanistan</td>\n",
       "      <td>11.422</td>\n",
       "      <td>0.03</td>\n",
       "      <td>0.3</td>\n",
       "      <td>508.0</td>\n",
       "      <td>NaN</td>\n",
       "    </tr>\n",
       "    <tr>\n",
       "      <th>1</th>\n",
       "      <td>Albania</td>\n",
       "      <td>5.026</td>\n",
       "      <td>0.01</td>\n",
       "      <td>1.7</td>\n",
       "      <td>5181.0</td>\n",
       "      <td>1065.9</td>\n",
       "    </tr>\n",
       "    <tr>\n",
       "      <th>2</th>\n",
       "      <td>Algeria</td>\n",
       "      <td>159.929</td>\n",
       "      <td>0.43</td>\n",
       "      <td>3.9</td>\n",
       "      <td>3368.0</td>\n",
       "      <td>1658.9</td>\n",
       "    </tr>\n",
       "    <tr>\n",
       "      <th>3</th>\n",
       "      <td>Angola</td>\n",
       "      <td>30.876</td>\n",
       "      <td>0.08</td>\n",
       "      <td>1.0</td>\n",
       "      <td>1896.0</td>\n",
       "      <td>871.9</td>\n",
       "    </tr>\n",
       "    <tr>\n",
       "      <th>4</th>\n",
       "      <td>Argentina</td>\n",
       "      <td>209.968</td>\n",
       "      <td>0.57</td>\n",
       "      <td>4.7</td>\n",
       "      <td>8476.0</td>\n",
       "      <td>2522.5</td>\n",
       "    </tr>\n",
       "    <tr>\n",
       "      <th>...</th>\n",
       "      <td>...</td>\n",
       "      <td>...</td>\n",
       "      <td>...</td>\n",
       "      <td>...</td>\n",
       "      <td>...</td>\n",
       "      <td>...</td>\n",
       "    </tr>\n",
       "    <tr>\n",
       "      <th>128</th>\n",
       "      <td>Venezuela</td>\n",
       "      <td>145.877</td>\n",
       "      <td>0.39</td>\n",
       "      <td>4.6</td>\n",
       "      <td>3740.0</td>\n",
       "      <td>3023.9</td>\n",
       "    </tr>\n",
       "    <tr>\n",
       "      <th>129</th>\n",
       "      <td>Vietnam</td>\n",
       "      <td>218.729</td>\n",
       "      <td>0.59</td>\n",
       "      <td>2.3</td>\n",
       "      <td>2786.0</td>\n",
       "      <td>888.9</td>\n",
       "    </tr>\n",
       "    <tr>\n",
       "      <th>130</th>\n",
       "      <td>Yemen</td>\n",
       "      <td>12.503</td>\n",
       "      <td>0.03</td>\n",
       "      <td>0.4</td>\n",
       "      <td>937.0</td>\n",
       "      <td>431.0</td>\n",
       "    </tr>\n",
       "    <tr>\n",
       "      <th>131</th>\n",
       "      <td>Zambia</td>\n",
       "      <td>4.967</td>\n",
       "      <td>0.01</td>\n",
       "      <td>0.3</td>\n",
       "      <td>985.0</td>\n",
       "      <td>840.7</td>\n",
       "    </tr>\n",
       "    <tr>\n",
       "      <th>132</th>\n",
       "      <td>Zimbabwe</td>\n",
       "      <td>12.087</td>\n",
       "      <td>0.03</td>\n",
       "      <td>0.7</td>\n",
       "      <td>1466.0</td>\n",
       "      <td>1008.6</td>\n",
       "    </tr>\n",
       "  </tbody>\n",
       "</table>\n",
       "<p>133 rows × 6 columns</p>\n",
       "</div>"
      ],
      "text/plain": [
       "         Country  2017CO2Emissions PercentofWorldEmissions  \\\n",
       "0    Afghanistan            11.422                    0.03   \n",
       "1        Albania             5.026                    0.01   \n",
       "2        Algeria           159.929                    0.43   \n",
       "3         Angola            30.876                    0.08   \n",
       "4      Argentina           209.968                    0.57   \n",
       "..           ...               ...                     ...   \n",
       "128    Venezuela           145.877                    0.39   \n",
       "129      Vietnam           218.729                    0.59   \n",
       "130        Yemen            12.503                    0.03   \n",
       "131       Zambia             4.967                    0.01   \n",
       "132     Zimbabwe            12.087                    0.03   \n",
       "\n",
       "     PerCapitaEmissions  GDP(US$Million)  EnergyConsumptionPerCapita(Watts)  \n",
       "0                   0.3            508.0                                NaN  \n",
       "1                   1.7           5181.0                             1065.9  \n",
       "2                   3.9           3368.0                             1658.9  \n",
       "3                   1.0           1896.0                              871.9  \n",
       "4                   4.7           8476.0                             2522.5  \n",
       "..                  ...              ...                                ...  \n",
       "128                 4.6           3740.0                             3023.9  \n",
       "129                 2.3           2786.0                              888.9  \n",
       "130                 0.4            937.0                              431.0  \n",
       "131                 0.3            985.0                              840.7  \n",
       "132                 0.7           1466.0                             1008.6  \n",
       "\n",
       "[133 rows x 6 columns]"
      ]
     },
     "execution_count": 30,
     "metadata": {},
     "output_type": "execute_result"
    }
   ],
   "source": [
    "allData"
   ]
  },
  {
   "cell_type": "code",
   "execution_count": 31,
   "id": "e229ea4a",
   "metadata": {
    "scrolled": true
   },
   "outputs": [],
   "source": [
    "allData.to_csv('allData.csv',index=False)"
   ]
  },
  {
   "cell_type": "code",
   "execution_count": null,
   "id": "2d4e0e29",
   "metadata": {},
   "outputs": [],
   "source": []
  }
 ],
 "metadata": {
  "kernelspec": {
   "display_name": "Python 3 (ipykernel)",
   "language": "python",
   "name": "python3"
  },
  "language_info": {
   "codemirror_mode": {
    "name": "ipython",
    "version": 3
   },
   "file_extension": ".py",
   "mimetype": "text/x-python",
   "name": "python",
   "nbconvert_exporter": "python",
   "pygments_lexer": "ipython3",
   "version": "3.9.7"
  }
 },
 "nbformat": 4,
 "nbformat_minor": 5
}
