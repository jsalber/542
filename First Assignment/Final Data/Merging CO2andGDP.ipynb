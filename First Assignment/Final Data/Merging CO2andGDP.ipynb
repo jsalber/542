{
 "cells": [
  {
   "cell_type": "code",
   "execution_count": 1,
   "id": "04ef9c15",
   "metadata": {},
   "outputs": [],
   "source": [
    "import pandas as pd\n",
    "linkDataGDP=\"https://raw.githubusercontent.com/jsalber/542/main/First%20Assignment/GDPdata.csv\"\n",
    "linkDataCO2=\"https://raw.githubusercontent.com/jsalber/542/main/First%20Assignment/co2.csv\"\n",
    "DataGDP=pd.read_csv(linkDataGDP)\n",
    "DataCO2=pd.read_csv(linkDataCO2)"
   ]
  },
  {
   "cell_type": "code",
   "execution_count": 2,
   "id": "666a879f",
   "metadata": {},
   "outputs": [
    {
     "data": {
      "text/plain": [
       "Index(['CountryOrTerritory', 'GDP(US$Million)'], dtype='object')"
      ]
     },
     "execution_count": 2,
     "metadata": {},
     "output_type": "execute_result"
    }
   ],
   "source": [
    "DataGDP.columns"
   ]
  },
  {
   "cell_type": "code",
   "execution_count": 3,
   "id": "3065533b",
   "metadata": {},
   "outputs": [
    {
     "data": {
      "text/plain": [
       "Index(['Country', '2017CO2Emissions', 'PercentofWorldEmissions',\n",
       "       'PerCapitaEmissions'],\n",
       "      dtype='object')"
      ]
     },
     "execution_count": 3,
     "metadata": {},
     "output_type": "execute_result"
    }
   ],
   "source": [
    "DataCO2.columns"
   ]
  },
  {
   "cell_type": "code",
   "execution_count": 4,
   "id": "f158e8f5",
   "metadata": {},
   "outputs": [],
   "source": [
    "allData=DataCO2.merge(DataGDP,left_on=\"Country\",right_on=\"CountryOrTerritory\")"
   ]
  },
  {
   "cell_type": "code",
   "execution_count": 5,
   "id": "a7c8b15d",
   "metadata": {},
   "outputs": [
    {
     "data": {
      "text/plain": [
       "(210, 4)"
      ]
     },
     "execution_count": 5,
     "metadata": {},
     "output_type": "execute_result"
    }
   ],
   "source": [
    "DataCO2.shape"
   ]
  },
  {
   "cell_type": "code",
   "execution_count": 6,
   "id": "afa2802e",
   "metadata": {},
   "outputs": [
    {
     "data": {
      "text/plain": [
       "(191, 6)"
      ]
     },
     "execution_count": 6,
     "metadata": {},
     "output_type": "execute_result"
    }
   ],
   "source": [
    "allData.shape"
   ]
  },
  {
   "cell_type": "code",
   "execution_count": 7,
   "id": "3632b75c",
   "metadata": {},
   "outputs": [],
   "source": [
    "allData=DataCO2.merge(DataGDP,left_on=\"Country\",right_on=\"CountryOrTerritory\",how='outer',indicator='True')"
   ]
  },
  {
   "cell_type": "code",
   "execution_count": 8,
   "id": "42d86794",
   "metadata": {},
   "outputs": [
    {
     "data": {
      "text/plain": [
       "Index(['Country', '2017CO2Emissions', 'PercentofWorldEmissions',\n",
       "       'PerCapitaEmissions', 'CountryOrTerritory', 'GDP(US$Million)', 'True'],\n",
       "      dtype='object')"
      ]
     },
     "execution_count": 8,
     "metadata": {},
     "output_type": "execute_result"
    }
   ],
   "source": [
    "allData.columns"
   ]
  },
  {
   "cell_type": "code",
   "execution_count": 9,
   "id": "8783105a",
   "metadata": {},
   "outputs": [
    {
     "data": {
      "text/plain": [
       "both          191\n",
       "right_only     26\n",
       "left_only      19\n",
       "Name: True, dtype: int64"
      ]
     },
     "execution_count": 9,
     "metadata": {},
     "output_type": "execute_result"
    }
   ],
   "source": [
    "allData['True'].value_counts()"
   ]
  },
  {
   "cell_type": "code",
   "execution_count": 13,
   "id": "169c58ef",
   "metadata": {},
   "outputs": [
    {
     "data": {
      "text/plain": [
       "51                 Democratic Republic of the Congo\n",
       "65                                   European Union\n",
       "66                                 Falkland Islands\n",
       "67                                    Faroe Islands\n",
       "70                                    France Monaco\n",
       "71                                    French Guiana\n",
       "77                                        Gibraltar\n",
       "81                                       Guadeloupe\n",
       "97                    Italy San Marino Vatican City\n",
       "122                                      Martinique\n",
       "154                                         Réunion\n",
       "158    Saint Helena, Ascension and Tristan da Cunha\n",
       "161                       Saint Pierre and Miquelon\n",
       "167                             Serbia & Montenegro\n",
       "177                                   Spain Andorra\n",
       "179                               Sudan South Sudan\n",
       "182                       Switzerland Liechtenstein\n",
       "188                                      The Gambia\n",
       "206                                  Western Sahara\n",
       "Name: Country, dtype: object"
      ]
     },
     "execution_count": 13,
     "metadata": {},
     "output_type": "execute_result"
    }
   ],
   "source": [
    "allData[allData['True']=='left_only'].Country"
   ]
  },
  {
   "cell_type": "code",
   "execution_count": 14,
   "id": "ec4fe2bf",
   "metadata": {},
   "outputs": [
    {
     "data": {
      "text/plain": [
       "210               Liechtenstein\n",
       "211                      Monaco\n",
       "212                 Switzerland\n",
       "213                  San Marino\n",
       "214                      France\n",
       "215                     Andorra\n",
       "216                       Italy\n",
       "217                        Guam\n",
       "218                       Spain\n",
       "219    Northern Mariana Islands\n",
       "220                Sint Maarten\n",
       "221                  Montserrat\n",
       "222              American Samoa\n",
       "223                       Nauru\n",
       "224                  Montenegro\n",
       "225                      Serbia\n",
       "226                      Tuvalu\n",
       "227                      Kosovo\n",
       "228            Marshall Islands\n",
       "229                  Micronesia\n",
       "230                   Palestine\n",
       "231                    Zanzibar\n",
       "232                      Gambia\n",
       "233                       Sudan\n",
       "234                    DR Congo\n",
       "235                 South Sudan\n",
       "Name: CountryOrTerritory, dtype: object"
      ]
     },
     "execution_count": 14,
     "metadata": {},
     "output_type": "execute_result"
    }
   ],
   "source": [
    "allData[allData['True']=='right_only'].CountryOrTerritory"
   ]
  },
  {
   "cell_type": "code",
   "execution_count": 15,
   "id": "36cffffa",
   "metadata": {},
   "outputs": [],
   "source": [
    "UnmatchedLeft=allData[allData['True']=='left_only'].Country.to_list()\n",
    "UnmatchedRight=allData[allData['True']=='right_only'].CountryOrTerritory.to_list()"
   ]
  },
  {
   "cell_type": "code",
   "execution_count": 16,
   "id": "35ca0405",
   "metadata": {},
   "outputs": [
    {
     "data": {
      "text/plain": [
       "'Democratic Republic of the Congo'"
      ]
     },
     "execution_count": 16,
     "metadata": {},
     "output_type": "execute_result"
    }
   ],
   "source": [
    "UnmatchedLeft[0]"
   ]
  },
  {
   "cell_type": "code",
   "execution_count": 17,
   "id": "23484300",
   "metadata": {},
   "outputs": [
    {
     "name": "stderr",
     "output_type": "stream",
     "text": [
      "C:\\Users\\John\\anaconda3\\lib\\site-packages\\thefuzz\\fuzz.py:11: UserWarning: Using slow pure-python SequenceMatcher. Install python-Levenshtein to remove this warning\n",
      "  warnings.warn('Using slow pure-python SequenceMatcher. Install python-Levenshtein to remove this warning')\n"
     ]
    },
    {
     "data": {
      "text/plain": [
       "('DR Congo', 86)"
      ]
     },
     "execution_count": 17,
     "metadata": {},
     "output_type": "execute_result"
    }
   ],
   "source": [
    "from thefuzz import process\n",
    "process.extractOne(UnmatchedLeft[0], UnmatchedRight)"
   ]
  },
  {
   "cell_type": "code",
   "execution_count": 18,
   "id": "488acb73",
   "metadata": {},
   "outputs": [
    {
     "data": {
      "text/plain": [
       "[('DR Congo', 86), ('Andorra', 51), ('Montenegro', 48)]"
      ]
     },
     "execution_count": 18,
     "metadata": {},
     "output_type": "execute_result"
    }
   ],
   "source": [
    "process.extract(UnmatchedLeft[0], UnmatchedRight,limit=3)"
   ]
  },
  {
   "cell_type": "code",
   "execution_count": 19,
   "id": "f79fd4cc",
   "metadata": {},
   "outputs": [
    {
     "data": {
      "text/plain": [
       "['Democratic Republic of the Congo',\n",
       " 'European Union',\n",
       " 'Falkland Islands',\n",
       " 'Faroe Islands',\n",
       " 'France\\xa0Monaco',\n",
       " 'French Guiana',\n",
       " 'Gibraltar',\n",
       " 'Guadeloupe',\n",
       " 'Italy\\xa0San Marino Vatican City',\n",
       " 'Martinique',\n",
       " 'Réunion',\n",
       " 'Saint Helena, Ascension and Tristan da Cunha',\n",
       " 'Saint Pierre and Miquelon',\n",
       " 'Serbia & Montenegro',\n",
       " 'Spain\\xa0Andorra',\n",
       " 'Sudan\\xa0South Sudan',\n",
       " 'Switzerland\\xa0Liechtenstein',\n",
       " 'The Gambia',\n",
       " 'Western Sahara']"
      ]
     },
     "execution_count": 19,
     "metadata": {},
     "output_type": "execute_result"
    }
   ],
   "source": [
    "UnmatchedLeft=allData[allData['True']=='left_only'].Country.to_list()\n",
    "UnmatchedLeft"
   ]
  },
  {
   "cell_type": "code",
   "execution_count": 20,
   "id": "91275f2e",
   "metadata": {},
   "outputs": [
    {
     "data": {
      "text/plain": [
       "[('Democratic Republic of the Congo', ('DR Congo', 86)),\n",
       " ('European Union', ('Spain', 54)),\n",
       " ('Falkland Islands', ('Northern Mariana Islands', 86)),\n",
       " ('Faroe Islands', ('Northern Mariana Islands', 86)),\n",
       " ('France\\xa0Monaco', ('Monaco', 90)),\n",
       " ('French Guiana', ('Guam', 68)),\n",
       " ('Gibraltar', ('Italy', 54)),\n",
       " ('Guadeloupe', ('Guam', 68)),\n",
       " ('Italy\\xa0San Marino Vatican City', ('San Marino', 90)),\n",
       " ('Martinique', ('Spain', 54)),\n",
       " ('Réunion', ('San Marino', 54)),\n",
       " ('Saint Helena, Ascension and Tristan da Cunha', ('Sint Maarten', 52)),\n",
       " ('Saint Pierre and Miquelon', ('Spain', 72)),\n",
       " ('Serbia & Montenegro', ('Montenegro', 90)),\n",
       " ('Spain\\xa0Andorra', ('Andorra', 90)),\n",
       " ('Sudan\\xa0South Sudan', ('Sudan', 90)),\n",
       " ('Switzerland\\xa0Liechtenstein', ('Liechtenstein', 90)),\n",
       " ('The Gambia', ('Gambia', 90)),\n",
       " ('Western Sahara', ('Northern Mariana Islands', 51))]"
      ]
     },
     "execution_count": 20,
     "metadata": {},
     "output_type": "execute_result"
    }
   ],
   "source": [
    "[(left, process.extractOne(left, UnmatchedRight)) for left in sorted(UnmatchedLeft)]"
   ]
  },
  {
   "cell_type": "code",
   "execution_count": null,
   "id": "6389e39e",
   "metadata": {},
   "outputs": [],
   "source": [
    "TotallyWrong=[('Democratic Republic of the Congo', ('DR Congo', 86)),\n",
    " ('European Union', ('Spain', 54)),\n",
    " ('Falkland Islands', ('Northern Mariana Islands', 86)),\n",
    " ('Faroe Islands', ('Northern Mariana Islands', 86)),\n",
    " ('France\\xa0Monaco', ('Monaco', 90)),\n",
    " ('French Guiana', ('Guam', 68)),\n",
    " ('Gibraltar', ('Italy', 54)),\n",
    " ('Guadeloupe', ('Guam', 68)),\n",
    " ('Italy\\xa0San Marino Vatican City', ('San Marino', 90)),\n",
    " ('Martinique', ('Spain', 54)),\n",
    " ('Réunion', ('San Marino', 54)),\n",
    " ('Saint Helena, Ascension and Tristan da Cunha', ('Sint Maarten', 52)),\n",
    " ('Saint Pierre and Miquelon', ('Spain', 72)),\n",
    " ('Serbia & Montenegro', ('Montenegro', 90)),\n",
    " ('Spain\\xa0Andorra', ('Andorra', 90)),\n",
    " ('Switzerland\\xa0Liechtenstein', ('Liechtenstein', 90)),\n",
    " ('Western Sahara', ('Northern Mariana Islands', 51))]"
   ]
  },
  {
   "cell_type": "code",
   "execution_count": null,
   "id": "8de49d16",
   "metadata": {},
   "outputs": [],
   "source": [
    "omitLeft=[leftName for (leftName,rightFuzzy) in TotallyWrong] #parenthesis not needed\n",
    "omitLeft"
   ]
  },
  {
   "cell_type": "code",
   "execution_count": null,
   "id": "86dd6668",
   "metadata": {},
   "outputs": [],
   "source": [
    "{process.extractOne(left, UnmatchedRight)[0]:left for left in UnmatchedLeft if left not in omitLeft}"
   ]
  },
  {
   "cell_type": "code",
   "execution_count": null,
   "id": "9963c55e",
   "metadata": {},
   "outputs": [],
   "source": [
    "changesRight={process.extractOne(left, UnmatchedRight)[0]:left for left in UnmatchedLeft if left not in omitLeft}\n",
    "DataGDP.CountryOrTerritory.replace(changesRight,inplace=True)"
   ]
  },
  {
   "cell_type": "code",
   "execution_count": null,
   "id": "81a09ed7",
   "metadata": {},
   "outputs": [],
   "source": [
    "bruteForceChanges={'DR Congo': 'Democratic Republic of the Congo',\n",
    " 'France': 'France\\xa0Monaco',\n",
    " 'Italy': 'Italy\\xa0San Marino Vatican City',\n",
    " 'Serbia': 'Serbia & Montenegro',\n",
    " 'Spain': 'Spain\\xa0Andorra',\n",
    " 'Switzerland': 'Switzerland\\xa0Liechtenstein',\n",
    " 'Gambia': 'The Gambia'}"
   ]
  },
  {
   "cell_type": "code",
   "execution_count": null,
   "id": "d2435155",
   "metadata": {},
   "outputs": [],
   "source": [
    "DataGDP.CountryOrTerritory.replace(bruteForceChanges,inplace=True)"
   ]
  },
  {
   "cell_type": "code",
   "execution_count": null,
   "id": "307fcc54",
   "metadata": {},
   "outputs": [],
   "source": [
    "allData=DataCO2.merge(DataGDP,left_on=\"Country\",right_on=\"CountryOrTerritory\")\n",
    "allData.shape"
   ]
  },
  {
   "cell_type": "code",
   "execution_count": null,
   "id": "494f22d2",
   "metadata": {},
   "outputs": [],
   "source": [
    "allData"
   ]
  },
  {
   "cell_type": "code",
   "execution_count": null,
   "id": "92bfdc7d",
   "metadata": {},
   "outputs": [],
   "source": [
    "allData.drop([\"CountryOrTerritory\"],axis=1,inplace=True)"
   ]
  },
  {
   "cell_type": "code",
   "execution_count": null,
   "id": "eab2a198",
   "metadata": {},
   "outputs": [],
   "source": [
    "allData"
   ]
  },
  {
   "cell_type": "code",
   "execution_count": null,
   "id": "28be3400",
   "metadata": {},
   "outputs": [],
   "source": [
    "allData.to_csv('GDPandCO2.csv',index=False)"
   ]
  },
  {
   "cell_type": "code",
   "execution_count": null,
   "id": "62f0c8e5",
   "metadata": {},
   "outputs": [],
   "source": []
  }
 ],
 "metadata": {
  "kernelspec": {
   "display_name": "Python 3 (ipykernel)",
   "language": "python",
   "name": "python3"
  },
  "language_info": {
   "codemirror_mode": {
    "name": "ipython",
    "version": 3
   },
   "file_extension": ".py",
   "mimetype": "text/x-python",
   "name": "python",
   "nbconvert_exporter": "python",
   "pygments_lexer": "ipython3",
   "version": "3.9.7"
  }
 },
 "nbformat": 4,
 "nbformat_minor": 5
}
