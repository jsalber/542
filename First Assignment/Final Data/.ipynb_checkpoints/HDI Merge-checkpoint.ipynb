{
 "cells": [
  {
   "cell_type": "code",
   "execution_count": 1,
   "id": "99fab48a",
   "metadata": {},
   "outputs": [],
   "source": [
    "import pandas as pd\n",
    "linkmainData=\"https://raw.githubusercontent.com/jsalber/542/main/First%20Assignment/GDPandCO2.csv\"\n",
    "linkDataGWh=\"https://raw.githubusercontent.com/jsalber/542/main/First%20Assignment/Energy%20Production.csv\"\n",
    "DataGWh=pd.read_csv(linkDataGWh)\n",
    "mainData=pd.read_csv(linkmainData)"
   ]
  },
  {
   "cell_type": "code",
   "execution_count": 2,
   "id": "2a456971",
   "metadata": {},
   "outputs": [
    {
     "data": {
      "text/plain": [
       "Index(['Country', 'EnergyOutput(GWH)'], dtype='object')"
      ]
     },
     "execution_count": 2,
     "metadata": {},
     "output_type": "execute_result"
    }
   ],
   "source": [
    "DataGWh.columns\n"
   ]
  },
  {
   "cell_type": "code",
   "execution_count": 3,
   "id": "42ded5fb",
   "metadata": {},
   "outputs": [
    {
     "data": {
      "text/plain": [
       "Index(['Country', '2017CO2Emissions', 'PercentofWorldEmissions',\n",
       "       'PerCapitaEmissions', 'GDP(US$Million)'],\n",
       "      dtype='object')"
      ]
     },
     "execution_count": 3,
     "metadata": {},
     "output_type": "execute_result"
    }
   ],
   "source": [
    "mainData.columns"
   ]
  },
  {
   "cell_type": "code",
   "execution_count": 4,
   "id": "41716de5",
   "metadata": {},
   "outputs": [],
   "source": [
    "allData=mainData.merge(DataGWh,left_on=\"Country\",right_on=\"Country\")"
   ]
  },
  {
   "cell_type": "code",
   "execution_count": 5,
   "id": "130ecd27",
   "metadata": {},
   "outputs": [
    {
     "data": {
      "text/plain": [
       "(197, 5)"
      ]
     },
     "execution_count": 5,
     "metadata": {},
     "output_type": "execute_result"
    }
   ],
   "source": [
    "mainData.shape\n"
   ]
  },
  {
   "cell_type": "code",
   "execution_count": 6,
   "id": "ff851c14",
   "metadata": {},
   "outputs": [
    {
     "data": {
      "text/plain": [
       "(210, 2)"
      ]
     },
     "execution_count": 6,
     "metadata": {},
     "output_type": "execute_result"
    }
   ],
   "source": [
    "DataGWh.shape"
   ]
  },
  {
   "cell_type": "code",
   "execution_count": 7,
   "id": "ea7b6421",
   "metadata": {},
   "outputs": [],
   "source": [
    "allData=mainData.merge(DataGWh,left_on=\"Country\",right_on=\"Country\",how='outer',indicator='True')"
   ]
  },
  {
   "cell_type": "code",
   "execution_count": 36,
   "id": "a709bf8d",
   "metadata": {},
   "outputs": [
    {
     "ename": "ValueError",
     "evalue": "left_index parameter must be of type bool, not <class 'str'>",
     "output_type": "error",
     "traceback": [
      "\u001b[1;31m---------------------------------------------------------------------------\u001b[0m",
      "\u001b[1;31mValueError\u001b[0m                                Traceback (most recent call last)",
      "\u001b[1;32m~\\AppData\\Local\\Temp/ipykernel_13624/554777893.py\u001b[0m in \u001b[0;36m<module>\u001b[1;34m\u001b[0m\n\u001b[1;32m----> 1\u001b[1;33m \u001b[0mallData\u001b[0m\u001b[1;33m=\u001b[0m\u001b[0mmainData\u001b[0m\u001b[1;33m.\u001b[0m\u001b[0mmerge\u001b[0m\u001b[1;33m(\u001b[0m\u001b[0mDataGWh\u001b[0m\u001b[1;33m,\u001b[0m\u001b[0mleft_index\u001b[0m\u001b[1;33m=\u001b[0m\u001b[1;34m\"United Kingdom\"\u001b[0m\u001b[1;33m,\u001b[0m\u001b[0mright_index\u001b[0m\u001b[1;33m=\u001b[0m\u001b[1;34m\"UK\"\u001b[0m\u001b[1;33m,\u001b[0m\u001b[0mhow\u001b[0m\u001b[1;33m=\u001b[0m\u001b[1;34m'outer'\u001b[0m\u001b[1;33m,\u001b[0m\u001b[0mindicator\u001b[0m\u001b[1;33m=\u001b[0m\u001b[1;34m'True'\u001b[0m\u001b[1;33m)\u001b[0m\u001b[1;33m\u001b[0m\u001b[1;33m\u001b[0m\u001b[0m\n\u001b[0m",
      "\u001b[1;32m~\\anaconda3\\lib\\site-packages\\pandas\\core\\frame.py\u001b[0m in \u001b[0;36mmerge\u001b[1;34m(self, right, how, on, left_on, right_on, left_index, right_index, sort, suffixes, copy, indicator, validate)\u001b[0m\n\u001b[0;32m   9188\u001b[0m         \u001b[1;32mfrom\u001b[0m \u001b[0mpandas\u001b[0m\u001b[1;33m.\u001b[0m\u001b[0mcore\u001b[0m\u001b[1;33m.\u001b[0m\u001b[0mreshape\u001b[0m\u001b[1;33m.\u001b[0m\u001b[0mmerge\u001b[0m \u001b[1;32mimport\u001b[0m \u001b[0mmerge\u001b[0m\u001b[1;33m\u001b[0m\u001b[1;33m\u001b[0m\u001b[0m\n\u001b[0;32m   9189\u001b[0m \u001b[1;33m\u001b[0m\u001b[0m\n\u001b[1;32m-> 9190\u001b[1;33m         return merge(\n\u001b[0m\u001b[0;32m   9191\u001b[0m             \u001b[0mself\u001b[0m\u001b[1;33m,\u001b[0m\u001b[1;33m\u001b[0m\u001b[1;33m\u001b[0m\u001b[0m\n\u001b[0;32m   9192\u001b[0m             \u001b[0mright\u001b[0m\u001b[1;33m,\u001b[0m\u001b[1;33m\u001b[0m\u001b[1;33m\u001b[0m\u001b[0m\n",
      "\u001b[1;32m~\\anaconda3\\lib\\site-packages\\pandas\\core\\reshape\\merge.py\u001b[0m in \u001b[0;36mmerge\u001b[1;34m(left, right, how, on, left_on, right_on, left_index, right_index, sort, suffixes, copy, indicator, validate)\u001b[0m\n\u001b[0;32m    104\u001b[0m     \u001b[0mvalidate\u001b[0m\u001b[1;33m:\u001b[0m \u001b[0mstr\u001b[0m \u001b[1;33m|\u001b[0m \u001b[1;32mNone\u001b[0m \u001b[1;33m=\u001b[0m \u001b[1;32mNone\u001b[0m\u001b[1;33m,\u001b[0m\u001b[1;33m\u001b[0m\u001b[1;33m\u001b[0m\u001b[0m\n\u001b[0;32m    105\u001b[0m ) -> DataFrame:\n\u001b[1;32m--> 106\u001b[1;33m     op = _MergeOperation(\n\u001b[0m\u001b[0;32m    107\u001b[0m         \u001b[0mleft\u001b[0m\u001b[1;33m,\u001b[0m\u001b[1;33m\u001b[0m\u001b[1;33m\u001b[0m\u001b[0m\n\u001b[0;32m    108\u001b[0m         \u001b[0mright\u001b[0m\u001b[1;33m,\u001b[0m\u001b[1;33m\u001b[0m\u001b[1;33m\u001b[0m\u001b[0m\n",
      "\u001b[1;32m~\\anaconda3\\lib\\site-packages\\pandas\\core\\reshape\\merge.py\u001b[0m in \u001b[0;36m__init__\u001b[1;34m(self, left, right, how, on, left_on, right_on, axis, left_index, right_index, sort, suffixes, copy, indicator, validate)\u001b[0m\n\u001b[0;32m    660\u001b[0m \u001b[1;33m\u001b[0m\u001b[0m\n\u001b[0;32m    661\u001b[0m         \u001b[1;32mif\u001b[0m \u001b[1;32mnot\u001b[0m \u001b[0mis_bool\u001b[0m\u001b[1;33m(\u001b[0m\u001b[0mleft_index\u001b[0m\u001b[1;33m)\u001b[0m\u001b[1;33m:\u001b[0m\u001b[1;33m\u001b[0m\u001b[1;33m\u001b[0m\u001b[0m\n\u001b[1;32m--> 662\u001b[1;33m             raise ValueError(\n\u001b[0m\u001b[0;32m    663\u001b[0m                 \u001b[1;34mf\"left_index parameter must be of type bool, not {type(left_index)}\"\u001b[0m\u001b[1;33m\u001b[0m\u001b[1;33m\u001b[0m\u001b[0m\n\u001b[0;32m    664\u001b[0m             )\n",
      "\u001b[1;31mValueError\u001b[0m: left_index parameter must be of type bool, not <class 'str'>"
     ]
    }
   ],
   "source": [
    "allData=mainData.merge(DataGWh,left_index=\"United Kingdom\",right_index=\"UK\",how='outer',indicator='True')"
   ]
  },
  {
   "cell_type": "code",
   "execution_count": 8,
   "id": "04df5318",
   "metadata": {},
   "outputs": [
    {
     "data": {
      "text/plain": [
       "Index(['Country', '2017CO2Emissions', 'PercentofWorldEmissions',\n",
       "       'PerCapitaEmissions', 'GDP(US$Million)', 'EnergyOutput(GWH)', 'True'],\n",
       "      dtype='object')"
      ]
     },
     "execution_count": 8,
     "metadata": {},
     "output_type": "execute_result"
    }
   ],
   "source": [
    "allData.columns"
   ]
  },
  {
   "cell_type": "code",
   "execution_count": 9,
   "id": "0e71bce0",
   "metadata": {},
   "outputs": [
    {
     "data": {
      "text/plain": [
       "both          175\n",
       "right_only     35\n",
       "left_only      22\n",
       "Name: True, dtype: int64"
      ]
     },
     "execution_count": 9,
     "metadata": {},
     "output_type": "execute_result"
    }
   ],
   "source": [
    "allData['True'].value_counts()"
   ]
  },
  {
   "cell_type": "code",
   "execution_count": 10,
   "id": "77d068ca",
   "metadata": {},
   "outputs": [
    {
     "data": {
      "text/plain": [
       "4                              Anguilla\n",
       "26               British Virgin Islands\n",
       "34                           Cape Verde\n",
       "42                                Congo\n",
       "43                         Cook Islands\n",
       "47                              Curaçao\n",
       "50     Democratic Republic of the Congo\n",
       "55                           East Timor\n",
       "66                        France Monaco\n",
       "90        Italy San Marino Vatican City\n",
       "91                          Ivory Coast\n",
       "122                             Myanmar\n",
       "136                               Palau\n",
       "153               São Tomé and Príncipe\n",
       "156                 Serbia & Montenegro\n",
       "157                          Seychelles\n",
       "166                       Spain Andorra\n",
       "170           Switzerland Liechtenstein\n",
       "176                          The Gambia\n",
       "186                United Arab Emirates\n",
       "187                      United Kingdom\n",
       "191                             Vanuatu\n",
       "Name: Country, dtype: object"
      ]
     },
     "execution_count": 10,
     "metadata": {},
     "output_type": "execute_result"
    }
   ],
   "source": [
    "allData[allData['True']=='left_only'].Country"
   ]
  },
  {
   "cell_type": "code",
   "execution_count": 11,
   "id": "1f2c1a14",
   "metadata": {},
   "outputs": [
    {
     "data": {
      "text/plain": [
       "197                                World\n",
       "198                               France\n",
       "199                                   UK\n",
       "200                                Italy\n",
       "201                                Spain\n",
       "202                                  UAE\n",
       "203                          Switzerland\n",
       "204                               Serbia\n",
       "205                                Burma\n",
       "206                             Sudan[3]\n",
       "207                        Côte d'Ivoire\n",
       "208    Congo, Democratic Republic of the\n",
       "209                               Kosovo\n",
       "210                           Montenegro\n",
       "211                              Reunion\n",
       "212                                 Guam\n",
       "213                           Martinique\n",
       "214                           Guadeloupe\n",
       "215                 Netherlands Antilles\n",
       "216               Congo, Republic of the\n",
       "217                  U.S. Virgin Islands\n",
       "218                        French Guiana\n",
       "219                            Palestine\n",
       "220                        Faroe Islands\n",
       "221                               Gambia\n",
       "222                            Gibraltar\n",
       "223                           Micronesia\n",
       "224                       American Samoa\n",
       "225                       Western Sahara\n",
       "226                Sao Tome and Principe\n",
       "227            Saint Pierre and Miquelon\n",
       "228                           Montserrat\n",
       "229                     Falkland Islands\n",
       "230                         Saint Helena\n",
       "231                                 Niue\n",
       "Name: Country, dtype: object"
      ]
     },
     "execution_count": 11,
     "metadata": {},
     "output_type": "execute_result"
    }
   ],
   "source": [
    "allData[allData['True']=='right_only'].Country"
   ]
  },
  {
   "cell_type": "code",
   "execution_count": 12,
   "id": "7db6e934",
   "metadata": {},
   "outputs": [],
   "source": [
    "UnmatchedLeft=allData[allData['True']=='left_only'].Country.to_list()\n",
    "UnmatchedRight=allData[allData['True']=='right_only'].Country.to_list()"
   ]
  },
  {
   "cell_type": "code",
   "execution_count": 13,
   "id": "7b466d27",
   "metadata": {},
   "outputs": [
    {
     "data": {
      "text/plain": [
       "'Anguilla'"
      ]
     },
     "execution_count": 13,
     "metadata": {},
     "output_type": "execute_result"
    }
   ],
   "source": [
    "UnmatchedLeft[0]"
   ]
  },
  {
   "cell_type": "code",
   "execution_count": 14,
   "id": "e8235869",
   "metadata": {},
   "outputs": [
    {
     "name": "stderr",
     "output_type": "stream",
     "text": [
      "C:\\Users\\John\\anaconda3\\lib\\site-packages\\thefuzz\\fuzz.py:11: UserWarning: Using slow pure-python SequenceMatcher. Install python-Levenshtein to remove this warning\n",
      "  warnings.warn('Using slow pure-python SequenceMatcher. Install python-Levenshtein to remove this warning')\n"
     ]
    },
    {
     "data": {
      "text/plain": [
       "('Netherlands Antilles', 56)"
      ]
     },
     "execution_count": 14,
     "metadata": {},
     "output_type": "execute_result"
    }
   ],
   "source": [
    "from thefuzz import process\n",
    "process.extractOne(UnmatchedLeft[0], UnmatchedRight)"
   ]
  },
  {
   "cell_type": "code",
   "execution_count": 15,
   "id": "356dc120",
   "metadata": {},
   "outputs": [
    {
     "data": {
      "text/plain": [
       "[('Netherlands Antilles', 56), ('French Guiana', 56), ('Falkland Islands', 56)]"
      ]
     },
     "execution_count": 15,
     "metadata": {},
     "output_type": "execute_result"
    }
   ],
   "source": [
    "process.extract(UnmatchedLeft[0], UnmatchedRight,limit=3)"
   ]
  },
  {
   "cell_type": "code",
   "execution_count": 16,
   "id": "543a7022",
   "metadata": {},
   "outputs": [
    {
     "data": {
      "text/plain": [
       "['Anguilla',\n",
       " 'British Virgin Islands',\n",
       " 'Cape Verde',\n",
       " 'Congo',\n",
       " 'Cook Islands',\n",
       " 'Curaçao',\n",
       " 'Democratic Republic of the Congo',\n",
       " 'East Timor',\n",
       " 'France\\xa0Monaco',\n",
       " 'Italy\\xa0San Marino Vatican City',\n",
       " 'Ivory Coast',\n",
       " 'Myanmar',\n",
       " 'Palau',\n",
       " 'São Tomé and Príncipe',\n",
       " 'Serbia & Montenegro',\n",
       " 'Seychelles',\n",
       " 'Spain\\xa0Andorra',\n",
       " 'Switzerland\\xa0Liechtenstein',\n",
       " 'The Gambia',\n",
       " 'United Arab Emirates',\n",
       " 'United Kingdom',\n",
       " 'Vanuatu']"
      ]
     },
     "execution_count": 16,
     "metadata": {},
     "output_type": "execute_result"
    }
   ],
   "source": [
    "UnmatchedLeft=allData[allData['True']=='left_only'].Country.to_list()\n",
    "UnmatchedLeft"
   ]
  },
  {
   "cell_type": "code",
   "execution_count": 63,
   "id": "9ebfc78b",
   "metadata": {
    "scrolled": true
   },
   "outputs": [
    {
     "data": {
      "text/plain": [
       "[('Anguilla', ('Netherlands Antilles', 56)),\n",
       " ('British Virgin Islands', ('Faroe Islands', 86)),\n",
       " ('Cape Verde', ('UAE', 60)),\n",
       " ('Congo', ('Congo, Democratic Republic of the', 90)),\n",
       " ('Cook Islands', ('U.S. Virgin Islands', 86)),\n",
       " ('Curaçao', ('UAE', 60)),\n",
       " ('Democratic Republic of the Congo',\n",
       "  ('Congo, Democratic Republic of the', 95)),\n",
       " ('East Timor', ('World', 45)),\n",
       " ('France\\xa0Monaco', ('France', 90)),\n",
       " ('Italy\\xa0San Marino Vatican City', ('Italy', 90)),\n",
       " ('Ivory Coast', (\"Côte d'Ivoire\", 58)),\n",
       " ('Myanmar', ('American Samoa', 48)),\n",
       " ('Palau', ('UK', 60)),\n",
       " ('Serbia & Montenegro', ('Serbia', 90)),\n",
       " ('Seychelles', ('Netherlands Antilles', 47)),\n",
       " ('Spain\\xa0Andorra', ('Spain', 90)),\n",
       " ('Switzerland\\xa0Liechtenstein', ('Switzerland', 90)),\n",
       " ('São Tomé and Príncipe', ('Sao Tome and Principe', 92)),\n",
       " ('The Gambia', ('Gambia', 90)),\n",
       " ('United Arab Emirates', ('Niue', 68)),\n",
       " ('United Kingdom', ('Niue', 68)),\n",
       " ('Vanuatu', ('UAE', 60))]"
      ]
     },
     "execution_count": 63,
     "metadata": {},
     "output_type": "execute_result"
    }
   ],
   "source": [
    "[(left, process.extractOne(left, UnmatchedRight,)) for left in sorted(UnmatchedLeft) ]"
   ]
  },
  {
   "cell_type": "code",
   "execution_count": 64,
   "id": "9158eae5",
   "metadata": {},
   "outputs": [],
   "source": [
    "TotallyWrong=[('Anguilla', ('Netherlands Antilles', 56)),\n",
    " ('British Virgin Islands', ('Faroe Islands', 86)),\n",
    " ('Cape Verde', ('UAE', 60)),\n",
    " ('Congo', ('Congo, Democratic Republic of the', 90)),\n",
    " ('Cook Islands', ('U.S. Virgin Islands', 86)),\n",
    " ('Curaçao', ('UAE', 60)),\n",
    " ('East Timor', ('World', 45)),\n",
    " ('Myanmar', ('American Samoa', 48)),\n",
    " ('Palau', ('UK', 60)),\n",
    " ('Seychelles', ('Netherlands Antilles', 47)),\n",
    " ('United Arab Emirates', ('Niue', 68)),\n",
    " ('United Kingdom', ('Niue', 68)),\n",
    " ('Vanuatu', ('UAE', 60))]"
   ]
  },
  {
   "cell_type": "code",
   "execution_count": 65,
   "id": "9bb5bb60",
   "metadata": {},
   "outputs": [
    {
     "data": {
      "text/plain": [
       "['Anguilla',\n",
       " 'British Virgin Islands',\n",
       " 'Cape Verde',\n",
       " 'Congo',\n",
       " 'Cook Islands',\n",
       " 'Curaçao',\n",
       " 'East Timor',\n",
       " 'Myanmar',\n",
       " 'Palau',\n",
       " 'Seychelles',\n",
       " 'United Arab Emirates',\n",
       " 'United Kingdom',\n",
       " 'Vanuatu']"
      ]
     },
     "execution_count": 65,
     "metadata": {},
     "output_type": "execute_result"
    }
   ],
   "source": [
    "omitLeft=[leftName for (leftName,rightFuzzy) in TotallyWrong] #parenthesis not needed\n",
    "\n",
    "omitLeft"
   ]
  },
  {
   "cell_type": "code",
   "execution_count": 66,
   "id": "3cb49211",
   "metadata": {},
   "outputs": [
    {
     "data": {
      "text/plain": [
       "{'Congo, Democratic Republic of the': 'Democratic Republic of the Congo',\n",
       " 'France': 'France\\xa0Monaco',\n",
       " 'Italy': 'Italy\\xa0San Marino Vatican City',\n",
       " \"Côte d'Ivoire\": 'Ivory Coast',\n",
       " 'Sao Tome and Principe': 'São Tomé and Príncipe',\n",
       " 'Serbia': 'Serbia & Montenegro',\n",
       " 'Spain': 'Spain\\xa0Andorra',\n",
       " 'Switzerland': 'Switzerland\\xa0Liechtenstein',\n",
       " 'Gambia': 'The Gambia'}"
      ]
     },
     "execution_count": 66,
     "metadata": {},
     "output_type": "execute_result"
    }
   ],
   "source": [
    "{process.extractOne(left, UnmatchedRight)[0]:left for left in UnmatchedLeft if left not in omitLeft}"
   ]
  },
  {
   "cell_type": "code",
   "execution_count": 67,
   "id": "978963ed",
   "metadata": {},
   "outputs": [],
   "source": [
    "bruteForceChanges={'Congo, Democratic Republic of the': 'Democratic Republic of the Congo',\n",
    " 'France': 'France\\xa0Monaco',\n",
    " 'Italy': 'Italy\\xa0San Marino Vatican City',\n",
    " 'Sao Tome and Principe': 'São Tomé and Príncipe',\n",
    " 'Serbia': 'Serbia & Montenegro',\n",
    " 'Spain': 'Spain\\xa0Andorra',\n",
    " 'Switzerland': 'Switzerland\\xa0Liechtenstein',\n",
    " 'Gambia': 'The Gambia',\n",
    " 'UAE':'United Arab Emirates' ,  \n",
    "'UK':'United Kingdom' }"
   ]
  },
  {
   "cell_type": "code",
   "execution_count": 68,
   "id": "b2eb3656",
   "metadata": {},
   "outputs": [],
   "source": [
    "DataGWh.Country.replace(bruteForceChanges,inplace=True)"
   ]
  },
  {
   "cell_type": "code",
   "execution_count": 69,
   "id": "a317298a",
   "metadata": {
    "scrolled": true
   },
   "outputs": [
    {
     "data": {
      "text/plain": [
       "(185, 6)"
      ]
     },
     "execution_count": 69,
     "metadata": {},
     "output_type": "execute_result"
    }
   ],
   "source": [
    "allData=mainData.merge(DataGWh,left_on=\"Country\",right_on=\"Country\")\n",
    "allData.shape"
   ]
  },
  {
   "cell_type": "code",
   "execution_count": 70,
   "id": "58211dbd",
   "metadata": {},
   "outputs": [
    {
     "data": {
      "text/html": [
       "<div>\n",
       "<style scoped>\n",
       "    .dataframe tbody tr th:only-of-type {\n",
       "        vertical-align: middle;\n",
       "    }\n",
       "\n",
       "    .dataframe tbody tr th {\n",
       "        vertical-align: top;\n",
       "    }\n",
       "\n",
       "    .dataframe thead th {\n",
       "        text-align: right;\n",
       "    }\n",
       "</style>\n",
       "<table border=\"1\" class=\"dataframe\">\n",
       "  <thead>\n",
       "    <tr style=\"text-align: right;\">\n",
       "      <th></th>\n",
       "      <th>Country</th>\n",
       "      <th>2017CO2Emissions</th>\n",
       "      <th>PercentofWorldEmissions</th>\n",
       "      <th>PerCapitaEmissions</th>\n",
       "      <th>GDP(US$Million)</th>\n",
       "      <th>EnergyOutput(GWH)</th>\n",
       "    </tr>\n",
       "  </thead>\n",
       "  <tbody>\n",
       "    <tr>\n",
       "      <th>0</th>\n",
       "      <td>Afghanistan</td>\n",
       "      <td>11.422</td>\n",
       "      <td>0.03%</td>\n",
       "      <td>0.3</td>\n",
       "      <td>19793.0</td>\n",
       "      <td>833</td>\n",
       "    </tr>\n",
       "    <tr>\n",
       "      <th>1</th>\n",
       "      <td>Albania</td>\n",
       "      <td>5.026</td>\n",
       "      <td>0.01%</td>\n",
       "      <td>1.7</td>\n",
       "      <td>14910.0</td>\n",
       "      <td>4525</td>\n",
       "    </tr>\n",
       "    <tr>\n",
       "      <th>2</th>\n",
       "      <td>Algeria</td>\n",
       "      <td>159.929</td>\n",
       "      <td>0.43%</td>\n",
       "      <td>3.9</td>\n",
       "      <td>147689.0</td>\n",
       "      <td>78800</td>\n",
       "    </tr>\n",
       "    <tr>\n",
       "      <th>3</th>\n",
       "      <td>Angola</td>\n",
       "      <td>30.876</td>\n",
       "      <td>0.08%</td>\n",
       "      <td>1.0</td>\n",
       "      <td>62307.0</td>\n",
       "      <td>5512</td>\n",
       "    </tr>\n",
       "    <tr>\n",
       "      <th>4</th>\n",
       "      <td>Antigua and Barbuda</td>\n",
       "      <td>0.624</td>\n",
       "      <td>0.00%</td>\n",
       "      <td>6.1</td>\n",
       "      <td>1370.0</td>\n",
       "      <td>331</td>\n",
       "    </tr>\n",
       "    <tr>\n",
       "      <th>...</th>\n",
       "      <td>...</td>\n",
       "      <td>...</td>\n",
       "      <td>...</td>\n",
       "      <td>...</td>\n",
       "      <td>...</td>\n",
       "      <td>...</td>\n",
       "    </tr>\n",
       "    <tr>\n",
       "      <th>180</th>\n",
       "      <td>Venezuela</td>\n",
       "      <td>145.877</td>\n",
       "      <td>0.39%</td>\n",
       "      <td>4.6</td>\n",
       "      <td>106359.0</td>\n",
       "      <td>58400</td>\n",
       "    </tr>\n",
       "    <tr>\n",
       "      <th>181</th>\n",
       "      <td>Vietnam</td>\n",
       "      <td>218.729</td>\n",
       "      <td>0.59%</td>\n",
       "      <td>2.3</td>\n",
       "      <td>271158.0</td>\n",
       "      <td>243500</td>\n",
       "    </tr>\n",
       "    <tr>\n",
       "      <th>182</th>\n",
       "      <td>Yemen</td>\n",
       "      <td>12.503</td>\n",
       "      <td>0.03%</td>\n",
       "      <td>0.4</td>\n",
       "      <td>27958.0</td>\n",
       "      <td>5834</td>\n",
       "    </tr>\n",
       "    <tr>\n",
       "      <th>183</th>\n",
       "      <td>Zambia</td>\n",
       "      <td>4.967</td>\n",
       "      <td>0.01%</td>\n",
       "      <td>0.3</td>\n",
       "      <td>18111.0</td>\n",
       "      <td>15982</td>\n",
       "    </tr>\n",
       "    <tr>\n",
       "      <th>184</th>\n",
       "      <td>Zimbabwe</td>\n",
       "      <td>12.087</td>\n",
       "      <td>0.03%</td>\n",
       "      <td>0.7</td>\n",
       "      <td>21787.0</td>\n",
       "      <td>11311</td>\n",
       "    </tr>\n",
       "  </tbody>\n",
       "</table>\n",
       "<p>185 rows × 6 columns</p>\n",
       "</div>"
      ],
      "text/plain": [
       "                 Country  2017CO2Emissions PercentofWorldEmissions  \\\n",
       "0            Afghanistan            11.422                   0.03%   \n",
       "1                Albania             5.026                   0.01%   \n",
       "2                Algeria           159.929                   0.43%   \n",
       "3                 Angola            30.876                   0.08%   \n",
       "4    Antigua and Barbuda             0.624                   0.00%   \n",
       "..                   ...               ...                     ...   \n",
       "180            Venezuela           145.877                   0.39%   \n",
       "181              Vietnam           218.729                   0.59%   \n",
       "182                Yemen            12.503                   0.03%   \n",
       "183               Zambia             4.967                   0.01%   \n",
       "184             Zimbabwe            12.087                   0.03%   \n",
       "\n",
       "     PerCapitaEmissions  GDP(US$Million)  EnergyOutput(GWH)  \n",
       "0                   0.3          19793.0                833  \n",
       "1                   1.7          14910.0               4525  \n",
       "2                   3.9         147689.0              78800  \n",
       "3                   1.0          62307.0               5512  \n",
       "4                   6.1           1370.0                331  \n",
       "..                  ...              ...                ...  \n",
       "180                 4.6         106359.0              58400  \n",
       "181                 2.3         271158.0             243500  \n",
       "182                 0.4          27958.0               5834  \n",
       "183                 0.3          18111.0              15982  \n",
       "184                 0.7          21787.0              11311  \n",
       "\n",
       "[185 rows x 6 columns]"
      ]
     },
     "execution_count": 70,
     "metadata": {},
     "output_type": "execute_result"
    }
   ],
   "source": [
    "allData"
   ]
  },
  {
   "cell_type": "code",
   "execution_count": 71,
   "id": "09586835",
   "metadata": {},
   "outputs": [
    {
     "ename": "PermissionError",
     "evalue": "[Errno 13] Permission denied: 'allData.csv'",
     "output_type": "error",
     "traceback": [
      "\u001b[1;31m---------------------------------------------------------------------------\u001b[0m",
      "\u001b[1;31mPermissionError\u001b[0m                           Traceback (most recent call last)",
      "\u001b[1;32m~\\AppData\\Local\\Temp/ipykernel_13624/1375937783.py\u001b[0m in \u001b[0;36m<module>\u001b[1;34m\u001b[0m\n\u001b[1;32m----> 1\u001b[1;33m \u001b[0mallData\u001b[0m\u001b[1;33m.\u001b[0m\u001b[0mto_csv\u001b[0m\u001b[1;33m(\u001b[0m\u001b[1;34m'allData.csv'\u001b[0m\u001b[1;33m,\u001b[0m\u001b[0mindex\u001b[0m\u001b[1;33m=\u001b[0m\u001b[1;32mFalse\u001b[0m\u001b[1;33m)\u001b[0m\u001b[1;33m\u001b[0m\u001b[1;33m\u001b[0m\u001b[0m\n\u001b[0m",
      "\u001b[1;32m~\\anaconda3\\lib\\site-packages\\pandas\\core\\generic.py\u001b[0m in \u001b[0;36mto_csv\u001b[1;34m(self, path_or_buf, sep, na_rep, float_format, columns, header, index, index_label, mode, encoding, compression, quoting, quotechar, line_terminator, chunksize, date_format, doublequote, escapechar, decimal, errors, storage_options)\u001b[0m\n\u001b[0;32m   3464\u001b[0m         )\n\u001b[0;32m   3465\u001b[0m \u001b[1;33m\u001b[0m\u001b[0m\n\u001b[1;32m-> 3466\u001b[1;33m         return DataFrameRenderer(formatter).to_csv(\n\u001b[0m\u001b[0;32m   3467\u001b[0m             \u001b[0mpath_or_buf\u001b[0m\u001b[1;33m,\u001b[0m\u001b[1;33m\u001b[0m\u001b[1;33m\u001b[0m\u001b[0m\n\u001b[0;32m   3468\u001b[0m             \u001b[0mline_terminator\u001b[0m\u001b[1;33m=\u001b[0m\u001b[0mline_terminator\u001b[0m\u001b[1;33m,\u001b[0m\u001b[1;33m\u001b[0m\u001b[1;33m\u001b[0m\u001b[0m\n",
      "\u001b[1;32m~\\anaconda3\\lib\\site-packages\\pandas\\io\\formats\\format.py\u001b[0m in \u001b[0;36mto_csv\u001b[1;34m(self, path_or_buf, encoding, sep, columns, index_label, mode, compression, quoting, quotechar, line_terminator, chunksize, date_format, doublequote, escapechar, errors, storage_options)\u001b[0m\n\u001b[0;32m   1103\u001b[0m             \u001b[0mformatter\u001b[0m\u001b[1;33m=\u001b[0m\u001b[0mself\u001b[0m\u001b[1;33m.\u001b[0m\u001b[0mfmt\u001b[0m\u001b[1;33m,\u001b[0m\u001b[1;33m\u001b[0m\u001b[1;33m\u001b[0m\u001b[0m\n\u001b[0;32m   1104\u001b[0m         )\n\u001b[1;32m-> 1105\u001b[1;33m         \u001b[0mcsv_formatter\u001b[0m\u001b[1;33m.\u001b[0m\u001b[0msave\u001b[0m\u001b[1;33m(\u001b[0m\u001b[1;33m)\u001b[0m\u001b[1;33m\u001b[0m\u001b[1;33m\u001b[0m\u001b[0m\n\u001b[0m\u001b[0;32m   1106\u001b[0m \u001b[1;33m\u001b[0m\u001b[0m\n\u001b[0;32m   1107\u001b[0m         \u001b[1;32mif\u001b[0m \u001b[0mcreated_buffer\u001b[0m\u001b[1;33m:\u001b[0m\u001b[1;33m\u001b[0m\u001b[1;33m\u001b[0m\u001b[0m\n",
      "\u001b[1;32m~\\anaconda3\\lib\\site-packages\\pandas\\io\\formats\\csvs.py\u001b[0m in \u001b[0;36msave\u001b[1;34m(self)\u001b[0m\n\u001b[0;32m    235\u001b[0m         \"\"\"\n\u001b[0;32m    236\u001b[0m         \u001b[1;31m# apply compression and byte/text conversion\u001b[0m\u001b[1;33m\u001b[0m\u001b[1;33m\u001b[0m\u001b[0m\n\u001b[1;32m--> 237\u001b[1;33m         with get_handle(\n\u001b[0m\u001b[0;32m    238\u001b[0m             \u001b[0mself\u001b[0m\u001b[1;33m.\u001b[0m\u001b[0mfilepath_or_buffer\u001b[0m\u001b[1;33m,\u001b[0m\u001b[1;33m\u001b[0m\u001b[1;33m\u001b[0m\u001b[0m\n\u001b[0;32m    239\u001b[0m             \u001b[0mself\u001b[0m\u001b[1;33m.\u001b[0m\u001b[0mmode\u001b[0m\u001b[1;33m,\u001b[0m\u001b[1;33m\u001b[0m\u001b[1;33m\u001b[0m\u001b[0m\n",
      "\u001b[1;32m~\\anaconda3\\lib\\site-packages\\pandas\\io\\common.py\u001b[0m in \u001b[0;36mget_handle\u001b[1;34m(path_or_buf, mode, encoding, compression, memory_map, is_text, errors, storage_options)\u001b[0m\n\u001b[0;32m    700\u001b[0m         \u001b[1;32mif\u001b[0m \u001b[0mioargs\u001b[0m\u001b[1;33m.\u001b[0m\u001b[0mencoding\u001b[0m \u001b[1;32mand\u001b[0m \u001b[1;34m\"b\"\u001b[0m \u001b[1;32mnot\u001b[0m \u001b[1;32min\u001b[0m \u001b[0mioargs\u001b[0m\u001b[1;33m.\u001b[0m\u001b[0mmode\u001b[0m\u001b[1;33m:\u001b[0m\u001b[1;33m\u001b[0m\u001b[1;33m\u001b[0m\u001b[0m\n\u001b[0;32m    701\u001b[0m             \u001b[1;31m# Encoding\u001b[0m\u001b[1;33m\u001b[0m\u001b[1;33m\u001b[0m\u001b[0m\n\u001b[1;32m--> 702\u001b[1;33m             handle = open(\n\u001b[0m\u001b[0;32m    703\u001b[0m                 \u001b[0mhandle\u001b[0m\u001b[1;33m,\u001b[0m\u001b[1;33m\u001b[0m\u001b[1;33m\u001b[0m\u001b[0m\n\u001b[0;32m    704\u001b[0m                 \u001b[0mioargs\u001b[0m\u001b[1;33m.\u001b[0m\u001b[0mmode\u001b[0m\u001b[1;33m,\u001b[0m\u001b[1;33m\u001b[0m\u001b[1;33m\u001b[0m\u001b[0m\n",
      "\u001b[1;31mPermissionError\u001b[0m: [Errno 13] Permission denied: 'allData.csv'"
     ]
    }
   ],
   "source": [
    "allData.to_csv('allData.csv',index=False)"
   ]
  },
  {
   "cell_type": "code",
   "execution_count": null,
   "id": "ee1709c1",
   "metadata": {},
   "outputs": [],
   "source": []
  }
 ],
 "metadata": {
  "kernelspec": {
   "display_name": "Python 3 (ipykernel)",
   "language": "python",
   "name": "python3"
  },
  "language_info": {
   "codemirror_mode": {
    "name": "ipython",
    "version": 3
   },
   "file_extension": ".py",
   "mimetype": "text/x-python",
   "name": "python",
   "nbconvert_exporter": "python",
   "pygments_lexer": "ipython3",
   "version": "3.9.7"
  }
 },
 "nbformat": 4,
 "nbformat_minor": 5
}
