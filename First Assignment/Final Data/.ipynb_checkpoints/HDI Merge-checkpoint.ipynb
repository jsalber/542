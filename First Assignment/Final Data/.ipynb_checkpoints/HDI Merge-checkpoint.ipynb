{
 "cells": [
  {
   "cell_type": "code",
   "execution_count": 11,
   "id": "99fab48a",
   "metadata": {},
   "outputs": [],
   "source": [
    "import pandas as pd\n",
    "linkmainData=\"https://github.com/jsalber/542/raw/main/First%20Assignment/allData.csv\"\n",
    "linkDataHDI=\"https://github.com/jsalber/542/raw/main/First%20Assignment/HDI.csv\"\n",
    "DataHDI=pd.read_csv(linkDataHDI)\n",
    "mainData=pd.read_csv(linkmainData)"
   ]
  },
  {
   "cell_type": "code",
   "execution_count": 29,
   "id": "2a456971",
   "metadata": {},
   "outputs": [
    {
     "data": {
      "text/html": [
       "<div>\n",
       "<style scoped>\n",
       "    .dataframe tbody tr th:only-of-type {\n",
       "        vertical-align: middle;\n",
       "    }\n",
       "\n",
       "    .dataframe tbody tr th {\n",
       "        vertical-align: top;\n",
       "    }\n",
       "\n",
       "    .dataframe thead th {\n",
       "        text-align: right;\n",
       "    }\n",
       "</style>\n",
       "<table border=\"1\" class=\"dataframe\">\n",
       "  <thead>\n",
       "    <tr style=\"text-align: right;\">\n",
       "      <th></th>\n",
       "      <th>Nation</th>\n",
       "      <th>HDI</th>\n",
       "    </tr>\n",
       "  </thead>\n",
       "  <tbody>\n",
       "    <tr>\n",
       "      <th>0</th>\n",
       "      <td>Norway</td>\n",
       "      <td>0.957</td>\n",
       "    </tr>\n",
       "    <tr>\n",
       "      <th>1</th>\n",
       "      <td>Ireland</td>\n",
       "      <td>0.955</td>\n",
       "    </tr>\n",
       "    <tr>\n",
       "      <th>2</th>\n",
       "      <td>Switzerland</td>\n",
       "      <td>0.955</td>\n",
       "    </tr>\n",
       "    <tr>\n",
       "      <th>3</th>\n",
       "      <td>Hong Kong</td>\n",
       "      <td>0.949</td>\n",
       "    </tr>\n",
       "    <tr>\n",
       "      <th>4</th>\n",
       "      <td>Iceland</td>\n",
       "      <td>0.949</td>\n",
       "    </tr>\n",
       "    <tr>\n",
       "      <th>...</th>\n",
       "      <td>...</td>\n",
       "      <td>...</td>\n",
       "    </tr>\n",
       "    <tr>\n",
       "      <th>184</th>\n",
       "      <td>Burundi</td>\n",
       "      <td>0.433</td>\n",
       "    </tr>\n",
       "    <tr>\n",
       "      <th>185</th>\n",
       "      <td>South Sudan</td>\n",
       "      <td>0.433</td>\n",
       "    </tr>\n",
       "    <tr>\n",
       "      <th>186</th>\n",
       "      <td>Chad</td>\n",
       "      <td>0.398</td>\n",
       "    </tr>\n",
       "    <tr>\n",
       "      <th>187</th>\n",
       "      <td>Central African Republic</td>\n",
       "      <td>0.397</td>\n",
       "    </tr>\n",
       "    <tr>\n",
       "      <th>188</th>\n",
       "      <td>Niger</td>\n",
       "      <td>0.394</td>\n",
       "    </tr>\n",
       "  </tbody>\n",
       "</table>\n",
       "<p>189 rows × 2 columns</p>\n",
       "</div>"
      ],
      "text/plain": [
       "                       Nation    HDI\n",
       "0                      Norway  0.957\n",
       "1                     Ireland  0.955\n",
       "2                 Switzerland  0.955\n",
       "3                   Hong Kong  0.949\n",
       "4                     Iceland  0.949\n",
       "..                        ...    ...\n",
       "184                   Burundi  0.433\n",
       "185               South Sudan  0.433\n",
       "186                      Chad  0.398\n",
       "187  Central African Republic  0.397\n",
       "188                     Niger  0.394\n",
       "\n",
       "[189 rows x 2 columns]"
      ]
     },
     "execution_count": 29,
     "metadata": {},
     "output_type": "execute_result"
    }
   ],
   "source": [
    "DataHDI\n"
   ]
  },
  {
   "cell_type": "code",
   "execution_count": 30,
   "id": "42ded5fb",
   "metadata": {},
   "outputs": [
    {
     "data": {
      "text/html": [
       "<div>\n",
       "<style scoped>\n",
       "    .dataframe tbody tr th:only-of-type {\n",
       "        vertical-align: middle;\n",
       "    }\n",
       "\n",
       "    .dataframe tbody tr th {\n",
       "        vertical-align: top;\n",
       "    }\n",
       "\n",
       "    .dataframe thead th {\n",
       "        text-align: right;\n",
       "    }\n",
       "</style>\n",
       "<table border=\"1\" class=\"dataframe\">\n",
       "  <thead>\n",
       "    <tr style=\"text-align: right;\">\n",
       "      <th></th>\n",
       "      <th>Country</th>\n",
       "      <th>2017CO2Emissions</th>\n",
       "      <th>PercentofWorldEmissions</th>\n",
       "      <th>PerCapitaEmissions</th>\n",
       "      <th>GDP(US$Million)</th>\n",
       "      <th>PerCapitaGDP(Thousands)</th>\n",
       "      <th>EnergyConsumptionPerCapita(Watts)</th>\n",
       "      <th>KilowattsPerCapita</th>\n",
       "    </tr>\n",
       "  </thead>\n",
       "  <tbody>\n",
       "    <tr>\n",
       "      <th>0</th>\n",
       "      <td>Albania</td>\n",
       "      <td>5.026</td>\n",
       "      <td>0.01</td>\n",
       "      <td>1.7</td>\n",
       "      <td>5181</td>\n",
       "      <td>5.18</td>\n",
       "      <td>1065.9</td>\n",
       "      <td>1.07</td>\n",
       "    </tr>\n",
       "    <tr>\n",
       "      <th>1</th>\n",
       "      <td>Algeria</td>\n",
       "      <td>159.929</td>\n",
       "      <td>0.43</td>\n",
       "      <td>3.9</td>\n",
       "      <td>3368</td>\n",
       "      <td>3.37</td>\n",
       "      <td>1658.9</td>\n",
       "      <td>1.66</td>\n",
       "    </tr>\n",
       "    <tr>\n",
       "      <th>2</th>\n",
       "      <td>Angola</td>\n",
       "      <td>30.876</td>\n",
       "      <td>0.08</td>\n",
       "      <td>1.0</td>\n",
       "      <td>1896</td>\n",
       "      <td>1.90</td>\n",
       "      <td>871.9</td>\n",
       "      <td>0.87</td>\n",
       "    </tr>\n",
       "    <tr>\n",
       "      <th>3</th>\n",
       "      <td>Argentina</td>\n",
       "      <td>209.968</td>\n",
       "      <td>0.57</td>\n",
       "      <td>4.7</td>\n",
       "      <td>8476</td>\n",
       "      <td>8.48</td>\n",
       "      <td>2522.5</td>\n",
       "      <td>2.52</td>\n",
       "    </tr>\n",
       "    <tr>\n",
       "      <th>4</th>\n",
       "      <td>Armenia</td>\n",
       "      <td>4.832</td>\n",
       "      <td>0.01</td>\n",
       "      <td>1.6</td>\n",
       "      <td>4266</td>\n",
       "      <td>4.27</td>\n",
       "      <td>1290.5</td>\n",
       "      <td>1.29</td>\n",
       "    </tr>\n",
       "    <tr>\n",
       "      <th>...</th>\n",
       "      <td>...</td>\n",
       "      <td>...</td>\n",
       "      <td>...</td>\n",
       "      <td>...</td>\n",
       "      <td>...</td>\n",
       "      <td>...</td>\n",
       "      <td>...</td>\n",
       "      <td>...</td>\n",
       "    </tr>\n",
       "    <tr>\n",
       "      <th>126</th>\n",
       "      <td>Venezuela</td>\n",
       "      <td>145.877</td>\n",
       "      <td>0.39</td>\n",
       "      <td>4.6</td>\n",
       "      <td>3740</td>\n",
       "      <td>3.74</td>\n",
       "      <td>3023.9</td>\n",
       "      <td>3.02</td>\n",
       "    </tr>\n",
       "    <tr>\n",
       "      <th>127</th>\n",
       "      <td>Vietnam</td>\n",
       "      <td>218.729</td>\n",
       "      <td>0.59</td>\n",
       "      <td>2.3</td>\n",
       "      <td>2786</td>\n",
       "      <td>2.79</td>\n",
       "      <td>888.9</td>\n",
       "      <td>0.89</td>\n",
       "    </tr>\n",
       "    <tr>\n",
       "      <th>128</th>\n",
       "      <td>Yemen</td>\n",
       "      <td>12.503</td>\n",
       "      <td>0.03</td>\n",
       "      <td>0.4</td>\n",
       "      <td>937</td>\n",
       "      <td>0.94</td>\n",
       "      <td>431.0</td>\n",
       "      <td>0.43</td>\n",
       "    </tr>\n",
       "    <tr>\n",
       "      <th>129</th>\n",
       "      <td>Zambia</td>\n",
       "      <td>4.967</td>\n",
       "      <td>0.01</td>\n",
       "      <td>0.3</td>\n",
       "      <td>985</td>\n",
       "      <td>0.99</td>\n",
       "      <td>840.7</td>\n",
       "      <td>0.84</td>\n",
       "    </tr>\n",
       "    <tr>\n",
       "      <th>130</th>\n",
       "      <td>Zimbabwe</td>\n",
       "      <td>12.087</td>\n",
       "      <td>0.03</td>\n",
       "      <td>0.7</td>\n",
       "      <td>1466</td>\n",
       "      <td>1.47</td>\n",
       "      <td>1008.6</td>\n",
       "      <td>1.01</td>\n",
       "    </tr>\n",
       "  </tbody>\n",
       "</table>\n",
       "<p>131 rows × 8 columns</p>\n",
       "</div>"
      ],
      "text/plain": [
       "       Country  2017CO2Emissions  PercentofWorldEmissions  PerCapitaEmissions  \\\n",
       "0      Albania             5.026                     0.01                 1.7   \n",
       "1      Algeria           159.929                     0.43                 3.9   \n",
       "2       Angola            30.876                     0.08                 1.0   \n",
       "3    Argentina           209.968                     0.57                 4.7   \n",
       "4      Armenia             4.832                     0.01                 1.6   \n",
       "..         ...               ...                      ...                 ...   \n",
       "126  Venezuela           145.877                     0.39                 4.6   \n",
       "127    Vietnam           218.729                     0.59                 2.3   \n",
       "128      Yemen            12.503                     0.03                 0.4   \n",
       "129     Zambia             4.967                     0.01                 0.3   \n",
       "130   Zimbabwe            12.087                     0.03                 0.7   \n",
       "\n",
       "     GDP(US$Million)  PerCapitaGDP(Thousands)  \\\n",
       "0               5181                     5.18   \n",
       "1               3368                     3.37   \n",
       "2               1896                     1.90   \n",
       "3               8476                     8.48   \n",
       "4               4266                     4.27   \n",
       "..               ...                      ...   \n",
       "126             3740                     3.74   \n",
       "127             2786                     2.79   \n",
       "128              937                     0.94   \n",
       "129              985                     0.99   \n",
       "130             1466                     1.47   \n",
       "\n",
       "     EnergyConsumptionPerCapita(Watts)  KilowattsPerCapita  \n",
       "0                               1065.9                1.07  \n",
       "1                               1658.9                1.66  \n",
       "2                                871.9                0.87  \n",
       "3                               2522.5                2.52  \n",
       "4                               1290.5                1.29  \n",
       "..                                 ...                 ...  \n",
       "126                             3023.9                3.02  \n",
       "127                              888.9                0.89  \n",
       "128                              431.0                0.43  \n",
       "129                              840.7                0.84  \n",
       "130                             1008.6                1.01  \n",
       "\n",
       "[131 rows x 8 columns]"
      ]
     },
     "execution_count": 30,
     "metadata": {},
     "output_type": "execute_result"
    }
   ],
   "source": [
    "mainData"
   ]
  },
  {
   "cell_type": "code",
   "execution_count": 31,
   "id": "41716de5",
   "metadata": {},
   "outputs": [],
   "source": [
    "allData=mainData.merge(DataHDI,left_on=\"Country\",right_on=\"Nation\")"
   ]
  },
  {
   "cell_type": "code",
   "execution_count": 32,
   "id": "130ecd27",
   "metadata": {},
   "outputs": [
    {
     "data": {
      "text/plain": [
       "(131, 8)"
      ]
     },
     "execution_count": 32,
     "metadata": {},
     "output_type": "execute_result"
    }
   ],
   "source": [
    "mainData.shape\n"
   ]
  },
  {
   "cell_type": "code",
   "execution_count": 33,
   "id": "ff851c14",
   "metadata": {},
   "outputs": [
    {
     "data": {
      "text/plain": [
       "(189, 2)"
      ]
     },
     "execution_count": 33,
     "metadata": {},
     "output_type": "execute_result"
    }
   ],
   "source": [
    "DataHDI.shape"
   ]
  },
  {
   "cell_type": "code",
   "execution_count": 34,
   "id": "ea7b6421",
   "metadata": {
    "scrolled": true
   },
   "outputs": [],
   "source": [
    "allData=mainData.merge(DataHDI,left_on=\"Country\",right_on=\"Nation\",how='outer',indicator='True')"
   ]
  },
  {
   "cell_type": "code",
   "execution_count": 35,
   "id": "04df5318",
   "metadata": {},
   "outputs": [
    {
     "data": {
      "text/plain": [
       "Index(['Country', '2017CO2Emissions', 'PercentofWorldEmissions',\n",
       "       'PerCapitaEmissions', 'GDP(US$Million)', 'PerCapitaGDP(Thousands)',\n",
       "       'EnergyConsumptionPerCapita(Watts)', 'KilowattsPerCapita', 'Nation',\n",
       "       'HDI', 'True'],\n",
       "      dtype='object')"
      ]
     },
     "execution_count": 35,
     "metadata": {},
     "output_type": "execute_result"
    }
   ],
   "source": [
    "allData.columns"
   ]
  },
  {
   "cell_type": "code",
   "execution_count": 36,
   "id": "0e71bce0",
   "metadata": {},
   "outputs": [
    {
     "data": {
      "text/plain": [
       "both          125\n",
       "right_only     64\n",
       "left_only       6\n",
       "Name: True, dtype: int64"
      ]
     },
     "execution_count": 36,
     "metadata": {},
     "output_type": "execute_result"
    }
   ],
   "source": [
    "allData['True'].value_counts()"
   ]
  },
  {
   "cell_type": "code",
   "execution_count": 66,
   "id": "77d068ca",
   "metadata": {},
   "outputs": [
    {
     "data": {
      "text/plain": [
       "25                             Congo\n",
       "40                     France Monaco\n",
       "58     Italy San Marino Vatican City\n",
       "86                       North Korea\n",
       "107                    Spain Andorra\n",
       "110        Switzerland Liechtenstein\n",
       "Name: Country, dtype: object"
      ]
     },
     "execution_count": 66,
     "metadata": {},
     "output_type": "execute_result"
    }
   ],
   "source": [
    "allData[allData['True']=='left_only'].Country"
   ]
  },
  {
   "cell_type": "code",
   "execution_count": 54,
   "id": "1f2c1a14",
   "metadata": {},
   "outputs": [
    {
     "data": {
      "text/plain": [
       "131                 Switzerland\n",
       "132               Liechtenstein\n",
       "133                       Spain\n",
       "134                      France\n",
       "135                       Italy\n",
       "                 ...           \n",
       "190                     Burundi\n",
       "191                 South Sudan\n",
       "192                        Chad\n",
       "193    Central African Republic\n",
       "194                       Niger\n",
       "Name: Nation, Length: 64, dtype: object"
      ]
     },
     "execution_count": 54,
     "metadata": {},
     "output_type": "execute_result"
    }
   ],
   "source": [
    "allData[allData['True']=='right_only'].Nation"
   ]
  },
  {
   "cell_type": "code",
   "execution_count": 55,
   "id": "7db6e934",
   "metadata": {},
   "outputs": [],
   "source": [
    "UnmatchedLeft=allData[allData['True']=='left_only'].Country.to_list()\n",
    "UnmatchedRight=allData[allData['True']=='right_only'].Nation.to_list()"
   ]
  },
  {
   "cell_type": "code",
   "execution_count": 56,
   "id": "7b466d27",
   "metadata": {},
   "outputs": [
    {
     "data": {
      "text/plain": [
       "'Congo'"
      ]
     },
     "execution_count": 56,
     "metadata": {},
     "output_type": "execute_result"
    }
   ],
   "source": [
    "UnmatchedLeft[0]"
   ]
  },
  {
   "cell_type": "code",
   "execution_count": 58,
   "id": "e8235869",
   "metadata": {},
   "outputs": [
    {
     "data": {
      "text/plain": [
       "('Republic of the Congo', 90)"
      ]
     },
     "execution_count": 58,
     "metadata": {},
     "output_type": "execute_result"
    }
   ],
   "source": [
    "from thefuzz import process\n",
    "process.extractOne(UnmatchedLeft[0], UnmatchedRight)"
   ]
  },
  {
   "cell_type": "code",
   "execution_count": 59,
   "id": "356dc120",
   "metadata": {},
   "outputs": [
    {
     "data": {
      "text/plain": [
       "[('Republic of the Congo', 90), ('Tonga', 60), ('Micronesia', 54)]"
      ]
     },
     "execution_count": 59,
     "metadata": {},
     "output_type": "execute_result"
    }
   ],
   "source": [
    "process.extract(UnmatchedLeft[0], UnmatchedRight,limit=3)"
   ]
  },
  {
   "cell_type": "code",
   "execution_count": 60,
   "id": "543a7022",
   "metadata": {},
   "outputs": [
    {
     "data": {
      "text/plain": [
       "['Congo',\n",
       " 'France\\xa0Monaco',\n",
       " 'Italy\\xa0San Marino Vatican City',\n",
       " 'North Korea',\n",
       " 'Spain\\xa0Andorra',\n",
       " 'Switzerland\\xa0Liechtenstein']"
      ]
     },
     "execution_count": 60,
     "metadata": {},
     "output_type": "execute_result"
    }
   ],
   "source": [
    "UnmatchedLeft=allData[allData['True']=='left_only'].Country.to_list()\n",
    "UnmatchedLeft"
   ]
  },
  {
   "cell_type": "code",
   "execution_count": 61,
   "id": "9ebfc78b",
   "metadata": {
    "scrolled": true
   },
   "outputs": [
    {
     "data": {
      "text/plain": [
       "[('Congo', ('Republic of the Congo', 90)),\n",
       " ('France\\xa0Monaco', ('France', 90)),\n",
       " ('Italy\\xa0San Marino Vatican City', ('Italy', 90)),\n",
       " ('North Korea', ('Andorra', 56)),\n",
       " ('Spain\\xa0Andorra', ('Spain', 90)),\n",
       " ('Switzerland\\xa0Liechtenstein', ('Switzerland', 90))]"
      ]
     },
     "execution_count": 61,
     "metadata": {},
     "output_type": "execute_result"
    }
   ],
   "source": [
    "[(left, process.extractOne(left, UnmatchedRight,)) for left in sorted(UnmatchedLeft) ]"
   ]
  },
  {
   "cell_type": "code",
   "execution_count": 62,
   "id": "9158eae5",
   "metadata": {},
   "outputs": [],
   "source": [
    "TotallyWrong=[\n",
    " ('North Korea', ('Andorra', 56))]\n"
   ]
  },
  {
   "cell_type": "code",
   "execution_count": 67,
   "id": "9bb5bb60",
   "metadata": {},
   "outputs": [
    {
     "data": {
      "text/plain": [
       "['North Korea']"
      ]
     },
     "execution_count": 67,
     "metadata": {},
     "output_type": "execute_result"
    }
   ],
   "source": [
    "omitLeft=[leftName for (leftName,rightFuzzy) in TotallyWrong] #parenthesis not needed\n",
    "\n",
    "omitLeft"
   ]
  },
  {
   "cell_type": "code",
   "execution_count": 68,
   "id": "3cb49211",
   "metadata": {},
   "outputs": [
    {
     "data": {
      "text/plain": [
       "{'Republic of the Congo': 'Congo',\n",
       " 'France': 'France\\xa0Monaco',\n",
       " 'Italy': 'Italy\\xa0San Marino Vatican City',\n",
       " 'Spain': 'Spain\\xa0Andorra',\n",
       " 'Switzerland': 'Switzerland\\xa0Liechtenstein'}"
      ]
     },
     "execution_count": 68,
     "metadata": {},
     "output_type": "execute_result"
    }
   ],
   "source": [
    "{process.extractOne(left, UnmatchedRight)[0]:left for left in UnmatchedLeft if left not in omitLeft}"
   ]
  },
  {
   "cell_type": "code",
   "execution_count": 69,
   "id": "978963ed",
   "metadata": {},
   "outputs": [],
   "source": [
    "bruteForceChanges={'Democratic Republic of the Congo': 'Congo',\n",
    " 'France': 'France\\xa0Monaco',\n",
    " 'Italy': 'Italy\\xa0San Marino Vatican City',\n",
    " 'Spain': 'Spain\\xa0Andorra',\n",
    " 'Switzerland': 'Switzerland\\xa0Liechtenstein'}"
   ]
  },
  {
   "cell_type": "code",
   "execution_count": 70,
   "id": "b2eb3656",
   "metadata": {},
   "outputs": [],
   "source": [
    "DataHDI.Nation.replace(bruteForceChanges,inplace=True)"
   ]
  },
  {
   "cell_type": "code",
   "execution_count": 71,
   "id": "a317298a",
   "metadata": {
    "scrolled": true
   },
   "outputs": [
    {
     "data": {
      "text/plain": [
       "(129, 10)"
      ]
     },
     "execution_count": 71,
     "metadata": {},
     "output_type": "execute_result"
    }
   ],
   "source": [
    "allData=mainData.merge(DataHDI,left_on=\"Country\",right_on=\"Nation\")\n",
    "allData.shape"
   ]
  },
  {
   "cell_type": "code",
   "execution_count": 72,
   "id": "58211dbd",
   "metadata": {},
   "outputs": [
    {
     "data": {
      "text/html": [
       "<div>\n",
       "<style scoped>\n",
       "    .dataframe tbody tr th:only-of-type {\n",
       "        vertical-align: middle;\n",
       "    }\n",
       "\n",
       "    .dataframe tbody tr th {\n",
       "        vertical-align: top;\n",
       "    }\n",
       "\n",
       "    .dataframe thead th {\n",
       "        text-align: right;\n",
       "    }\n",
       "</style>\n",
       "<table border=\"1\" class=\"dataframe\">\n",
       "  <thead>\n",
       "    <tr style=\"text-align: right;\">\n",
       "      <th></th>\n",
       "      <th>Country</th>\n",
       "      <th>2017CO2Emissions</th>\n",
       "      <th>PercentofWorldEmissions</th>\n",
       "      <th>PerCapitaEmissions</th>\n",
       "      <th>GDP(US$Million)</th>\n",
       "      <th>PerCapitaGDP(Thousands)</th>\n",
       "      <th>EnergyConsumptionPerCapita(Watts)</th>\n",
       "      <th>KilowattsPerCapita</th>\n",
       "      <th>Nation</th>\n",
       "      <th>HDI</th>\n",
       "    </tr>\n",
       "  </thead>\n",
       "  <tbody>\n",
       "    <tr>\n",
       "      <th>0</th>\n",
       "      <td>Albania</td>\n",
       "      <td>5.026</td>\n",
       "      <td>0.01</td>\n",
       "      <td>1.7</td>\n",
       "      <td>5181</td>\n",
       "      <td>5.18</td>\n",
       "      <td>1065.9</td>\n",
       "      <td>1.07</td>\n",
       "      <td>Albania</td>\n",
       "      <td>0.795</td>\n",
       "    </tr>\n",
       "    <tr>\n",
       "      <th>1</th>\n",
       "      <td>Algeria</td>\n",
       "      <td>159.929</td>\n",
       "      <td>0.43</td>\n",
       "      <td>3.9</td>\n",
       "      <td>3368</td>\n",
       "      <td>3.37</td>\n",
       "      <td>1658.9</td>\n",
       "      <td>1.66</td>\n",
       "      <td>Algeria</td>\n",
       "      <td>0.748</td>\n",
       "    </tr>\n",
       "    <tr>\n",
       "      <th>2</th>\n",
       "      <td>Angola</td>\n",
       "      <td>30.876</td>\n",
       "      <td>0.08</td>\n",
       "      <td>1.0</td>\n",
       "      <td>1896</td>\n",
       "      <td>1.90</td>\n",
       "      <td>871.9</td>\n",
       "      <td>0.87</td>\n",
       "      <td>Angola</td>\n",
       "      <td>0.581</td>\n",
       "    </tr>\n",
       "    <tr>\n",
       "      <th>3</th>\n",
       "      <td>Argentina</td>\n",
       "      <td>209.968</td>\n",
       "      <td>0.57</td>\n",
       "      <td>4.7</td>\n",
       "      <td>8476</td>\n",
       "      <td>8.48</td>\n",
       "      <td>2522.5</td>\n",
       "      <td>2.52</td>\n",
       "      <td>Argentina</td>\n",
       "      <td>0.845</td>\n",
       "    </tr>\n",
       "    <tr>\n",
       "      <th>4</th>\n",
       "      <td>Armenia</td>\n",
       "      <td>4.832</td>\n",
       "      <td>0.01</td>\n",
       "      <td>1.6</td>\n",
       "      <td>4266</td>\n",
       "      <td>4.27</td>\n",
       "      <td>1290.5</td>\n",
       "      <td>1.29</td>\n",
       "      <td>Armenia</td>\n",
       "      <td>0.776</td>\n",
       "    </tr>\n",
       "    <tr>\n",
       "      <th>...</th>\n",
       "      <td>...</td>\n",
       "      <td>...</td>\n",
       "      <td>...</td>\n",
       "      <td>...</td>\n",
       "      <td>...</td>\n",
       "      <td>...</td>\n",
       "      <td>...</td>\n",
       "      <td>...</td>\n",
       "      <td>...</td>\n",
       "      <td>...</td>\n",
       "    </tr>\n",
       "    <tr>\n",
       "      <th>124</th>\n",
       "      <td>Venezuela</td>\n",
       "      <td>145.877</td>\n",
       "      <td>0.39</td>\n",
       "      <td>4.6</td>\n",
       "      <td>3740</td>\n",
       "      <td>3.74</td>\n",
       "      <td>3023.9</td>\n",
       "      <td>3.02</td>\n",
       "      <td>Venezuela</td>\n",
       "      <td>0.711</td>\n",
       "    </tr>\n",
       "    <tr>\n",
       "      <th>125</th>\n",
       "      <td>Vietnam</td>\n",
       "      <td>218.729</td>\n",
       "      <td>0.59</td>\n",
       "      <td>2.3</td>\n",
       "      <td>2786</td>\n",
       "      <td>2.79</td>\n",
       "      <td>888.9</td>\n",
       "      <td>0.89</td>\n",
       "      <td>Vietnam</td>\n",
       "      <td>0.704</td>\n",
       "    </tr>\n",
       "    <tr>\n",
       "      <th>126</th>\n",
       "      <td>Yemen</td>\n",
       "      <td>12.503</td>\n",
       "      <td>0.03</td>\n",
       "      <td>0.4</td>\n",
       "      <td>937</td>\n",
       "      <td>0.94</td>\n",
       "      <td>431.0</td>\n",
       "      <td>0.43</td>\n",
       "      <td>Yemen</td>\n",
       "      <td>0.470</td>\n",
       "    </tr>\n",
       "    <tr>\n",
       "      <th>127</th>\n",
       "      <td>Zambia</td>\n",
       "      <td>4.967</td>\n",
       "      <td>0.01</td>\n",
       "      <td>0.3</td>\n",
       "      <td>985</td>\n",
       "      <td>0.99</td>\n",
       "      <td>840.7</td>\n",
       "      <td>0.84</td>\n",
       "      <td>Zambia</td>\n",
       "      <td>0.584</td>\n",
       "    </tr>\n",
       "    <tr>\n",
       "      <th>128</th>\n",
       "      <td>Zimbabwe</td>\n",
       "      <td>12.087</td>\n",
       "      <td>0.03</td>\n",
       "      <td>0.7</td>\n",
       "      <td>1466</td>\n",
       "      <td>1.47</td>\n",
       "      <td>1008.6</td>\n",
       "      <td>1.01</td>\n",
       "      <td>Zimbabwe</td>\n",
       "      <td>0.571</td>\n",
       "    </tr>\n",
       "  </tbody>\n",
       "</table>\n",
       "<p>129 rows × 10 columns</p>\n",
       "</div>"
      ],
      "text/plain": [
       "       Country  2017CO2Emissions  PercentofWorldEmissions  PerCapitaEmissions  \\\n",
       "0      Albania             5.026                     0.01                 1.7   \n",
       "1      Algeria           159.929                     0.43                 3.9   \n",
       "2       Angola            30.876                     0.08                 1.0   \n",
       "3    Argentina           209.968                     0.57                 4.7   \n",
       "4      Armenia             4.832                     0.01                 1.6   \n",
       "..         ...               ...                      ...                 ...   \n",
       "124  Venezuela           145.877                     0.39                 4.6   \n",
       "125    Vietnam           218.729                     0.59                 2.3   \n",
       "126      Yemen            12.503                     0.03                 0.4   \n",
       "127     Zambia             4.967                     0.01                 0.3   \n",
       "128   Zimbabwe            12.087                     0.03                 0.7   \n",
       "\n",
       "     GDP(US$Million)  PerCapitaGDP(Thousands)  \\\n",
       "0               5181                     5.18   \n",
       "1               3368                     3.37   \n",
       "2               1896                     1.90   \n",
       "3               8476                     8.48   \n",
       "4               4266                     4.27   \n",
       "..               ...                      ...   \n",
       "124             3740                     3.74   \n",
       "125             2786                     2.79   \n",
       "126              937                     0.94   \n",
       "127              985                     0.99   \n",
       "128             1466                     1.47   \n",
       "\n",
       "     EnergyConsumptionPerCapita(Watts)  KilowattsPerCapita     Nation    HDI  \n",
       "0                               1065.9                1.07    Albania  0.795  \n",
       "1                               1658.9                1.66    Algeria  0.748  \n",
       "2                                871.9                0.87     Angola  0.581  \n",
       "3                               2522.5                2.52  Argentina  0.845  \n",
       "4                               1290.5                1.29    Armenia  0.776  \n",
       "..                                 ...                 ...        ...    ...  \n",
       "124                             3023.9                3.02  Venezuela  0.711  \n",
       "125                              888.9                0.89    Vietnam  0.704  \n",
       "126                              431.0                0.43      Yemen  0.470  \n",
       "127                              840.7                0.84     Zambia  0.584  \n",
       "128                             1008.6                1.01   Zimbabwe  0.571  \n",
       "\n",
       "[129 rows x 10 columns]"
      ]
     },
     "execution_count": 72,
     "metadata": {},
     "output_type": "execute_result"
    }
   ],
   "source": [
    "allData"
   ]
  },
  {
   "cell_type": "code",
   "execution_count": 73,
   "id": "09586835",
   "metadata": {},
   "outputs": [],
   "source": [
    "allData.to_csv('FinalData.csv',index=False)"
   ]
  },
  {
   "cell_type": "code",
   "execution_count": null,
   "id": "ee1709c1",
   "metadata": {},
   "outputs": [],
   "source": []
  }
 ],
 "metadata": {
  "kernelspec": {
   "display_name": "Python 3 (ipykernel)",
   "language": "python",
   "name": "python3"
  },
  "language_info": {
   "codemirror_mode": {
    "name": "ipython",
    "version": 3
   },
   "file_extension": ".py",
   "mimetype": "text/x-python",
   "name": "python",
   "nbconvert_exporter": "python",
   "pygments_lexer": "ipython3",
   "version": "3.9.7"
  }
 },
 "nbformat": 4,
 "nbformat_minor": 5
}
