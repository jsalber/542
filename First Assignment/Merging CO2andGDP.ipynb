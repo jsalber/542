{
 "cells": [
  {
   "cell_type": "code",
   "execution_count": 1,
   "id": "04ef9c15",
   "metadata": {},
   "outputs": [],
   "source": [
    "import pandas as pd\n",
    "linkDataGDP=\"https://raw.githubusercontent.com/jsalber/542/main/First%20Assignment/GDP%20Data.csv\"\n",
    "linkDataCO2=\"https://raw.githubusercontent.com/jsalber/542/main/First%20Assignment/co2.csv\"\n",
    "DataGDP=pd.read_csv(linkDataGDP)\n",
    "DataCO2=pd.read_csv(linkDataCO2)"
   ]
  },
  {
   "cell_type": "code",
   "execution_count": 2,
   "id": "666a879f",
   "metadata": {},
   "outputs": [
    {
     "data": {
      "text/plain": [
       "Index(['CountryOrTerritory', 'GDP(US$Million)'], dtype='object')"
      ]
     },
     "execution_count": 2,
     "metadata": {},
     "output_type": "execute_result"
    }
   ],
   "source": [
    "DataGDP.columns"
   ]
  },
  {
   "cell_type": "code",
   "execution_count": 3,
   "id": "3065533b",
   "metadata": {},
   "outputs": [
    {
     "data": {
      "text/plain": [
       "Index(['Country', '2017CO2Emissions', 'PercentofWorldEmissions',\n",
       "       'PerCapitaEmissions'],\n",
       "      dtype='object')"
      ]
     },
     "execution_count": 3,
     "metadata": {},
     "output_type": "execute_result"
    }
   ],
   "source": [
    "DataCO2.columns"
   ]
  },
  {
   "cell_type": "code",
   "execution_count": 4,
   "id": "f158e8f5",
   "metadata": {},
   "outputs": [],
   "source": [
    "allData=DataCO2.merge(DataGDP,left_on=\"Country\",right_on=\"CountryOrTerritory\")"
   ]
  },
  {
   "cell_type": "code",
   "execution_count": 5,
   "id": "a7c8b15d",
   "metadata": {},
   "outputs": [
    {
     "data": {
      "text/plain": [
       "(210, 4)"
      ]
     },
     "execution_count": 5,
     "metadata": {},
     "output_type": "execute_result"
    }
   ],
   "source": [
    "DataCO2.shape"
   ]
  },
  {
   "cell_type": "code",
   "execution_count": 6,
   "id": "afa2802e",
   "metadata": {},
   "outputs": [
    {
     "data": {
      "text/plain": [
       "(190, 6)"
      ]
     },
     "execution_count": 6,
     "metadata": {},
     "output_type": "execute_result"
    }
   ],
   "source": [
    "allData.shape"
   ]
  },
  {
   "cell_type": "code",
   "execution_count": 7,
   "id": "3632b75c",
   "metadata": {},
   "outputs": [],
   "source": [
    "allData=DataCO2.merge(DataGDP,left_on=\"Country\",right_on=\"CountryOrTerritory\",how='outer',indicator='True')"
   ]
  },
  {
   "cell_type": "code",
   "execution_count": 8,
   "id": "42d86794",
   "metadata": {},
   "outputs": [
    {
     "data": {
      "text/plain": [
       "Index(['Country', '2017CO2Emissions', 'PercentofWorldEmissions',\n",
       "       'PerCapitaEmissions', 'CountryOrTerritory', 'GDP(US$Million)', 'True'],\n",
       "      dtype='object')"
      ]
     },
     "execution_count": 8,
     "metadata": {},
     "output_type": "execute_result"
    }
   ],
   "source": [
    "allData.columns"
   ]
  },
  {
   "cell_type": "code",
   "execution_count": 9,
   "id": "8783105a",
   "metadata": {},
   "outputs": [
    {
     "data": {
      "text/plain": [
       "both          190\n",
       "right_only     26\n",
       "left_only      20\n",
       "Name: True, dtype: int64"
      ]
     },
     "execution_count": 9,
     "metadata": {},
     "output_type": "execute_result"
    }
   ],
   "source": [
    "allData['True'].value_counts()"
   ]
  },
  {
   "cell_type": "code",
   "execution_count": 10,
   "id": "169c58ef",
   "metadata": {},
   "outputs": [
    {
     "data": {
      "text/plain": [
       "0                                             World\n",
       "51                 Democratic Republic of the Congo\n",
       "65                                   European Union\n",
       "66                                 Falkland Islands\n",
       "67                                    Faroe Islands\n",
       "70                                    France Monaco\n",
       "71                                    French Guiana\n",
       "77                                        Gibraltar\n",
       "81                                       Guadeloupe\n",
       "97                    Italy San Marino Vatican City\n",
       "122                                      Martinique\n",
       "154                                         Réunion\n",
       "158    Saint Helena, Ascension and Tristan da Cunha\n",
       "161                       Saint Pierre and Miquelon\n",
       "167                             Serbia & Montenegro\n",
       "177                                   Spain Andorra\n",
       "179                               Sudan South Sudan\n",
       "182                       Switzerland Liechtenstein\n",
       "188                                      The Gambia\n",
       "206                                  Western Sahara\n",
       "Name: Country, dtype: object"
      ]
     },
     "execution_count": 10,
     "metadata": {},
     "output_type": "execute_result"
    }
   ],
   "source": [
    "allData[allData['True']=='left_only'].Country"
   ]
  },
  {
   "cell_type": "code",
   "execution_count": 11,
   "id": "ec4fe2bf",
   "metadata": {},
   "outputs": [
    {
     "data": {
      "text/plain": [
       "210                      France\n",
       "211                       Italy\n",
       "212                       Spain\n",
       "213                 Switzerland\n",
       "214                      Serbia\n",
       "215                    DR Congo\n",
       "216                       Sudan\n",
       "217                   Palestine\n",
       "218                      Kosovo\n",
       "219               Liechtenstein\n",
       "220                      Monaco\n",
       "221                        Guam\n",
       "222                  Montenegro\n",
       "223                 South Sudan\n",
       "224                     Andorra\n",
       "225                      Gambia\n",
       "226                  San Marino\n",
       "227                    Zanzibar\n",
       "228    Northern Mariana Islands\n",
       "229                Sint Maarten\n",
       "230              American Samoa\n",
       "231                  Micronesia\n",
       "232            Marshall Islands\n",
       "233                       Nauru\n",
       "234                  Montserrat\n",
       "235                      Tuvalu\n",
       "Name: CountryOrTerritory, dtype: object"
      ]
     },
     "execution_count": 11,
     "metadata": {},
     "output_type": "execute_result"
    }
   ],
   "source": [
    "allData[allData['True']=='right_only'].CountryOrTerritory"
   ]
  },
  {
   "cell_type": "code",
   "execution_count": 12,
   "id": "36cffffa",
   "metadata": {},
   "outputs": [],
   "source": [
    "UnmatchedLeft=allData[allData['True']=='left_only'].Country.to_list()\n",
    "UnmatchedRight=allData[allData['True']=='right_only'].CountryOrTerritory.to_list()"
   ]
  },
  {
   "cell_type": "code",
   "execution_count": 13,
   "id": "35ca0405",
   "metadata": {},
   "outputs": [
    {
     "data": {
      "text/plain": [
       "'World'"
      ]
     },
     "execution_count": 13,
     "metadata": {},
     "output_type": "execute_result"
    }
   ],
   "source": [
    "UnmatchedLeft[0]"
   ]
  },
  {
   "cell_type": "code",
   "execution_count": 14,
   "id": "23484300",
   "metadata": {},
   "outputs": [
    {
     "name": "stderr",
     "output_type": "stream",
     "text": [
      "C:\\Users\\John\\anaconda3\\lib\\site-packages\\thefuzz\\fuzz.py:11: UserWarning: Using slow pure-python SequenceMatcher. Install python-Levenshtein to remove this warning\n",
      "  warnings.warn('Using slow pure-python SequenceMatcher. Install python-Levenshtein to remove this warning')\n"
     ]
    },
    {
     "data": {
      "text/plain": [
       "('Switzerland', 54)"
      ]
     },
     "execution_count": 14,
     "metadata": {},
     "output_type": "execute_result"
    }
   ],
   "source": [
    "from thefuzz import process\n",
    "process.extractOne(UnmatchedLeft[0], UnmatchedRight)"
   ]
  },
  {
   "cell_type": "code",
   "execution_count": 15,
   "id": "488acb73",
   "metadata": {},
   "outputs": [
    {
     "data": {
      "text/plain": [
       "[('Switzerland', 54),\n",
       " ('Northern Mariana Islands', 36),\n",
       " ('Marshall Islands', 36)]"
      ]
     },
     "execution_count": 15,
     "metadata": {},
     "output_type": "execute_result"
    }
   ],
   "source": [
    "process.extract(UnmatchedLeft[0], UnmatchedRight,limit=3)"
   ]
  },
  {
   "cell_type": "code",
   "execution_count": 16,
   "id": "f79fd4cc",
   "metadata": {},
   "outputs": [
    {
     "data": {
      "text/plain": [
       "['World',\n",
       " 'Democratic Republic of the Congo',\n",
       " 'European Union',\n",
       " 'Falkland Islands',\n",
       " 'Faroe Islands',\n",
       " 'France\\xa0Monaco',\n",
       " 'French Guiana',\n",
       " 'Gibraltar',\n",
       " 'Guadeloupe',\n",
       " 'Italy\\xa0San Marino Vatican City',\n",
       " 'Martinique',\n",
       " 'Réunion',\n",
       " 'Saint Helena, Ascension and Tristan da Cunha',\n",
       " 'Saint Pierre and Miquelon',\n",
       " 'Serbia & Montenegro',\n",
       " 'Spain\\xa0Andorra',\n",
       " 'Sudan\\xa0South Sudan',\n",
       " 'Switzerland\\xa0Liechtenstein',\n",
       " 'The Gambia',\n",
       " 'Western Sahara']"
      ]
     },
     "execution_count": 16,
     "metadata": {},
     "output_type": "execute_result"
    }
   ],
   "source": [
    "UnmatchedLeft=allData[allData['True']=='left_only'].Country.to_list()\n",
    "UnmatchedLeft"
   ]
  },
  {
   "cell_type": "code",
   "execution_count": 17,
   "id": "91275f2e",
   "metadata": {},
   "outputs": [
    {
     "data": {
      "text/plain": [
       "[('Democratic Republic of the Congo', ('DR Congo', 86)),\n",
       " ('European Union', ('Spain', 54)),\n",
       " ('Falkland Islands', ('Northern Mariana Islands', 86)),\n",
       " ('Faroe Islands', ('Northern Mariana Islands', 86)),\n",
       " ('France\\xa0Monaco', ('France', 90)),\n",
       " ('French Guiana', ('Guam', 68)),\n",
       " ('Gibraltar', ('Italy', 54)),\n",
       " ('Guadeloupe', ('Guam', 68)),\n",
       " ('Italy\\xa0San Marino Vatican City', ('Italy', 90)),\n",
       " ('Martinique', ('Spain', 54)),\n",
       " ('Réunion', ('San Marino', 54)),\n",
       " ('Saint Helena, Ascension and Tristan da Cunha', ('Sint Maarten', 52)),\n",
       " ('Saint Pierre and Miquelon', ('Spain', 72)),\n",
       " ('Serbia & Montenegro', ('Serbia', 90)),\n",
       " ('Spain\\xa0Andorra', ('Spain', 90)),\n",
       " ('Sudan\\xa0South Sudan', ('Sudan', 90)),\n",
       " ('Switzerland\\xa0Liechtenstein', ('Switzerland', 90)),\n",
       " ('The Gambia', ('Gambia', 90)),\n",
       " ('Western Sahara', ('Northern Mariana Islands', 51)),\n",
       " ('World', ('Switzerland', 54))]"
      ]
     },
     "execution_count": 17,
     "metadata": {},
     "output_type": "execute_result"
    }
   ],
   "source": [
    "[(left, process.extractOne(left, UnmatchedRight)) for left in sorted(UnmatchedLeft)]"
   ]
  },
  {
   "cell_type": "code",
   "execution_count": 18,
   "id": "6389e39e",
   "metadata": {},
   "outputs": [],
   "source": [
    "TotallyWrong=[('European Union', ('Spain', 54)),\n",
    " ('Falkland Islands', ('Northern Mariana Islands', 86)),\n",
    " ('Faroe Islands', ('Northern Mariana Islands', 86)),\n",
    " ('France\\xa0Monaco', ('France', 90)),\n",
    " ('French Guiana', ('Guam', 68)),\n",
    " ('Gibraltar', ('Italy', 54)),\n",
    " ('Guadeloupe', ('Guam', 68)),\n",
    " ('Italy\\xa0San Marino Vatican City', ('Italy', 90)),\n",
    " ('Martinique', ('Spain', 54)),\n",
    " ('Réunion', ('San Marino', 54)),\n",
    " ('Saint Helena, Ascension and Tristan da Cunha', ('Sint Maarten', 52)),\n",
    " ('Saint Pierre and Miquelon', ('Spain', 72)),\n",
    " ('Serbia & Montenegro', ('Serbia', 90)),\n",
    " ('Spain\\xa0Andorra', ('Spain', 90)),\n",
    " ('Sudan\\xa0South Sudan', ('Sudan', 90)), ('Western Sahara', ('Northern Mariana Islands', 51)),\n",
    " ('World', ('Switzerland', 54))]"
   ]
  },
  {
   "cell_type": "code",
   "execution_count": 19,
   "id": "8de49d16",
   "metadata": {},
   "outputs": [
    {
     "data": {
      "text/plain": [
       "['European Union',\n",
       " 'Falkland Islands',\n",
       " 'Faroe Islands',\n",
       " 'France\\xa0Monaco',\n",
       " 'French Guiana',\n",
       " 'Gibraltar',\n",
       " 'Guadeloupe',\n",
       " 'Italy\\xa0San Marino Vatican City',\n",
       " 'Martinique',\n",
       " 'Réunion',\n",
       " 'Saint Helena, Ascension and Tristan da Cunha',\n",
       " 'Saint Pierre and Miquelon',\n",
       " 'Serbia & Montenegro',\n",
       " 'Spain\\xa0Andorra',\n",
       " 'Sudan\\xa0South Sudan',\n",
       " 'Western Sahara',\n",
       " 'World']"
      ]
     },
     "execution_count": 19,
     "metadata": {},
     "output_type": "execute_result"
    }
   ],
   "source": [
    "omitLeft=[leftName for (leftName,rightFuzzy) in TotallyWrong] #parenthesis not needed\n",
    "omitLeft"
   ]
  },
  {
   "cell_type": "code",
   "execution_count": 20,
   "id": "86dd6668",
   "metadata": {},
   "outputs": [
    {
     "data": {
      "text/plain": [
       "{'DR Congo': 'Democratic Republic of the Congo',\n",
       " 'Switzerland': 'Switzerland\\xa0Liechtenstein',\n",
       " 'Gambia': 'The Gambia'}"
      ]
     },
     "execution_count": 20,
     "metadata": {},
     "output_type": "execute_result"
    }
   ],
   "source": [
    "{process.extractOne(left, UnmatchedRight)[0]:left for left in UnmatchedLeft if left not in omitLeft}"
   ]
  },
  {
   "cell_type": "code",
   "execution_count": 21,
   "id": "9963c55e",
   "metadata": {},
   "outputs": [],
   "source": [
    "changesRight={process.extractOne(left, UnmatchedRight)[0]:left for left in UnmatchedLeft if left not in omitLeft}\n",
    "DataGDP.CountryOrTerritory.replace(changesRight,inplace=True)"
   ]
  },
  {
   "cell_type": "code",
   "execution_count": 22,
   "id": "81a09ed7",
   "metadata": {},
   "outputs": [],
   "source": [
    "bruteForceChanges={'DR Congo': 'Democratic Republic of the Congo',\n",
    " 'Switzerland': 'Switzerland\\xa0Liechtenstein',\n",
    " 'Gambia': 'The Gambia'}"
   ]
  },
  {
   "cell_type": "code",
   "execution_count": 23,
   "id": "d2435155",
   "metadata": {},
   "outputs": [],
   "source": [
    "DataGDP.CountryOrTerritory.replace(bruteForceChanges,inplace=True)"
   ]
  },
  {
   "cell_type": "code",
   "execution_count": 24,
   "id": "307fcc54",
   "metadata": {},
   "outputs": [
    {
     "data": {
      "text/plain": [
       "(193, 6)"
      ]
     },
     "execution_count": 24,
     "metadata": {},
     "output_type": "execute_result"
    }
   ],
   "source": [
    "allData=DataCO2.merge(DataGDP,left_on=\"Country\",right_on=\"CountryOrTerritory\")\n",
    "allData.shape"
   ]
  },
  {
   "cell_type": "code",
   "execution_count": 25,
   "id": "494f22d2",
   "metadata": {},
   "outputs": [
    {
     "data": {
      "text/html": [
       "<div>\n",
       "<style scoped>\n",
       "    .dataframe tbody tr th:only-of-type {\n",
       "        vertical-align: middle;\n",
       "    }\n",
       "\n",
       "    .dataframe tbody tr th {\n",
       "        vertical-align: top;\n",
       "    }\n",
       "\n",
       "    .dataframe thead th {\n",
       "        text-align: right;\n",
       "    }\n",
       "</style>\n",
       "<table border=\"1\" class=\"dataframe\">\n",
       "  <thead>\n",
       "    <tr style=\"text-align: right;\">\n",
       "      <th></th>\n",
       "      <th>Country</th>\n",
       "      <th>2017CO2Emissions</th>\n",
       "      <th>PercentofWorldEmissions</th>\n",
       "      <th>PerCapitaEmissions</th>\n",
       "      <th>CountryOrTerritory</th>\n",
       "      <th>GDP(US$Million)</th>\n",
       "    </tr>\n",
       "  </thead>\n",
       "  <tbody>\n",
       "    <tr>\n",
       "      <th>0</th>\n",
       "      <td>Afghanistan</td>\n",
       "      <td>11.422</td>\n",
       "      <td>0.03%</td>\n",
       "      <td>0.3</td>\n",
       "      <td>Afghanistan</td>\n",
       "      <td>19793.0</td>\n",
       "    </tr>\n",
       "    <tr>\n",
       "      <th>1</th>\n",
       "      <td>Albania</td>\n",
       "      <td>5.026</td>\n",
       "      <td>0.01%</td>\n",
       "      <td>1.7</td>\n",
       "      <td>Albania</td>\n",
       "      <td>14910.0</td>\n",
       "    </tr>\n",
       "    <tr>\n",
       "      <th>2</th>\n",
       "      <td>Algeria</td>\n",
       "      <td>159.929</td>\n",
       "      <td>0.43%</td>\n",
       "      <td>3.9</td>\n",
       "      <td>Algeria</td>\n",
       "      <td>147689.0</td>\n",
       "    </tr>\n",
       "    <tr>\n",
       "      <th>3</th>\n",
       "      <td>Angola</td>\n",
       "      <td>30.876</td>\n",
       "      <td>0.08%</td>\n",
       "      <td>1.0</td>\n",
       "      <td>Angola</td>\n",
       "      <td>62307.0</td>\n",
       "    </tr>\n",
       "    <tr>\n",
       "      <th>4</th>\n",
       "      <td>Anguilla</td>\n",
       "      <td>0.028</td>\n",
       "      <td>0.00%</td>\n",
       "      <td>1.9</td>\n",
       "      <td>Anguilla</td>\n",
       "      <td>258.0</td>\n",
       "    </tr>\n",
       "    <tr>\n",
       "      <th>...</th>\n",
       "      <td>...</td>\n",
       "      <td>...</td>\n",
       "      <td>...</td>\n",
       "      <td>...</td>\n",
       "      <td>...</td>\n",
       "      <td>...</td>\n",
       "    </tr>\n",
       "    <tr>\n",
       "      <th>188</th>\n",
       "      <td>Venezuela</td>\n",
       "      <td>145.877</td>\n",
       "      <td>0.39%</td>\n",
       "      <td>4.6</td>\n",
       "      <td>Venezuela</td>\n",
       "      <td>106359.0</td>\n",
       "    </tr>\n",
       "    <tr>\n",
       "      <th>189</th>\n",
       "      <td>Vietnam</td>\n",
       "      <td>218.729</td>\n",
       "      <td>0.59%</td>\n",
       "      <td>2.3</td>\n",
       "      <td>Vietnam</td>\n",
       "      <td>271158.0</td>\n",
       "    </tr>\n",
       "    <tr>\n",
       "      <th>190</th>\n",
       "      <td>Yemen</td>\n",
       "      <td>12.503</td>\n",
       "      <td>0.03%</td>\n",
       "      <td>0.4</td>\n",
       "      <td>Yemen</td>\n",
       "      <td>27958.0</td>\n",
       "    </tr>\n",
       "    <tr>\n",
       "      <th>191</th>\n",
       "      <td>Zambia</td>\n",
       "      <td>4.967</td>\n",
       "      <td>0.01%</td>\n",
       "      <td>0.3</td>\n",
       "      <td>Zambia</td>\n",
       "      <td>18111.0</td>\n",
       "    </tr>\n",
       "    <tr>\n",
       "      <th>192</th>\n",
       "      <td>Zimbabwe</td>\n",
       "      <td>12.087</td>\n",
       "      <td>0.03%</td>\n",
       "      <td>0.7</td>\n",
       "      <td>Zimbabwe</td>\n",
       "      <td>21787.0</td>\n",
       "    </tr>\n",
       "  </tbody>\n",
       "</table>\n",
       "<p>193 rows × 6 columns</p>\n",
       "</div>"
      ],
      "text/plain": [
       "         Country  2017CO2Emissions PercentofWorldEmissions  \\\n",
       "0    Afghanistan            11.422                   0.03%   \n",
       "1        Albania             5.026                   0.01%   \n",
       "2        Algeria           159.929                   0.43%   \n",
       "3         Angola            30.876                   0.08%   \n",
       "4       Anguilla             0.028                   0.00%   \n",
       "..           ...               ...                     ...   \n",
       "188    Venezuela           145.877                   0.39%   \n",
       "189      Vietnam           218.729                   0.59%   \n",
       "190        Yemen            12.503                   0.03%   \n",
       "191       Zambia             4.967                   0.01%   \n",
       "192     Zimbabwe            12.087                   0.03%   \n",
       "\n",
       "     PerCapitaEmissions CountryOrTerritory  GDP(US$Million)  \n",
       "0                   0.3        Afghanistan          19793.0  \n",
       "1                   1.7            Albania          14910.0  \n",
       "2                   3.9            Algeria         147689.0  \n",
       "3                   1.0             Angola          62307.0  \n",
       "4                   1.9           Anguilla            258.0  \n",
       "..                  ...                ...              ...  \n",
       "188                 4.6          Venezuela         106359.0  \n",
       "189                 2.3            Vietnam         271158.0  \n",
       "190                 0.4              Yemen          27958.0  \n",
       "191                 0.3             Zambia          18111.0  \n",
       "192                 0.7           Zimbabwe          21787.0  \n",
       "\n",
       "[193 rows x 6 columns]"
      ]
     },
     "execution_count": 25,
     "metadata": {},
     "output_type": "execute_result"
    }
   ],
   "source": [
    "allData"
   ]
  },
  {
   "cell_type": "code",
   "execution_count": 26,
   "id": "92bfdc7d",
   "metadata": {},
   "outputs": [],
   "source": [
    "allData.drop([\"CountryOrTerritory\"],axis=1,inplace=True)"
   ]
  },
  {
   "cell_type": "code",
   "execution_count": 27,
   "id": "eab2a198",
   "metadata": {},
   "outputs": [
    {
     "data": {
      "text/html": [
       "<div>\n",
       "<style scoped>\n",
       "    .dataframe tbody tr th:only-of-type {\n",
       "        vertical-align: middle;\n",
       "    }\n",
       "\n",
       "    .dataframe tbody tr th {\n",
       "        vertical-align: top;\n",
       "    }\n",
       "\n",
       "    .dataframe thead th {\n",
       "        text-align: right;\n",
       "    }\n",
       "</style>\n",
       "<table border=\"1\" class=\"dataframe\">\n",
       "  <thead>\n",
       "    <tr style=\"text-align: right;\">\n",
       "      <th></th>\n",
       "      <th>Country</th>\n",
       "      <th>2017CO2Emissions</th>\n",
       "      <th>PercentofWorldEmissions</th>\n",
       "      <th>PerCapitaEmissions</th>\n",
       "      <th>GDP(US$Million)</th>\n",
       "    </tr>\n",
       "  </thead>\n",
       "  <tbody>\n",
       "    <tr>\n",
       "      <th>0</th>\n",
       "      <td>Afghanistan</td>\n",
       "      <td>11.422</td>\n",
       "      <td>0.03%</td>\n",
       "      <td>0.3</td>\n",
       "      <td>19793.0</td>\n",
       "    </tr>\n",
       "    <tr>\n",
       "      <th>1</th>\n",
       "      <td>Albania</td>\n",
       "      <td>5.026</td>\n",
       "      <td>0.01%</td>\n",
       "      <td>1.7</td>\n",
       "      <td>14910.0</td>\n",
       "    </tr>\n",
       "    <tr>\n",
       "      <th>2</th>\n",
       "      <td>Algeria</td>\n",
       "      <td>159.929</td>\n",
       "      <td>0.43%</td>\n",
       "      <td>3.9</td>\n",
       "      <td>147689.0</td>\n",
       "    </tr>\n",
       "    <tr>\n",
       "      <th>3</th>\n",
       "      <td>Angola</td>\n",
       "      <td>30.876</td>\n",
       "      <td>0.08%</td>\n",
       "      <td>1.0</td>\n",
       "      <td>62307.0</td>\n",
       "    </tr>\n",
       "    <tr>\n",
       "      <th>4</th>\n",
       "      <td>Anguilla</td>\n",
       "      <td>0.028</td>\n",
       "      <td>0.00%</td>\n",
       "      <td>1.9</td>\n",
       "      <td>258.0</td>\n",
       "    </tr>\n",
       "    <tr>\n",
       "      <th>...</th>\n",
       "      <td>...</td>\n",
       "      <td>...</td>\n",
       "      <td>...</td>\n",
       "      <td>...</td>\n",
       "      <td>...</td>\n",
       "    </tr>\n",
       "    <tr>\n",
       "      <th>188</th>\n",
       "      <td>Venezuela</td>\n",
       "      <td>145.877</td>\n",
       "      <td>0.39%</td>\n",
       "      <td>4.6</td>\n",
       "      <td>106359.0</td>\n",
       "    </tr>\n",
       "    <tr>\n",
       "      <th>189</th>\n",
       "      <td>Vietnam</td>\n",
       "      <td>218.729</td>\n",
       "      <td>0.59%</td>\n",
       "      <td>2.3</td>\n",
       "      <td>271158.0</td>\n",
       "    </tr>\n",
       "    <tr>\n",
       "      <th>190</th>\n",
       "      <td>Yemen</td>\n",
       "      <td>12.503</td>\n",
       "      <td>0.03%</td>\n",
       "      <td>0.4</td>\n",
       "      <td>27958.0</td>\n",
       "    </tr>\n",
       "    <tr>\n",
       "      <th>191</th>\n",
       "      <td>Zambia</td>\n",
       "      <td>4.967</td>\n",
       "      <td>0.01%</td>\n",
       "      <td>0.3</td>\n",
       "      <td>18111.0</td>\n",
       "    </tr>\n",
       "    <tr>\n",
       "      <th>192</th>\n",
       "      <td>Zimbabwe</td>\n",
       "      <td>12.087</td>\n",
       "      <td>0.03%</td>\n",
       "      <td>0.7</td>\n",
       "      <td>21787.0</td>\n",
       "    </tr>\n",
       "  </tbody>\n",
       "</table>\n",
       "<p>193 rows × 5 columns</p>\n",
       "</div>"
      ],
      "text/plain": [
       "         Country  2017CO2Emissions PercentofWorldEmissions  \\\n",
       "0    Afghanistan            11.422                   0.03%   \n",
       "1        Albania             5.026                   0.01%   \n",
       "2        Algeria           159.929                   0.43%   \n",
       "3         Angola            30.876                   0.08%   \n",
       "4       Anguilla             0.028                   0.00%   \n",
       "..           ...               ...                     ...   \n",
       "188    Venezuela           145.877                   0.39%   \n",
       "189      Vietnam           218.729                   0.59%   \n",
       "190        Yemen            12.503                   0.03%   \n",
       "191       Zambia             4.967                   0.01%   \n",
       "192     Zimbabwe            12.087                   0.03%   \n",
       "\n",
       "     PerCapitaEmissions  GDP(US$Million)  \n",
       "0                   0.3          19793.0  \n",
       "1                   1.7          14910.0  \n",
       "2                   3.9         147689.0  \n",
       "3                   1.0          62307.0  \n",
       "4                   1.9            258.0  \n",
       "..                  ...              ...  \n",
       "188                 4.6         106359.0  \n",
       "189                 2.3         271158.0  \n",
       "190                 0.4          27958.0  \n",
       "191                 0.3          18111.0  \n",
       "192                 0.7          21787.0  \n",
       "\n",
       "[193 rows x 5 columns]"
      ]
     },
     "execution_count": 27,
     "metadata": {},
     "output_type": "execute_result"
    }
   ],
   "source": [
    "allData"
   ]
  },
  {
   "cell_type": "code",
   "execution_count": 28,
   "id": "28be3400",
   "metadata": {},
   "outputs": [],
   "source": [
    "allData.to_csv('GDPandCO2.csv',index=False)"
   ]
  },
  {
   "cell_type": "code",
   "execution_count": null,
   "id": "62f0c8e5",
   "metadata": {},
   "outputs": [],
   "source": []
  }
 ],
 "metadata": {
  "kernelspec": {
   "display_name": "Python 3 (ipykernel)",
   "language": "python",
   "name": "python3"
  },
  "language_info": {
   "codemirror_mode": {
    "name": "ipython",
    "version": 3
   },
   "file_extension": ".py",
   "mimetype": "text/x-python",
   "name": "python",
   "nbconvert_exporter": "python",
   "pygments_lexer": "ipython3",
   "version": "3.9.7"
  }
 },
 "nbformat": 4,
 "nbformat_minor": 5
}
