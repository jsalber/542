{
 "cells": [
  {
   "cell_type": "code",
   "execution_count": null,
   "id": "09f36c7c",
   "metadata": {},
   "outputs": [],
   "source": [
    "import pandas as pd\n",
    "linkDataGDP=\"https://raw.githubusercontent.com/jsalber/542/main/First%20Assignment/GDP%20Data.csv\"\n",
    "linkDataGWh=\"https://raw.githubusercontent.com/jsalber/542/main/First%20Assignment/Energy%20Production.csv\"\n",
    "linkDataCO2=\"https://raw.githubusercontent.com/jsalber/542/main/First%20Assignment/co2.csv\"\n",
    "DataGDP=pd.read_csv(linkDataGDP)\n",
    "DataGWh=pd.read_csv(linkDataGWh)\n",
    "DataCO2=pd.read_csv(linkDataCO2)"
   ]
  },
  {
   "cell_type": "code",
   "execution_count": null,
   "id": "49e3a2a9",
   "metadata": {},
   "outputs": [],
   "source": [
    "DataGDP.columns"
   ]
  },
  {
   "cell_type": "code",
   "execution_count": null,
   "id": "2a1b0dc7",
   "metadata": {},
   "outputs": [],
   "source": [
    "DataGWh.columns"
   ]
  },
  {
   "cell_type": "code",
   "execution_count": null,
   "id": "783ec819",
   "metadata": {},
   "outputs": [],
   "source": [
    "DataCO2.columns"
   ]
  },
  {
   "cell_type": "code",
   "execution_count": null,
   "id": "72f3a491",
   "metadata": {},
   "outputs": [],
   "source": [
    "allData=DataCO2.merge(DataGDP,left_on=\"Country\",right_on=\"Country/Territory\")"
   ]
  },
  {
   "cell_type": "code",
   "execution_count": null,
   "id": "27966ec7",
   "metadata": {},
   "outputs": [],
   "source": [
    "DataCO2.shape"
   ]
  },
  {
   "cell_type": "code",
   "execution_count": null,
   "id": "08e9f36c",
   "metadata": {},
   "outputs": [],
   "source": [
    "allData.shape"
   ]
  },
  {
   "cell_type": "code",
   "execution_count": null,
   "id": "ee435ab3",
   "metadata": {},
   "outputs": [],
   "source": [
    "allData=DataCO2.merge(DataGDP,left_on=\"Country\",right_on=\"Country/Territory\",how='outer',indicator='True')"
   ]
  },
  {
   "cell_type": "code",
   "execution_count": null,
   "id": "46da365a",
   "metadata": {},
   "outputs": [],
   "source": [
    "allData.columns"
   ]
  },
  {
   "cell_type": "code",
   "execution_count": null,
   "id": "b2e64972",
   "metadata": {},
   "outputs": [],
   "source": [
    "allData['True'].value_counts()"
   ]
  },
  {
   "cell_type": "code",
   "execution_count": null,
   "id": "556b4614",
   "metadata": {},
   "outputs": [],
   "source": [
    "allData[allData['True']=='left_only'].Country"
   ]
  },
  {
   "cell_type": "code",
   "execution_count": null,
   "id": "086e5efc",
   "metadata": {},
   "outputs": [],
   "source": [
    "allData[allData['True']=='right_only'].Country/Territory"
   ]
  },
  {
   "cell_type": "code",
   "execution_count": null,
   "id": "3ee17ea9",
   "metadata": {},
   "outputs": [],
   "source": []
  }
 ],
 "metadata": {
  "kernelspec": {
   "display_name": "Python 3 (ipykernel)",
   "language": "python",
   "name": "python3"
  },
  "language_info": {
   "codemirror_mode": {
    "name": "ipython",
    "version": 3
   },
   "file_extension": ".py",
   "mimetype": "text/x-python",
   "name": "python",
   "nbconvert_exporter": "python",
   "pygments_lexer": "ipython3",
   "version": "3.9.7"
  }
 },
 "nbformat": 4,
 "nbformat_minor": 5
}
