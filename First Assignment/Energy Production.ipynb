{
 "cells": [
  {
   "cell_type": "code",
   "execution_count": 1,
   "id": "e181fbbf",
   "metadata": {},
   "outputs": [],
   "source": [
    "# importing pandas for the notebook\n",
    "import pandas as pd\n",
    "\n",
    "#link for the tables\n",
    "demoLink=\"https://en.wikipedia.org/wiki/List_of_countries_by_electricity_production\"\n",
    "\n",
    "# fetching the tables\n",
    "demodata=pd.read_html(demoLink,header=0,flavor=\"bs4\",attrs={'class':\"wikitable\"})"
   ]
  },
  {
   "cell_type": "code",
   "execution_count": 2,
   "id": "1ab7c2bf",
   "metadata": {},
   "outputs": [],
   "source": [
    "demoVars=demodata[0].copy()\n"
   ]
  },
  {
   "cell_type": "code",
   "execution_count": 3,
   "id": "d7187812",
   "metadata": {},
   "outputs": [
    {
     "data": {
      "text/html": [
       "<div>\n",
       "<style scoped>\n",
       "    .dataframe tbody tr th:only-of-type {\n",
       "        vertical-align: middle;\n",
       "    }\n",
       "\n",
       "    .dataframe tbody tr th {\n",
       "        vertical-align: top;\n",
       "    }\n",
       "\n",
       "    .dataframe thead th {\n",
       "        text-align: right;\n",
       "    }\n",
       "</style>\n",
       "<table border=\"1\" class=\"dataframe\">\n",
       "  <thead>\n",
       "    <tr style=\"text-align: right;\">\n",
       "      <th></th>\n",
       "      <th>Country</th>\n",
       "      <th>Electricity production.mw-parser-output .nobold{font-weight:normal}(GWh)</th>\n",
       "      <th>Year</th>\n",
       "    </tr>\n",
       "  </thead>\n",
       "  <tbody>\n",
       "    <tr>\n",
       "      <th>0</th>\n",
       "      <td>World</td>\n",
       "      <td>26823200</td>\n",
       "      <td>[1]2020</td>\n",
       "    </tr>\n",
       "    <tr>\n",
       "      <th>1</th>\n",
       "      <td>China</td>\n",
       "      <td>7779100</td>\n",
       "      <td>[1]2020</td>\n",
       "    </tr>\n",
       "    <tr>\n",
       "      <th>2</th>\n",
       "      <td>United States</td>\n",
       "      <td>4286600</td>\n",
       "      <td>[1]2020</td>\n",
       "    </tr>\n",
       "    <tr>\n",
       "      <th>3</th>\n",
       "      <td>India</td>\n",
       "      <td>1560900</td>\n",
       "      <td>[1]2020</td>\n",
       "    </tr>\n",
       "    <tr>\n",
       "      <th>4</th>\n",
       "      <td>Russia</td>\n",
       "      <td>1085400</td>\n",
       "      <td>[1]2020</td>\n",
       "    </tr>\n",
       "  </tbody>\n",
       "</table>\n",
       "</div>"
      ],
      "text/plain": [
       "         Country  \\\n",
       "0          World   \n",
       "1          China   \n",
       "2  United States   \n",
       "3          India   \n",
       "4         Russia   \n",
       "\n",
       "   Electricity production.mw-parser-output .nobold{font-weight:normal}(GWh)  \\\n",
       "0                                           26823200                          \n",
       "1                                            7779100                          \n",
       "2                                            4286600                          \n",
       "3                                            1560900                          \n",
       "4                                            1085400                          \n",
       "\n",
       "      Year  \n",
       "0  [1]2020  \n",
       "1  [1]2020  \n",
       "2  [1]2020  \n",
       "3  [1]2020  \n",
       "4  [1]2020  "
      ]
     },
     "execution_count": 3,
     "metadata": {},
     "output_type": "execute_result"
    }
   ],
   "source": [
    "# first rows\n",
    "demoVars.head()"
   ]
  },
  {
   "cell_type": "code",
   "execution_count": 4,
   "id": "c60a9b44",
   "metadata": {},
   "outputs": [],
   "source": [
    "#column positions to drop\n",
    "whichToDrop=[2]\n",
    "\n",
    "#dropping and updating the data frame\n",
    "demoVars.drop(labels=demoVars.columns[whichToDrop],axis=1,inplace=True)"
   ]
  },
  {
   "cell_type": "code",
   "execution_count": 5,
   "id": "520fadd7",
   "metadata": {},
   "outputs": [
    {
     "data": {
      "text/html": [
       "<div>\n",
       "<style scoped>\n",
       "    .dataframe tbody tr th:only-of-type {\n",
       "        vertical-align: middle;\n",
       "    }\n",
       "\n",
       "    .dataframe tbody tr th {\n",
       "        vertical-align: top;\n",
       "    }\n",
       "\n",
       "    .dataframe thead th {\n",
       "        text-align: right;\n",
       "    }\n",
       "</style>\n",
       "<table border=\"1\" class=\"dataframe\">\n",
       "  <thead>\n",
       "    <tr style=\"text-align: right;\">\n",
       "      <th></th>\n",
       "      <th>Country</th>\n",
       "      <th>Electricity production.mw-parser-output .nobold{font-weight:normal}(GWh)</th>\n",
       "    </tr>\n",
       "  </thead>\n",
       "  <tbody>\n",
       "    <tr>\n",
       "      <th>0</th>\n",
       "      <td>World</td>\n",
       "      <td>26823200</td>\n",
       "    </tr>\n",
       "    <tr>\n",
       "      <th>1</th>\n",
       "      <td>China</td>\n",
       "      <td>7779100</td>\n",
       "    </tr>\n",
       "    <tr>\n",
       "      <th>2</th>\n",
       "      <td>United States</td>\n",
       "      <td>4286600</td>\n",
       "    </tr>\n",
       "    <tr>\n",
       "      <th>3</th>\n",
       "      <td>India</td>\n",
       "      <td>1560900</td>\n",
       "    </tr>\n",
       "    <tr>\n",
       "      <th>4</th>\n",
       "      <td>Russia</td>\n",
       "      <td>1085400</td>\n",
       "    </tr>\n",
       "  </tbody>\n",
       "</table>\n",
       "</div>"
      ],
      "text/plain": [
       "         Country  \\\n",
       "0          World   \n",
       "1          China   \n",
       "2  United States   \n",
       "3          India   \n",
       "4         Russia   \n",
       "\n",
       "   Electricity production.mw-parser-output .nobold{font-weight:normal}(GWh)  \n",
       "0                                           26823200                         \n",
       "1                                            7779100                         \n",
       "2                                            4286600                         \n",
       "3                                            1560900                         \n",
       "4                                            1085400                         "
      ]
     },
     "execution_count": 5,
     "metadata": {},
     "output_type": "execute_result"
    }
   ],
   "source": [
    "# first rows\n",
    "demoVars.head()"
   ]
  },
  {
   "cell_type": "code",
   "execution_count": 7,
   "id": "2625e1a6",
   "metadata": {},
   "outputs": [
    {
     "data": {
      "text/plain": [
       "Index(['Country', 'EnergyOutput(GWH)'], dtype='object')"
      ]
     },
     "execution_count": 7,
     "metadata": {},
     "output_type": "execute_result"
    }
   ],
   "source": [
    "demoVars.columns=demoVars.columns.str.replace(\"Electricity production.mw-parser-output .nobold\\{font-weight:normal\\}\\(GWh\\)\",\"EnergyOutput(GWH)\",regex=True)\n",
    "\n",
    "# current colum names\n",
    "demoVars.columns"
   ]
  },
  {
   "cell_type": "code",
   "execution_count": 8,
   "id": "93fdf994",
   "metadata": {},
   "outputs": [],
   "source": [
    "demoVars.to_csv(\"Energy Production.csv\",index=False)"
   ]
  },
  {
   "cell_type": "code",
   "execution_count": null,
   "id": "9b647e1d",
   "metadata": {},
   "outputs": [],
   "source": []
  }
 ],
 "metadata": {
  "kernelspec": {
   "display_name": "Python 3 (ipykernel)",
   "language": "python",
   "name": "python3"
  },
  "language_info": {
   "codemirror_mode": {
    "name": "ipython",
    "version": 3
   },
   "file_extension": ".py",
   "mimetype": "text/x-python",
   "name": "python",
   "nbconvert_exporter": "python",
   "pygments_lexer": "ipython3",
   "version": "3.9.7"
  }
 },
 "nbformat": 4,
 "nbformat_minor": 5
}
