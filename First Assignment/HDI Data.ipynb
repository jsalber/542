{
 "cells": [
  {
   "cell_type": "code",
   "execution_count": 8,
   "id": "ae0d084b",
   "metadata": {},
   "outputs": [],
   "source": [
    "# importing pandas for the notebook\n",
    "import pandas as pd\n",
    "\n",
    "#link for the tables\n",
    "demoLink=\"https://en.wikipedia.org/wiki/List_of_countries_by_Human_Development_Index\"\n",
    "\n",
    "# fetching the tables\n",
    "demodata=pd.read_html(demoLink,header=1,flavor=\"bs4\",attrs={'class':\"wikitable\"})"
   ]
  },
  {
   "cell_type": "code",
   "execution_count": 9,
   "id": "9089bcfd",
   "metadata": {},
   "outputs": [],
   "source": [
    "demoVars=demodata[0].copy()"
   ]
  },
  {
   "cell_type": "code",
   "execution_count": 10,
   "id": "ec9d4b34",
   "metadata": {},
   "outputs": [
    {
     "data": {
      "text/html": [
       "<div>\n",
       "<style scoped>\n",
       "    .dataframe tbody tr th:only-of-type {\n",
       "        vertical-align: middle;\n",
       "    }\n",
       "\n",
       "    .dataframe tbody tr th {\n",
       "        vertical-align: top;\n",
       "    }\n",
       "\n",
       "    .dataframe thead th {\n",
       "        text-align: right;\n",
       "    }\n",
       "</style>\n",
       "<table border=\"1\" class=\"dataframe\">\n",
       "  <thead>\n",
       "    <tr style=\"text-align: right;\">\n",
       "      <th></th>\n",
       "      <th>2019 data (2020 report)​[2]</th>\n",
       "      <th>Change over 5 years (2014)​[18]</th>\n",
       "      <th>Nation</th>\n",
       "      <th>2019 data (2020 report)​[2].1</th>\n",
       "      <th>Average annual growth (2010–2019)​[18]</th>\n",
       "    </tr>\n",
       "  </thead>\n",
       "  <tbody>\n",
       "    <tr>\n",
       "      <th>0</th>\n",
       "      <td>1</td>\n",
       "      <td>NaN</td>\n",
       "      <td>Norway</td>\n",
       "      <td>0.957</td>\n",
       "      <td>0.20%</td>\n",
       "    </tr>\n",
       "    <tr>\n",
       "      <th>1</th>\n",
       "      <td>2</td>\n",
       "      <td>(7)</td>\n",
       "      <td>Ireland</td>\n",
       "      <td>0.955</td>\n",
       "      <td>0.65%</td>\n",
       "    </tr>\n",
       "    <tr>\n",
       "      <th>2</th>\n",
       "      <td>2</td>\n",
       "      <td>NaN</td>\n",
       "      <td>Switzerland</td>\n",
       "      <td>0.955</td>\n",
       "      <td>0.16%</td>\n",
       "    </tr>\n",
       "    <tr>\n",
       "      <th>3</th>\n",
       "      <td>4</td>\n",
       "      <td>(7)</td>\n",
       "      <td>Hong Kong</td>\n",
       "      <td>0.949</td>\n",
       "      <td>0.54%</td>\n",
       "    </tr>\n",
       "    <tr>\n",
       "      <th>4</th>\n",
       "      <td>4</td>\n",
       "      <td>(4)</td>\n",
       "      <td>Iceland</td>\n",
       "      <td>0.949</td>\n",
       "      <td>0.62%</td>\n",
       "    </tr>\n",
       "  </tbody>\n",
       "</table>\n",
       "</div>"
      ],
      "text/plain": [
       "   2019 data (2020 report)​[2] Change over 5 years (2014)​[18]       Nation  \\\n",
       "0                            1                             NaN       Norway   \n",
       "1                            2                             (7)      Ireland   \n",
       "2                            2                             NaN  Switzerland   \n",
       "3                            4                             (7)    Hong Kong   \n",
       "4                            4                             (4)      Iceland   \n",
       "\n",
       "   2019 data (2020 report)​[2].1 Average annual growth (2010–2019)​[18]  \n",
       "0                          0.957                                  0.20%  \n",
       "1                          0.955                                  0.65%  \n",
       "2                          0.955                                  0.16%  \n",
       "3                          0.949                                  0.54%  \n",
       "4                          0.949                                  0.62%  "
      ]
     },
     "execution_count": 10,
     "metadata": {},
     "output_type": "execute_result"
    }
   ],
   "source": [
    "# first rows\n",
    "demoVars.head()"
   ]
  },
  {
   "cell_type": "code",
   "execution_count": 11,
   "id": "99a9a105",
   "metadata": {},
   "outputs": [],
   "source": [
    "#column positions to drop\n",
    "whichToDrop=[0,1]\n",
    "\n",
    "#dropping and updating the data frame\n",
    "demoVars.drop(labels=demoVars.columns[whichToDrop],axis=1,inplace=True)"
   ]
  },
  {
   "cell_type": "code",
   "execution_count": 12,
   "id": "bcbb7a36",
   "metadata": {},
   "outputs": [
    {
     "data": {
      "text/html": [
       "<div>\n",
       "<style scoped>\n",
       "    .dataframe tbody tr th:only-of-type {\n",
       "        vertical-align: middle;\n",
       "    }\n",
       "\n",
       "    .dataframe tbody tr th {\n",
       "        vertical-align: top;\n",
       "    }\n",
       "\n",
       "    .dataframe thead th {\n",
       "        text-align: right;\n",
       "    }\n",
       "</style>\n",
       "<table border=\"1\" class=\"dataframe\">\n",
       "  <thead>\n",
       "    <tr style=\"text-align: right;\">\n",
       "      <th></th>\n",
       "      <th>Nation</th>\n",
       "      <th>2019 data (2020 report)​[2].1</th>\n",
       "      <th>Average annual growth (2010–2019)​[18]</th>\n",
       "    </tr>\n",
       "  </thead>\n",
       "  <tbody>\n",
       "    <tr>\n",
       "      <th>0</th>\n",
       "      <td>Norway</td>\n",
       "      <td>0.957</td>\n",
       "      <td>0.20%</td>\n",
       "    </tr>\n",
       "    <tr>\n",
       "      <th>1</th>\n",
       "      <td>Ireland</td>\n",
       "      <td>0.955</td>\n",
       "      <td>0.65%</td>\n",
       "    </tr>\n",
       "    <tr>\n",
       "      <th>2</th>\n",
       "      <td>Switzerland</td>\n",
       "      <td>0.955</td>\n",
       "      <td>0.16%</td>\n",
       "    </tr>\n",
       "    <tr>\n",
       "      <th>3</th>\n",
       "      <td>Hong Kong</td>\n",
       "      <td>0.949</td>\n",
       "      <td>0.54%</td>\n",
       "    </tr>\n",
       "    <tr>\n",
       "      <th>4</th>\n",
       "      <td>Iceland</td>\n",
       "      <td>0.949</td>\n",
       "      <td>0.62%</td>\n",
       "    </tr>\n",
       "  </tbody>\n",
       "</table>\n",
       "</div>"
      ],
      "text/plain": [
       "        Nation  2019 data (2020 report)​[2].1  \\\n",
       "0       Norway                          0.957   \n",
       "1      Ireland                          0.955   \n",
       "2  Switzerland                          0.955   \n",
       "3    Hong Kong                          0.949   \n",
       "4      Iceland                          0.949   \n",
       "\n",
       "  Average annual growth (2010–2019)​[18]  \n",
       "0                                  0.20%  \n",
       "1                                  0.65%  \n",
       "2                                  0.16%  \n",
       "3                                  0.54%  \n",
       "4                                  0.62%  "
      ]
     },
     "execution_count": 12,
     "metadata": {},
     "output_type": "execute_result"
    }
   ],
   "source": [
    "# first rows\n",
    "demoVars.head()"
   ]
  },
  {
   "cell_type": "code",
   "execution_count": 13,
   "id": "25dfb54a",
   "metadata": {},
   "outputs": [],
   "source": [
    "whichToDrop=[2]\n",
    "\n",
    "#dropping and updating the data frame\n",
    "demoVars.drop(labels=demoVars.columns[whichToDrop],axis=1,inplace=True)"
   ]
  },
  {
   "cell_type": "code",
   "execution_count": 14,
   "id": "4ac660a4",
   "metadata": {},
   "outputs": [
    {
     "data": {
      "text/html": [
       "<div>\n",
       "<style scoped>\n",
       "    .dataframe tbody tr th:only-of-type {\n",
       "        vertical-align: middle;\n",
       "    }\n",
       "\n",
       "    .dataframe tbody tr th {\n",
       "        vertical-align: top;\n",
       "    }\n",
       "\n",
       "    .dataframe thead th {\n",
       "        text-align: right;\n",
       "    }\n",
       "</style>\n",
       "<table border=\"1\" class=\"dataframe\">\n",
       "  <thead>\n",
       "    <tr style=\"text-align: right;\">\n",
       "      <th></th>\n",
       "      <th>Nation</th>\n",
       "      <th>2019 data (2020 report)​[2].1</th>\n",
       "    </tr>\n",
       "  </thead>\n",
       "  <tbody>\n",
       "    <tr>\n",
       "      <th>0</th>\n",
       "      <td>Norway</td>\n",
       "      <td>0.957</td>\n",
       "    </tr>\n",
       "    <tr>\n",
       "      <th>1</th>\n",
       "      <td>Ireland</td>\n",
       "      <td>0.955</td>\n",
       "    </tr>\n",
       "    <tr>\n",
       "      <th>2</th>\n",
       "      <td>Switzerland</td>\n",
       "      <td>0.955</td>\n",
       "    </tr>\n",
       "    <tr>\n",
       "      <th>3</th>\n",
       "      <td>Hong Kong</td>\n",
       "      <td>0.949</td>\n",
       "    </tr>\n",
       "    <tr>\n",
       "      <th>4</th>\n",
       "      <td>Iceland</td>\n",
       "      <td>0.949</td>\n",
       "    </tr>\n",
       "  </tbody>\n",
       "</table>\n",
       "</div>"
      ],
      "text/plain": [
       "        Nation  2019 data (2020 report)​[2].1\n",
       "0       Norway                          0.957\n",
       "1      Ireland                          0.955\n",
       "2  Switzerland                          0.955\n",
       "3    Hong Kong                          0.949\n",
       "4      Iceland                          0.949"
      ]
     },
     "execution_count": 14,
     "metadata": {},
     "output_type": "execute_result"
    }
   ],
   "source": [
    "# first rows\n",
    "demoVars.head()"
   ]
  },
  {
   "cell_type": "code",
   "execution_count": 16,
   "id": "df9d7401",
   "metadata": {},
   "outputs": [
    {
     "data": {
      "text/plain": [
       "'2019data(2020report)\\u200b[2].1'"
      ]
     },
     "execution_count": 16,
     "metadata": {},
     "output_type": "execute_result"
    }
   ],
   "source": [
    "import re\n",
    "re.sub(\"\\s\",\"\",demoVars.columns[1])"
   ]
  },
  {
   "cell_type": "code",
   "execution_count": 22,
   "id": "d5e0270d",
   "metadata": {},
   "outputs": [
    {
     "data": {
      "text/plain": [
       "Index(['Nation', 'HDI'], dtype='object')"
      ]
     },
     "execution_count": 22,
     "metadata": {},
     "output_type": "execute_result"
    }
   ],
   "source": [
    "demoVars.columns=demoVars.columns.str.replace(\"2019 data \\(2020 report\\)​\\[2].1\",\"HDI\",regex=True)\n",
    "\n",
    "# current colum names\n",
    "demoVars.columns"
   ]
  },
  {
   "cell_type": "code",
   "execution_count": 23,
   "id": "8f14b77d",
   "metadata": {},
   "outputs": [
    {
     "data": {
      "text/html": [
       "<div>\n",
       "<style scoped>\n",
       "    .dataframe tbody tr th:only-of-type {\n",
       "        vertical-align: middle;\n",
       "    }\n",
       "\n",
       "    .dataframe tbody tr th {\n",
       "        vertical-align: top;\n",
       "    }\n",
       "\n",
       "    .dataframe thead th {\n",
       "        text-align: right;\n",
       "    }\n",
       "</style>\n",
       "<table border=\"1\" class=\"dataframe\">\n",
       "  <thead>\n",
       "    <tr style=\"text-align: right;\">\n",
       "      <th></th>\n",
       "      <th>Nation</th>\n",
       "      <th>HDI</th>\n",
       "    </tr>\n",
       "  </thead>\n",
       "  <tbody>\n",
       "    <tr>\n",
       "      <th>0</th>\n",
       "      <td>Norway</td>\n",
       "      <td>0.957</td>\n",
       "    </tr>\n",
       "    <tr>\n",
       "      <th>1</th>\n",
       "      <td>Ireland</td>\n",
       "      <td>0.955</td>\n",
       "    </tr>\n",
       "    <tr>\n",
       "      <th>2</th>\n",
       "      <td>Switzerland</td>\n",
       "      <td>0.955</td>\n",
       "    </tr>\n",
       "    <tr>\n",
       "      <th>3</th>\n",
       "      <td>Hong Kong</td>\n",
       "      <td>0.949</td>\n",
       "    </tr>\n",
       "    <tr>\n",
       "      <th>4</th>\n",
       "      <td>Iceland</td>\n",
       "      <td>0.949</td>\n",
       "    </tr>\n",
       "  </tbody>\n",
       "</table>\n",
       "</div>"
      ],
      "text/plain": [
       "        Nation    HDI\n",
       "0       Norway  0.957\n",
       "1      Ireland  0.955\n",
       "2  Switzerland  0.955\n",
       "3    Hong Kong  0.949\n",
       "4      Iceland  0.949"
      ]
     },
     "execution_count": 23,
     "metadata": {},
     "output_type": "execute_result"
    }
   ],
   "source": [
    "\n",
    "demoVars.head()"
   ]
  },
  {
   "cell_type": "code",
   "execution_count": 15,
   "id": "c8b98060",
   "metadata": {},
   "outputs": [
    {
     "data": {
      "text/html": [
       "<div>\n",
       "<style scoped>\n",
       "    .dataframe tbody tr th:only-of-type {\n",
       "        vertical-align: middle;\n",
       "    }\n",
       "\n",
       "    .dataframe tbody tr th {\n",
       "        vertical-align: top;\n",
       "    }\n",
       "\n",
       "    .dataframe thead th {\n",
       "        text-align: right;\n",
       "    }\n",
       "</style>\n",
       "<table border=\"1\" class=\"dataframe\">\n",
       "  <thead>\n",
       "    <tr style=\"text-align: right;\">\n",
       "      <th></th>\n",
       "      <th>Country</th>\n",
       "      <th>2017CO2Emissions</th>\n",
       "      <th>PercentofWorldEmissions</th>\n",
       "      <th>PerCapitaEmissions</th>\n",
       "    </tr>\n",
       "  </thead>\n",
       "  <tbody>\n",
       "    <tr>\n",
       "      <th>0</th>\n",
       "      <td>World</td>\n",
       "      <td>37077.404</td>\n",
       "      <td>100.00%</td>\n",
       "      <td>4.9</td>\n",
       "    </tr>\n",
       "    <tr>\n",
       "      <th>1</th>\n",
       "      <td>Afghanistan</td>\n",
       "      <td>11.422</td>\n",
       "      <td>0.03%</td>\n",
       "      <td>0.3</td>\n",
       "    </tr>\n",
       "    <tr>\n",
       "      <th>2</th>\n",
       "      <td>Albania</td>\n",
       "      <td>5.026</td>\n",
       "      <td>0.01%</td>\n",
       "      <td>1.7</td>\n",
       "    </tr>\n",
       "    <tr>\n",
       "      <th>3</th>\n",
       "      <td>Algeria</td>\n",
       "      <td>159.929</td>\n",
       "      <td>0.43%</td>\n",
       "      <td>3.9</td>\n",
       "    </tr>\n",
       "    <tr>\n",
       "      <th>4</th>\n",
       "      <td>Angola</td>\n",
       "      <td>30.876</td>\n",
       "      <td>0.08%</td>\n",
       "      <td>1.0</td>\n",
       "    </tr>\n",
       "  </tbody>\n",
       "</table>\n",
       "</div>"
      ],
      "text/plain": [
       "       Country  2017CO2Emissions PercentofWorldEmissions  PerCapitaEmissions\n",
       "0        World         37077.404                 100.00%                 4.9\n",
       "1  Afghanistan            11.422                   0.03%                 0.3\n",
       "2      Albania             5.026                   0.01%                 1.7\n",
       "3      Algeria           159.929                   0.43%                 3.9\n",
       "4       Angola            30.876                   0.08%                 1.0"
      ]
     },
     "execution_count": 15,
     "metadata": {},
     "output_type": "execute_result"
    }
   ],
   "source": [
    "\n",
    "demoVars.head()"
   ]
  },
  {
   "cell_type": "code",
   "execution_count": 16,
   "id": "6f9062a4",
   "metadata": {},
   "outputs": [],
   "source": [
    "demoVars.to_csv(\"co2.csv\",index=False)"
   ]
  },
  {
   "cell_type": "code",
   "execution_count": null,
   "id": "b00999d2",
   "metadata": {},
   "outputs": [],
   "source": []
  }
 ],
 "metadata": {
  "kernelspec": {
   "display_name": "Python 3 (ipykernel)",
   "language": "python",
   "name": "python3"
  },
  "language_info": {
   "codemirror_mode": {
    "name": "ipython",
    "version": 3
   },
   "file_extension": ".py",
   "mimetype": "text/x-python",
   "name": "python",
   "nbconvert_exporter": "python",
   "pygments_lexer": "ipython3",
   "version": "3.9.7"
  }
 },
 "nbformat": 4,
 "nbformat_minor": 5
}
